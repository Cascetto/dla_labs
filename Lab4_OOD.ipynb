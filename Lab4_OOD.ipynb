{
 "cells": [
  {
   "cell_type": "markdown",
   "id": "32e2ac44-45aa-4d2c-9e16-907bf8683659",
   "metadata": {},
   "source": [
    "# Laboratory #4: Adversarial Learning and OOD Detection\n",
    "\n",
    "In this laboratory session we will develop a methodology for detecting OOD samples and measuring the quality of OOD detection. We will also experiment with incorporating adversarial examples during training to render models more robust to adversarial attacks.\n",
    "\n",
    "---\n",
    "## Exercise 1: OOD Detection and Performance Evaluation\n",
    "In this first exercise you will build a simple OOD detection pipeline and implement some performance metrics to evaluate its performance."
   ]
  },
  {
   "cell_type": "markdown",
   "id": "93c02677-b193-4c3b-a5e1-c9c4015b9dc2",
   "metadata": {},
   "source": [
    "### Exercise 1.1: Build a simple OOD detection pipeline\n",
    "\n",
    "Implement an OOD detection pipeline (like in the Flipped Activity notebook) using an ID and an OOD dataset of your choice. Some options:\n",
    "\n",
    "+ CIFAR-10 (ID), Subset of CIFAR-100 (OOD). You will need to wrap CIFAR-100 in some way to select a subset of classes that are *not* in CIFAR-10 (see `torch.utils.data.Subset`).\n",
    "+ Labeled Faces in the Wild (ID), CIFAR-10 or FakeData (OOD). The LfW dataset is available in Scikit-learn (see `sklearn.datasets.fetch_lfw_people`).\n",
    "+ Something else, but if using images keep the images reasonably small!\n",
    "\n",
    "In this exercise your *OOD Detector* should produce a score representing how \"out of distribution\" a test sample is. We will implement some metrics in the next exercise, but for now use the techniques from the flipped activity notebook to judge how well OOD scoring is working (i.e. histograms).\n",
    "\n",
    "**Note**: Make sure you make a validation split of your ID dataset for testing."
   ]
  },
  {
   "cell_type": "code",
   "execution_count": 1,
   "id": "bc06bd79-ac57-473c-9ce0-30c0381ad34f",
   "metadata": {
    "tags": []
   },
   "outputs": [],
   "source": [
    "# Your code here.\n",
    "from torch.utils.data import Dataset, DataLoader, random_split\n",
    "from torchvision.datasets import CIFAR100, CIFAR10\n",
    "from torchvision.transforms import ToTensor, Normalize, Compose\n",
    "import torch\n",
    "from tqdm import tqdm\n",
    "import wandb\n",
    "import torch.nn.functional as F\n",
    "import torch.nn as nn\n",
    "import matplotlib.pyplot as plt\n",
    "\n",
    "device = 'cuda' if torch.cuda.is_available() else 'cpu'"
   ]
  },
  {
   "cell_type": "code",
   "execution_count": 2,
   "id": "8b3b28fa",
   "metadata": {},
   "outputs": [
    {
     "name": "stdout",
     "output_type": "stream",
     "text": [
      "Files already downloaded and verified\n",
      "Files already downloaded and verified\n",
      "Files already downloaded and verified\n"
     ]
    }
   ],
   "source": [
    "class CIFAR100_wrapper(Dataset):\n",
    "\n",
    "    def __init__(self, classes: set[int], get_train: bool = True) -> None:\n",
    "        super().__init__()\n",
    "        self.classes = classes\n",
    "        cifar = CIFAR100(\"~/datasets\", download=get_train, train=get_train, transform=Compose([ToTensor()]))\n",
    "        samples = []\n",
    "        labels = []\n",
    "        for i in range(len(cifar)):\n",
    "            if cifar[i][1] in classes:\n",
    "                samples.append(cifar[i][0])\n",
    "                labels.append(torch.Tensor([cifar[i][1]]).long())\n",
    "        self.data = torch.stack(samples)\n",
    "        self.labels = torch.cat(labels)\n",
    "\n",
    "    def __len__(self): return len(self.labels)\n",
    "\n",
    "    def __getitem__(self, index) -> tuple[torch.Tensor, torch.Tensor]: return self.data[index], self.labels[index]\n",
    "\n",
    "index_id = set(range(20))\n",
    "index_ood = set(range(30, 40))\n",
    "\n",
    "batch_size=64\n",
    "\n",
    "c20 = CIFAR100_wrapper(index_id)\n",
    "c20_train, c20_val = random_split(c20, [0.7, 0.3])\n",
    "c20_test = CIFAR100_wrapper(index_id)\n",
    "c20_ood = CIFAR100_wrapper(index_ood)\n",
    "dl_train = DataLoader(c20_train, batch_size, shuffle=True)\n",
    "dl_val = DataLoader(c20_val, batch_size, shuffle=True)\n",
    "dl_test = DataLoader(c20_test, batch_size, shuffle=True)\n",
    "dl_ood = DataLoader(c20_ood, batch_size, shuffle=True)"
   ]
  },
  {
   "cell_type": "code",
   "execution_count": 3,
   "id": "72dfd807",
   "metadata": {},
   "outputs": [],
   "source": [
    "@torch.no_grad()\n",
    "def ood_test(model, dataloader):\n",
    "    max_logits = []\n",
    "    second_guess = []\n",
    "    for x, _ in dataloader:\n",
    "        x = x.to(device)\n",
    "        logits_sorted, _ = torch.sort(model(x), descending=True)\n",
    "        max_logits.append(logits_sorted[:, 0])\n",
    "        second_guess.append(logits_sorted[:, 1])\n",
    "    max_logits = torch.cat(max_logits)\n",
    "    second_guess = torch.cat(second_guess)\n",
    "    return (max_logits - second_guess)"
   ]
  },
  {
   "cell_type": "markdown",
   "id": "90395410",
   "metadata": {},
   "source": [
    "# Model (note for me: OK)\n",
    "A simple model for classification"
   ]
  },
  {
   "cell_type": "code",
   "execution_count": 4,
   "id": "d7b27afc",
   "metadata": {},
   "outputs": [],
   "source": [
    "class CifarClassifier(nn.Module):\n",
    "\n",
    "    def __init__(self, n_classes) -> None:\n",
    "        super().__init__()\n",
    "\n",
    "        self.conv1 = nn.Conv2d(3, 32, kernel_size=2)\n",
    "        self.dropout1 = nn.Dropout()\n",
    "        self.pool1 = nn.MaxPool2d(kernel_size=2)\n",
    "        self.conv2 = nn.Conv2d(32, 32, kernel_size=2)\n",
    "        self.dropout2 = nn.Dropout()\n",
    "        self.pool2 = nn.MaxPool2d(kernel_size=2)\n",
    "        self.flatten = nn.Flatten()\n",
    "        self.head = nn.Sequential(nn.Linear(784*2, 1000), nn.ReLU(), nn.Linear(1000, n_classes))\n",
    "\n",
    "    def forward(self, X):\n",
    "        X = F.relu(self.dropout1(self.conv1(X)))\n",
    "        X = self.pool1(X)\n",
    "        X = F.relu(self.dropout2(self.conv2(X)))\n",
    "        X = self.pool2(X)\n",
    "        X = self.flatten(X)\n",
    "        return self.head(X)\n"
   ]
  },
  {
   "cell_type": "code",
   "execution_count": 16,
   "id": "853cdbcb",
   "metadata": {},
   "outputs": [],
   "source": [
    "def conv_3x3_same_block(in_channels, out_channels):\n",
    "    return nn.Sequential(\n",
    "        nn.Conv2d(in_channels, out_channels, kernel_size=3, stride=1, padding=1),\n",
    "        nn.BatchNorm2d(out_channels), \n",
    "        nn.ReLU()\n",
    "    )\n",
    "\n",
    "def conv_3x3_valid_block(in_channels, out_channels):\n",
    "    return nn.Sequential(\n",
    "        nn.Conv2d(in_channels, out_channels, kernel_size=3, stride=1, padding=0),\n",
    "        nn.MaxPool2d(3, stride=1),\n",
    "        nn.BatchNorm2d(out_channels),\n",
    "        nn.ReLU(), \n",
    "        nn.Dropout(0.3)\n",
    "    )\n",
    "\n",
    "class RCNN(nn.Module): \n",
    "    def __init__(self, res, input_channels, embedding_filters, depth, n_classes) -> None:\n",
    "        super(RCNN, self).__init__()\n",
    "        self.input = nn.Sequential(*[\n",
    "            conv_3x3_valid_block(input_channels, embedding_filters // 4), \n",
    "            conv_3x3_valid_block(embedding_filters // 4, embedding_filters // 2), \n",
    "            conv_3x3_valid_block(embedding_filters // 2, embedding_filters)\n",
    "        ])\n",
    "        self.net = nn.ModuleList([\n",
    "            conv_3x3_same_block(embedding_filters, embedding_filters)\n",
    "        for _ in range(depth)])\n",
    "        self.out = nn.Sequential(\n",
    "            nn.Flatten(),\n",
    "            nn.Linear(((res - 12) ** 2) * embedding_filters, n_classes)\n",
    "        )\n",
    "    def forward(self, X):\n",
    "        X = self.input(X)\n",
    "        for layer in self.net:\n",
    "            X = X + layer(X)\n",
    "        return self.out(X)"
   ]
  },
  {
   "cell_type": "markdown",
   "id": "0b055bce",
   "metadata": {},
   "source": [
    "# Remove?"
   ]
  },
  {
   "cell_type": "code",
   "execution_count": null,
   "id": "92fcdf40",
   "metadata": {},
   "outputs": [],
   "source": [
    "import torch.nn as nn\n",
    "class SimpleCNN(nn.Module):\n",
    "\n",
    "    def __init__(self, res, input_channels, embedding_channels, n_convs, n_classes) -> None:\n",
    "        super().__init__()\n",
    "        self.input = nn.Sequential(nn.Conv2d(input_channels, embedding_channels, kernel_size=3, padding=1), nn.ReLU(), nn.MaxPool2d(3, stride=1))\n",
    "        self.net = nn.Sequential(*[\n",
    "            nn.Sequential(nn.Conv2d(embedding_channels, embedding_channels, kernel_size=3, padding=1), nn.LayerNorm((embedding_channels, res-2, res-2)), nn.ReLU())\n",
    "        ], nn.MaxPool2d(3, stride=1))\n",
    "        self.head = nn.Linear(((res-4)**2) * embedding_channels, n_classes)\n",
    "\n",
    "    def forward(self, X):\n",
    "        X = self.input(X)\n",
    "        X = self.net(X)\n",
    "        return self.head(X.flatten(1))"
   ]
  },
  {
   "cell_type": "markdown",
   "id": "8bf16b60",
   "metadata": {},
   "source": [
    "# CIFAR10 dataset"
   ]
  },
  {
   "cell_type": "code",
   "execution_count": 5,
   "id": "a873ee68",
   "metadata": {},
   "outputs": [],
   "source": [
    "cifar = CIFAR10(\"~/datasets\", transform=Compose([ToTensor() # ,\n",
    "     # Normalize((0.5, 0.5, 0.5), (0.5, 0.5, 0.5))\n",
    "     ]))\n",
    "c_train, c_val = random_split(cifar, [0.7, 0.3])\n",
    "dl_train = DataLoader(c_train, batch_size=batch_size, shuffle=True)\n",
    "dl_val = DataLoader(c_val, batch_size=batch_size, shuffle=True)\n",
    "dl_test = DataLoader(CIFAR10(\"~/datasets\", train=False, transform=ToTensor()), batch_size=batch_size, shuffle=True)"
   ]
  },
  {
   "cell_type": "code",
   "execution_count": 9,
   "id": "8e576536",
   "metadata": {},
   "outputs": [
    {
     "data": {
      "text/plain": [
       "torch.Size([16, 10])"
      ]
     },
     "execution_count": 9,
     "metadata": {},
     "output_type": "execute_result"
    }
   ],
   "source": [
    "n_classes = 10\n",
    "res = 32\n",
    "i_channels = 3\n",
    "e_channels = 32\n",
    "n_convs = 16\n",
    "# model = RCNN(res, i_channels, e_channels, n_convs, n_classes).to(device)\n",
    "model = CifarClassifier(n_classes).to(device)\n",
    "x = torch.rand((16, 3, 32, 32)).to(device)\n",
    "model(x).shape"
   ]
  },
  {
   "cell_type": "markdown",
   "id": "a331afd1",
   "metadata": {},
   "source": [
    "## Training"
   ]
  },
  {
   "cell_type": "code",
   "execution_count": 6,
   "id": "ff782efb",
   "metadata": {},
   "outputs": [],
   "source": [
    "@torch.no_grad()\n",
    "def validation(model, dataloader, loss_fn):\n",
    "    model.eval()\n",
    "    loss = 0\n",
    "    acc = 0\n",
    "    for x, y in tqdm(dataloader, \"Validation: \", leave=False):\n",
    "        x, y = x.to(device), y.to(device)\n",
    "        prediction_logits = model(x)\n",
    "        loss += loss_fn(prediction_logits, y).item()\n",
    "        acc += (prediction_logits.argmax(1) == y).float().sum().item()\n",
    "    return loss / len(dataloader), acc / len(dataloader.dataset)"
   ]
  },
  {
   "cell_type": "code",
   "execution_count": 7,
   "id": "1d23b76d",
   "metadata": {},
   "outputs": [],
   "source": [
    "def training(model, train_dataloader, validation_dataloader, loss_fn, optimizer, epochs, validation_freq, log):\n",
    "    losses, accs = [], []\n",
    "    for t in range(1, epochs + 1):\n",
    "        model.train()\n",
    "        train_loss = 0\n",
    "        for x, y in tqdm(train_dataloader, f\"Epoch #{t}: \", leave=False):\n",
    "            x, y = x.to(device), y.to(device)\n",
    "            prediction_logits = model(x)\n",
    "            loss = loss_fn(prediction_logits, y)\n",
    "            train_loss += loss.item()\n",
    "            optimizer.zero_grad()\n",
    "            loss.backward()\n",
    "            optimizer.step()\n",
    "        \n",
    "        if t % validation_freq == 0:\n",
    "            lss, acc = validation(model, validation_dataloader, loss_fn)\n",
    "            print(f\"Loss Train = {train_loss / len(train_dataloader)}, Loss Val = {lss}, Acc = {acc}\")\n",
    "            losses.append(lss)\n",
    "            accs.append(acc)\n",
    "            log_dict = {\"loss\": lss, \"accuracy\": acc}\n",
    "            if log:\n",
    "                wandb.log(log_dict)\n",
    "\n",
    "    return losses, accs"
   ]
  },
  {
   "cell_type": "code",
   "execution_count": 10,
   "id": "3196e009",
   "metadata": {},
   "outputs": [
    {
     "name": "stderr",
     "output_type": "stream",
     "text": [
      "                                                              \r"
     ]
    },
    {
     "name": "stdout",
     "output_type": "stream",
     "text": [
      "Loss Train = 1.2582853930088023, Loss Val = 1.5111638302498676, Acc = 0.5534666666666667\n"
     ]
    },
    {
     "name": "stderr",
     "output_type": "stream",
     "text": [
      "                                                              \r"
     ]
    },
    {
     "name": "stdout",
     "output_type": "stream",
     "text": [
      "Loss Train = 1.026133086171403, Loss Val = 1.334237082968367, Acc = 0.5871333333333333\n"
     ]
    },
    {
     "name": "stderr",
     "output_type": "stream",
     "text": [
      "                                                              \r"
     ]
    },
    {
     "name": "stdout",
     "output_type": "stream",
     "text": [
      "Loss Train = 0.862143897487215, Loss Val = 1.180529312884554, Acc = 0.6416666666666667\n"
     ]
    },
    {
     "name": "stderr",
     "output_type": "stream",
     "text": [
      "                                                              \r"
     ]
    },
    {
     "name": "stdout",
     "output_type": "stream",
     "text": [
      "Loss Train = 0.713940175730306, Loss Val = 1.161066206719013, Acc = 0.6268\n"
     ]
    },
    {
     "name": "stderr",
     "output_type": "stream",
     "text": [
      "                                                              \r"
     ]
    },
    {
     "name": "stdout",
     "output_type": "stream",
     "text": [
      "Loss Train = 0.5835788519116599, Loss Val = 1.0642729371152027, Acc = 0.6467333333333334\n"
     ]
    },
    {
     "name": "stderr",
     "output_type": "stream",
     "text": [
      "                                                              \r"
     ]
    },
    {
     "name": "stdout",
     "output_type": "stream",
     "text": [
      "Loss Train = 0.48246948786039023, Loss Val = 1.0284766625850759, Acc = 0.6541333333333333\n"
     ]
    },
    {
     "name": "stderr",
     "output_type": "stream",
     "text": [
      "                                                              \r"
     ]
    },
    {
     "name": "stdout",
     "output_type": "stream",
     "text": [
      "Loss Train = 0.38839499984733367, Loss Val = 1.0284387923301535, Acc = 0.6491333333333333\n"
     ]
    },
    {
     "name": "stderr",
     "output_type": "stream",
     "text": [
      "                                                              \r"
     ]
    },
    {
     "name": "stdout",
     "output_type": "stream",
     "text": [
      "Loss Train = 0.31942346041010766, Loss Val = 0.9996684660302831, Acc = 0.6516\n"
     ]
    },
    {
     "name": "stderr",
     "output_type": "stream",
     "text": [
      "                                                              \r"
     ]
    },
    {
     "name": "stdout",
     "output_type": "stream",
     "text": [
      "Loss Train = 0.2719133257920389, Loss Val = 0.9760315337079637, Acc = 0.6684\n"
     ]
    },
    {
     "name": "stderr",
     "output_type": "stream",
     "text": [
      "                                                              \r"
     ]
    },
    {
     "name": "stdout",
     "output_type": "stream",
     "text": [
      "Loss Train = 0.23855519800070651, Loss Val = 0.9918479386796343, Acc = 0.6596\n"
     ]
    },
    {
     "name": "stderr",
     "output_type": "stream",
     "text": [
      "                                                              \r"
     ]
    },
    {
     "name": "stdout",
     "output_type": "stream",
     "text": [
      "Loss Train = 0.209031419048743, Loss Val = 0.9733963007622577, Acc = 0.6709333333333334\n"
     ]
    },
    {
     "name": "stderr",
     "output_type": "stream",
     "text": [
      "                                                              \r"
     ]
    },
    {
     "name": "stdout",
     "output_type": "stream",
     "text": [
      "Loss Train = 0.19667510366172852, Loss Val = 1.00215729424294, Acc = 0.6616666666666666\n"
     ]
    },
    {
     "name": "stderr",
     "output_type": "stream",
     "text": [
      "                                                              \r"
     ]
    },
    {
     "name": "stdout",
     "output_type": "stream",
     "text": [
      "Loss Train = 0.17621932755236325, Loss Val = 1.073248496207785, Acc = 0.6418666666666667\n"
     ]
    },
    {
     "name": "stderr",
     "output_type": "stream",
     "text": [
      "                                                              \r"
     ]
    },
    {
     "name": "stdout",
     "output_type": "stream",
     "text": [
      "Loss Train = 0.16720844592415546, Loss Val = 1.0475528171721926, Acc = 0.6539333333333334\n"
     ]
    },
    {
     "name": "stderr",
     "output_type": "stream",
     "text": [
      "                                                              \r"
     ]
    },
    {
     "name": "stdout",
     "output_type": "stream",
     "text": [
      "Loss Train = 0.14647655291874404, Loss Val = 1.1433635435205824, Acc = 0.6363333333333333\n"
     ]
    },
    {
     "name": "stderr",
     "output_type": "stream",
     "text": [
      "                                                              \r"
     ]
    },
    {
     "name": "stdout",
     "output_type": "stream",
     "text": [
      "Loss Train = 0.1501696029102508, Loss Val = 1.1749899937751445, Acc = 0.6270666666666667\n"
     ]
    },
    {
     "name": "stderr",
     "output_type": "stream",
     "text": [
      "                                                              \r"
     ]
    },
    {
     "name": "stdout",
     "output_type": "stream",
     "text": [
      "Loss Train = 0.14263986460217556, Loss Val = 1.2117175117452095, Acc = 0.6297333333333334\n"
     ]
    },
    {
     "name": "stderr",
     "output_type": "stream",
     "text": [
      "                                                              \r"
     ]
    },
    {
     "name": "stdout",
     "output_type": "stream",
     "text": [
      "Loss Train = 0.13301737221737667, Loss Val = 1.1002776528926606, Acc = 0.6550666666666667\n"
     ]
    },
    {
     "name": "stderr",
     "output_type": "stream",
     "text": [
      "                                                              \r"
     ]
    },
    {
     "name": "stdout",
     "output_type": "stream",
     "text": [
      "Loss Train = 0.11899728097116925, Loss Val = 1.171924316883087, Acc = 0.6486666666666666\n"
     ]
    },
    {
     "name": "stderr",
     "output_type": "stream",
     "text": [
      "                                                              \r"
     ]
    },
    {
     "name": "stdout",
     "output_type": "stream",
     "text": [
      "Loss Train = 0.12209503391120835, Loss Val = 1.1789639297952044, Acc = 0.6382\n"
     ]
    },
    {
     "name": "stderr",
     "output_type": "stream",
     "text": [
      "                                                              \r"
     ]
    },
    {
     "name": "stdout",
     "output_type": "stream",
     "text": [
      "Loss Train = 0.117116301523954, Loss Val = 1.1640271115810312, Acc = 0.647\n"
     ]
    },
    {
     "name": "stderr",
     "output_type": "stream",
     "text": [
      "                                                              \r"
     ]
    },
    {
     "name": "stdout",
     "output_type": "stream",
     "text": [
      "Loss Train = 0.10625386106572242, Loss Val = 1.2360064823576744, Acc = 0.6380666666666667\n"
     ]
    },
    {
     "name": "stderr",
     "output_type": "stream",
     "text": [
      "                                                              \r"
     ]
    },
    {
     "name": "stdout",
     "output_type": "stream",
     "text": [
      "Loss Train = 0.11047763592126002, Loss Val = 1.3004840505884048, Acc = 0.6224666666666666\n"
     ]
    },
    {
     "name": "stderr",
     "output_type": "stream",
     "text": [
      "                                                              \r"
     ]
    },
    {
     "name": "stdout",
     "output_type": "stream",
     "text": [
      "Loss Train = 0.10147536778567151, Loss Val = 1.231611638373517, Acc = 0.6364666666666666\n"
     ]
    },
    {
     "name": "stderr",
     "output_type": "stream",
     "text": [
      "                                                              "
     ]
    },
    {
     "name": "stdout",
     "output_type": "stream",
     "text": [
      "Loss Train = 0.10281976368754993, Loss Val = 1.232103065734214, Acc = 0.6431333333333333\n"
     ]
    },
    {
     "name": "stderr",
     "output_type": "stream",
     "text": [
      "\r"
     ]
    }
   ],
   "source": [
    "loss_fn = F.cross_entropy\n",
    "epochs = 50\n",
    "optim = torch.optim.Adam(model.parameters(), lr=0.001)\n",
    "lss, accs = training(model, dl_train, dl_val, loss_fn, optim, epochs, 2, False)"
   ]
  },
  {
   "cell_type": "code",
   "execution_count": 11,
   "id": "3d05e565",
   "metadata": {},
   "outputs": [],
   "source": [
    "id_data = ood_test(model, dl_test)\n",
    "ood_data = ood_test(model, dl_ood)"
   ]
  },
  {
   "cell_type": "code",
   "execution_count": 13,
   "id": "02c03433",
   "metadata": {},
   "outputs": [
    {
     "data": {
      "image/png": "[encoded data removed]",
      "text/plain": [
       "<Figure size 640x480 with 1 Axes>"
      ]
     },
     "metadata": {},
     "output_type": "display_data"
    }
   ],
   "source": [
    "plt.hist(id_data.cpu(), bins=30, density=True, alpha=0.5, label=\"ID\")\n",
    "plt.hist(ood_data.cpu(), bins=30, density=True, alpha=0.5, label=\"OOD\")\n",
    "plt.legend()\n",
    "plt.show()"
   ]
  },
  {
   "cell_type": "markdown",
   "id": "d3878924-66ec-44bc-80af-4ce9b7e46ef2",
   "metadata": {},
   "source": [
    "### Exercise 1.2: Measure your OOD detection performance\n",
    "\n",
    "There are several metrics used to evaluate OOD detection performance, we will concentrate on two threshold-free approaches: the area under the Receiver Operator Characteristic (ROC) curve for ID classification, and the area under the Precision-Recall curve for *both* ID and OOD scoring. See [the ODIN paper](https://arxiv.org/pdf/1706.02690.pdf) section 4.3 for a description of OOD metrics.\n",
    "\n",
    "Use the functions in `sklearn.metrics` to produce ROC and PR curves for your OOD detector. Some useful functions:\n",
    "\n",
    "+ [`sklearn.metric.RocCurveDisplay.from_predictions`](https://scikit-learn.org/stable/modules/generated/sklearn.metrics.RocCurveDisplay.html)\n",
    "+ [`sklearn.metrics.PrecisionRecallDisplay`](https://scikit-learn.org/stable/modules/generated/sklearn.metrics.PrecisionRecallDisplay.html)\n"
   ]
  },
  {
   "cell_type": "code",
   "execution_count": 26,
   "id": "95872246-85fb-41a5-8018-8643d76bfcb9",
   "metadata": {
    "tags": []
   },
   "outputs": [],
   "source": [
    "# Your code here.\n",
    "from sklearn.metrics import RocCurveDisplay, PrecisionRecallDisplay\n",
    "@torch.no_grad()\n",
    "def ood_roc_test(model, dataloader):\n",
    "    predictions = []\n",
    "    true_values = []\n",
    "    for x, y in dataloader:\n",
    "        x = x.to(device)\n",
    "        logits = model(x)\n",
    "        predictions.append(logits.argmax(dim=1).cpu())\n",
    "        true_values.append(y)\n",
    "    predictions = torch.cat(predictions, dim=0)\n",
    "    true_values = torch.cat(true_values, dim=0)\n",
    "    RocCurveDisplay.from_predictions(true_values == 0, predictions == 0)"
   ]
  },
  {
   "cell_type": "code",
   "execution_count": 27,
   "id": "0214f045",
   "metadata": {},
   "outputs": [
    {
     "data": {
      "image/png": "[encoded data removed]",
      "text/plain": [
       "<Figure size 640x480 with 1 Axes>"
      ]
     },
     "metadata": {},
     "output_type": "display_data"
    }
   ],
   "source": [
    "ood_roc_test(model, dl_test)"
   ]
  },
  {
   "cell_type": "code",
   "execution_count": null,
   "id": "0381f318",
   "metadata": {},
   "outputs": [],
   "source": [
    "def get_recall(prediction, true, ref_class):\n",
    "    tp = (prediction == true * true == ref_class).sum().float().item()\n",
    "    fn = (prediction != true * true == ref_class).sum().float().item()\n",
    "    return tp / (tp + fn)\n",
    "\n",
    "def get_precision(prediction, true, ref_class):\n",
    "    tp = (prediction == true * true == ref_class).sum().float().item()\n",
    "    fp = (prediction == true * true != ref_class).sum().float().item()\n",
    "    return tp / (tp + fp)"
   ]
  },
  {
   "cell_type": "markdown",
   "id": "b00e7265-77c4-4659-9bda-cc23247370bd",
   "metadata": {},
   "source": [
    "---\n",
    "## Exercise 2: Enhancing Robustness to Adversarial Attack\n",
    "\n",
    "In this second exercise we will experiment with enhancing our base model to be (more) robust to adversarial attacks. \n",
    "\n",
    "### Exercise 2.1: Implement FGSM and generate adversarial examples\n",
    "\n",
    "Recall that the Fast Gradient Sign Method (FGSM) perturbs samples in the direction of the gradient with respect to the input $\\mathbf{x}$:\n",
    "$$ \\boldsymbol{\\eta}(\\mathbf{x}) = \\varepsilon \\mathrm{sign}(\\nabla_{\\mathbf{x}} \\mathcal{L}(\\boldsymbol{\\theta}, \\mathbf{x}, y)) ) $$\n",
    "Implement FGSM and generate some *adversarial examples* using your trained ID model. Evaluate these samples qualitatively and quantitatively. Evaluate how dependent on $\\varepsilon$ the quality of these samples are. "
   ]
  },
  {
   "cell_type": "code",
   "execution_count": 29,
   "id": "840eaa31",
   "metadata": {},
   "outputs": [
    {
     "data": {
      "text/plain": [
       "tensor([ -4.7393,  -0.7077, -20.8036,   7.8925,  11.7796,   8.2283,   6.2811,\n",
       "         16.0537,  11.1043,   8.1349])"
      ]
     },
     "execution_count": 29,
     "metadata": {},
     "output_type": "execute_result"
    }
   ],
   "source": [
    "r = torch.randn((10)) * 10\n",
    "r"
   ]
  },
  {
   "cell_type": "code",
   "execution_count": 32,
   "id": "14fa9794",
   "metadata": {},
   "outputs": [
    {
     "data": {
      "text/plain": [
       "tensor([-1., -1., -1.,  1.,  1.,  1.,  1.,  1.,  1.,  1.])"
      ]
     },
     "execution_count": 32,
     "metadata": {},
     "output_type": "execute_result"
    }
   ],
   "source": [
    "s = r.sign()\n",
    "s"
   ]
  },
  {
   "cell_type": "code",
   "execution_count": 20,
   "id": "4c052cbf-c45e-4d03-805e-53b917137043",
   "metadata": {
    "tags": []
   },
   "outputs": [],
   "source": [
    "from torch.autograd import Variable\n",
    "# Your code here.\n",
    "def fgs_perturbation(model: torch.nn.Module, batch: torch.Tensor, batch_label: torch.Tensor, loss_fn, epsilon: float = 0.01):\n",
    "    # gradient wrt input\n",
    "    batch.requires_grad = True\n",
    "    model.requires_grad_ = False\n",
    "    logits = model(batch)\n",
    "    loss = loss_fn(logits, batch_label)\n",
    "    loss.backward()\n",
    "    perturbation = batch.grad.data # gradient\n",
    "    perturbation = perturbation.sign() # signed gradient\n",
    "    perturbation = epsilon * perturbation # scaled perturbation\n",
    "    return perturbation"
   ]
  },
  {
   "cell_type": "code",
   "execution_count": 11,
   "id": "016957bc",
   "metadata": {},
   "outputs": [],
   "source": [
    "for x, y in dl_train:\n",
    "    batch, batch_labels = x, y\n",
    "    break"
   ]
  },
  {
   "cell_type": "code",
   "execution_count": 133,
   "id": "dd2606a7",
   "metadata": {},
   "outputs": [
    {
     "data": {
      "text/plain": [
       "<matplotlib.image.AxesImage at 0x7f20e4407850>"
      ]
     },
     "execution_count": 133,
     "metadata": {},
     "output_type": "execute_result"
    },
    {
     "data": {
      "image/png": "[encoded data removed]",
      "text/plain": [
       "<Figure size 640x480 with 1 Axes>"
      ]
     },
     "metadata": {},
     "output_type": "display_data"
    }
   ],
   "source": [
    "plt.imshow(batch[0].transpose(0, 1).transpose(1, 2))"
   ]
  },
  {
   "cell_type": "code",
   "execution_count": 12,
   "id": "da24e870",
   "metadata": {},
   "outputs": [
    {
     "name": "stderr",
     "output_type": "stream",
     "text": [
      "Clipping input data to the valid range for imshow with RGB data ([0..1] for floats or [0..255] for integers).\n"
     ]
    },
    {
     "name": "stderr",
     "output_type": "stream",
     "text": [
      "Clipping input data to the valid range for imshow with RGB data ([0..1] for floats or [0..255] for integers).\n",
      "Clipping input data to the valid range for imshow with RGB data ([0..1] for floats or [0..255] for integers).\n"
     ]
    },
    {
     "name": "stdout",
     "output_type": "stream",
     "text": [
      "True\n",
      "True\n",
      "True\n",
      "True\n"
     ]
    },
    {
     "data": {
      "image/png": "[encoded data removed]",
      "text/plain": [
       "<Figure size 1600x600 with 8 Axes>"
      ]
     },
     "metadata": {},
     "output_type": "display_data"
    }
   ],
   "source": [
    "cols = 4\n",
    "fig, axes = plt.subplots(2, cols, figsize=(16, 6))\n",
    "for i in range(cols):\n",
    "    x, y = cifar[i][0].to(device), torch.tensor([cifar[i][1]]).to(device)\n",
    "    x = x.view(1, *x.shape)\n",
    "    pert = fgs_perturbation(model, x, y, F.cross_entropy)\n",
    "    perturbed = x + pert\n",
    "    perturbed = perturbed[0] \n",
    "    x = x[0]\n",
    "    axes[0][i].imshow(x.transpose(0, 1).transpose(1, 2).detach().cpu().numpy())\n",
    "    axes[1][i].imshow(perturbed.transpose(0, 1).transpose(1, 2).detach().cpu().numpy())\n",
    "plt.show()"
   ]
  },
  {
   "cell_type": "code",
   "execution_count": 13,
   "id": "7990240d",
   "metadata": {},
   "outputs": [
    {
     "name": "stderr",
     "output_type": "stream",
     "text": [
      "Clipping input data to the valid range for imshow with RGB data ([0..1] for floats or [0..255] for integers).\n",
      "Clipping input data to the valid range for imshow with RGB data ([0..1] for floats or [0..255] for integers).\n",
      "Clipping input data to the valid range for imshow with RGB data ([0..1] for floats or [0..255] for integers).\n",
      "Clipping input data to the valid range for imshow with RGB data ([0..1] for floats or [0..255] for integers).\n"
     ]
    },
    {
     "name": "stdout",
     "output_type": "stream",
     "text": [
      "True\n",
      "True\n",
      "True\n",
      "True\n"
     ]
    },
    {
     "data": {
      "image/png": "[encoded data removed]",
      "text/plain": [
       "<Figure size 1600x600 with 8 Axes>"
      ]
     },
     "metadata": {},
     "output_type": "display_data"
    }
   ],
   "source": [
    "fig, axes = plt.subplots(2, cols, figsize=(16, 6))\n",
    "epsilons = [0.01, 0.02, 0.05, 0.1]\n",
    "for i in range(cols):\n",
    "    x, y = cifar[i][0].to(device), torch.tensor([cifar[i][1]]).to(device)\n",
    "    x = x.view(1, *x.shape)\n",
    "    pert = fgs_perturbation(model, x, y, F.cross_entropy, epsilon=epsilons[i])\n",
    "    perturbed = x + pert\n",
    "    perturbed = perturbed[0] \n",
    "    x = x[0]\n",
    "    axes[0][i].imshow(x.transpose(0, 1).transpose(1, 2).detach().cpu().numpy())\n",
    "    axes[1][i].imshow(perturbed.transpose(0, 1).transpose(1, 2).detach().cpu().numpy())\n",
    "plt.show()"
   ]
  },
  {
   "cell_type": "markdown",
   "id": "4d82e7dc-cdfe-4201-8dc5-3891dfd6ea49",
   "metadata": {},
   "source": [
    "### Exercise 2.2: Augment training with adversarial examples\n",
    "\n",
    "Use your implementation of FGSM to augment your training dataset with adversarial samples. Ideally, you should implement this data augmentation *on the fly* so that the adversarial samples are always generated using the current model. Evaluate whether the model is more (or less) robust to ID samples using your OOD detection pipeline and metrics you implemented in Exercise 1."
   ]
  },
  {
   "cell_type": "code",
   "execution_count": 21,
   "id": "61da5e2d-30a9-48d6-86fd-6711612eb976",
   "metadata": {},
   "outputs": [
    {
     "name": "stdout",
     "output_type": "stream",
     "text": [
      "True\n",
      "torch.Size([64, 3, 32, 32]) torch.Size([128, 3, 32, 32])\n"
     ]
    }
   ],
   "source": [
    "# Your code here.\n",
    "def augment_batch(model, batch, batch_labels, loss, epsilon=0.01):\n",
    "    pert = fgs_perturbation(model, batch, batch_labels, loss, epsilon)\n",
    "    augmented_data = batch + pert\n",
    "    batch = torch.cat([batch, augmented_data], dim=0)\n",
    "    batch_labels = torch.cat([batch_labels, batch_labels], dim=0)\n",
    "    return batch, batch_labels\n",
    "\n",
    "batch, batch_labels = batch.to(device), batch_labels.to(device)\n",
    "print(batch.requires_grad)\n",
    "aug, aug_l = augment_batch(model, batch, batch_labels, F.cross_entropy)\n",
    "print(batch.shape, aug.shape)"
   ]
  },
  {
   "cell_type": "code",
   "execution_count": 22,
   "id": "c4cca370",
   "metadata": {},
   "outputs": [],
   "source": [
    "def training_with_augment(model, train_dataloader, validation_dataloader, loss_fn, optimizer, epochs, validation_freq, log):\n",
    "    losses, accs = [], []\n",
    "    for t in range(1, epochs + 1):\n",
    "        model.train()\n",
    "        train_loss = 0\n",
    "        for x, y in tqdm(train_dataloader, f\"Epoch #{t}: \", leave=False):\n",
    "            x, y = x.to(device), y.to(device)\n",
    "            x, y = augment_batch(model, x, y, loss_fn)\n",
    "            prediction_logits = model(x)\n",
    "            loss = loss_fn(prediction_logits, y)\n",
    "            train_loss += loss.item()\n",
    "            optimizer.zero_grad()\n",
    "            loss.backward()\n",
    "            optimizer.step()\n",
    "        \n",
    "        if t % validation_freq == 0:\n",
    "            lss, acc = validation(model, validation_dataloader, loss_fn)\n",
    "            print(f\"Loss Train = {train_loss / len(train_dataloader)}, Loss Val = {lss}, Acc = {acc}\")\n",
    "            losses.append(lss)\n",
    "            accs.append(acc)\n",
    "            log_dict = {\"loss\": lss, \"accuracy\": acc}\n",
    "            if log:\n",
    "                wandb.log(log_dict)\n",
    "\n",
    "    return losses, accs"
   ]
  },
  {
   "cell_type": "code",
   "execution_count": 23,
   "id": "d0dea9e3",
   "metadata": {},
   "outputs": [
    {
     "name": "stderr",
     "output_type": "stream",
     "text": [
      "                                                              \r"
     ]
    },
    {
     "name": "stdout",
     "output_type": "stream",
     "text": [
      "Loss Train = 0.1827293416073161, Loss Val = 1.2190107020925969, Acc = 0.6269333333333333\n"
     ]
    },
    {
     "name": "stderr",
     "output_type": "stream",
     "text": [
      "                                                              \r"
     ]
    },
    {
     "name": "stdout",
     "output_type": "stream",
     "text": [
      "Loss Train = 0.16391916708915172, Loss Val = 1.2051163901673987, Acc = 0.63\n"
     ]
    },
    {
     "name": "stderr",
     "output_type": "stream",
     "text": [
      "                                                              \r"
     ]
    },
    {
     "name": "stdout",
     "output_type": "stream",
     "text": [
      "Loss Train = 0.14845198674137675, Loss Val = 1.2701540444759611, Acc = 0.6134\n"
     ]
    },
    {
     "name": "stderr",
     "output_type": "stream",
     "text": [
      "                                                              \r"
     ]
    },
    {
     "name": "stdout",
     "output_type": "stream",
     "text": [
      "Loss Train = 0.13873247593859214, Loss Val = 1.2282768264729926, Acc = 0.6231333333333333\n"
     ]
    },
    {
     "name": "stderr",
     "output_type": "stream",
     "text": [
      "                                                              \r"
     ]
    },
    {
     "name": "stdout",
     "output_type": "stream",
     "text": [
      "Loss Train = 0.13533446570378227, Loss Val = 1.2572342345055114, Acc = 0.6176\n"
     ]
    },
    {
     "name": "stderr",
     "output_type": "stream",
     "text": [
      "                                                            \r"
     ]
    },
    {
     "ename": "KeyboardInterrupt",
     "evalue": "",
     "output_type": "error",
     "traceback": [
      "\u001b[0;31m---------------------------------------------------------------------------\u001b[0m",
      "\u001b[0;31mKeyboardInterrupt\u001b[0m                         Traceback (most recent call last)",
      "Cell \u001b[0;32mIn[23], line 3\u001b[0m\n\u001b[1;32m      1\u001b[0m loss_fn \u001b[39m=\u001b[39m F\u001b[39m.\u001b[39mcross_entropy\n\u001b[1;32m      2\u001b[0m optim \u001b[39m=\u001b[39m torch\u001b[39m.\u001b[39moptim\u001b[39m.\u001b[39mAdam(model\u001b[39m.\u001b[39mparameters(), lr\u001b[39m=\u001b[39m\u001b[39m0.001\u001b[39m)\n\u001b[0;32m----> 3\u001b[0m lss, accs \u001b[39m=\u001b[39m training_with_augment(model, dl_train, dl_val, loss_fn, optim, \u001b[39m50\u001b[39;49m, \u001b[39m2\u001b[39;49m, \u001b[39mFalse\u001b[39;49;00m)\n",
      "Cell \u001b[0;32mIn[22], line 6\u001b[0m, in \u001b[0;36mtraining_with_augment\u001b[0;34m(model, train_dataloader, validation_dataloader, loss_fn, optimizer, epochs, validation_freq, log)\u001b[0m\n\u001b[1;32m      4\u001b[0m model\u001b[39m.\u001b[39mtrain()\n\u001b[1;32m      5\u001b[0m train_loss \u001b[39m=\u001b[39m \u001b[39m0\u001b[39m\n\u001b[0;32m----> 6\u001b[0m \u001b[39mfor\u001b[39;00m x, y \u001b[39min\u001b[39;00m tqdm(train_dataloader, \u001b[39mf\u001b[39m\u001b[39m\"\u001b[39m\u001b[39mEpoch #\u001b[39m\u001b[39m{\u001b[39;00mt\u001b[39m}\u001b[39;00m\u001b[39m: \u001b[39m\u001b[39m\"\u001b[39m, leave\u001b[39m=\u001b[39m\u001b[39mFalse\u001b[39;00m):\n\u001b[1;32m      7\u001b[0m     x, y \u001b[39m=\u001b[39m x\u001b[39m.\u001b[39mto(device), y\u001b[39m.\u001b[39mto(device)\n\u001b[1;32m      8\u001b[0m     x, y \u001b[39m=\u001b[39m augment_batch(model, x, y, loss_fn)\n",
      "File \u001b[0;32m~/miniconda3/lib/python3.10/site-packages/tqdm/std.py:1178\u001b[0m, in \u001b[0;36mtqdm.__iter__\u001b[0;34m(self)\u001b[0m\n\u001b[1;32m   1175\u001b[0m time \u001b[39m=\u001b[39m \u001b[39mself\u001b[39m\u001b[39m.\u001b[39m_time\n\u001b[1;32m   1177\u001b[0m \u001b[39mtry\u001b[39;00m:\n\u001b[0;32m-> 1178\u001b[0m     \u001b[39mfor\u001b[39;00m obj \u001b[39min\u001b[39;00m iterable:\n\u001b[1;32m   1179\u001b[0m         \u001b[39myield\u001b[39;00m obj\n\u001b[1;32m   1180\u001b[0m         \u001b[39m# Update and possibly print the progressbar.\u001b[39;00m\n\u001b[1;32m   1181\u001b[0m         \u001b[39m# Note: does not call self.update(1) for speed optimisation.\u001b[39;00m\n",
      "File \u001b[0;32m~/miniconda3/lib/python3.10/site-packages/torch/utils/data/dataloader.py:633\u001b[0m, in \u001b[0;36m_BaseDataLoaderIter.__next__\u001b[0;34m(self)\u001b[0m\n\u001b[1;32m    630\u001b[0m \u001b[39mif\u001b[39;00m \u001b[39mself\u001b[39m\u001b[39m.\u001b[39m_sampler_iter \u001b[39mis\u001b[39;00m \u001b[39mNone\u001b[39;00m:\n\u001b[1;32m    631\u001b[0m     \u001b[39m# TODO(https://github.com/pytorch/pytorch/issues/76750)\u001b[39;00m\n\u001b[1;32m    632\u001b[0m     \u001b[39mself\u001b[39m\u001b[39m.\u001b[39m_reset()  \u001b[39m# type: ignore[call-arg]\u001b[39;00m\n\u001b[0;32m--> 633\u001b[0m data \u001b[39m=\u001b[39m \u001b[39mself\u001b[39;49m\u001b[39m.\u001b[39;49m_next_data()\n\u001b[1;32m    634\u001b[0m \u001b[39mself\u001b[39m\u001b[39m.\u001b[39m_num_yielded \u001b[39m+\u001b[39m\u001b[39m=\u001b[39m \u001b[39m1\u001b[39m\n\u001b[1;32m    635\u001b[0m \u001b[39mif\u001b[39;00m \u001b[39mself\u001b[39m\u001b[39m.\u001b[39m_dataset_kind \u001b[39m==\u001b[39m _DatasetKind\u001b[39m.\u001b[39mIterable \u001b[39mand\u001b[39;00m \\\n\u001b[1;32m    636\u001b[0m         \u001b[39mself\u001b[39m\u001b[39m.\u001b[39m_IterableDataset_len_called \u001b[39mis\u001b[39;00m \u001b[39mnot\u001b[39;00m \u001b[39mNone\u001b[39;00m \u001b[39mand\u001b[39;00m \\\n\u001b[1;32m    637\u001b[0m         \u001b[39mself\u001b[39m\u001b[39m.\u001b[39m_num_yielded \u001b[39m>\u001b[39m \u001b[39mself\u001b[39m\u001b[39m.\u001b[39m_IterableDataset_len_called:\n",
      "File \u001b[0;32m~/miniconda3/lib/python3.10/site-packages/torch/utils/data/dataloader.py:677\u001b[0m, in \u001b[0;36m_SingleProcessDataLoaderIter._next_data\u001b[0;34m(self)\u001b[0m\n\u001b[1;32m    675\u001b[0m \u001b[39mdef\u001b[39;00m \u001b[39m_next_data\u001b[39m(\u001b[39mself\u001b[39m):\n\u001b[1;32m    676\u001b[0m     index \u001b[39m=\u001b[39m \u001b[39mself\u001b[39m\u001b[39m.\u001b[39m_next_index()  \u001b[39m# may raise StopIteration\u001b[39;00m\n\u001b[0;32m--> 677\u001b[0m     data \u001b[39m=\u001b[39m \u001b[39mself\u001b[39;49m\u001b[39m.\u001b[39;49m_dataset_fetcher\u001b[39m.\u001b[39;49mfetch(index)  \u001b[39m# may raise StopIteration\u001b[39;00m\n\u001b[1;32m    678\u001b[0m     \u001b[39mif\u001b[39;00m \u001b[39mself\u001b[39m\u001b[39m.\u001b[39m_pin_memory:\n\u001b[1;32m    679\u001b[0m         data \u001b[39m=\u001b[39m _utils\u001b[39m.\u001b[39mpin_memory\u001b[39m.\u001b[39mpin_memory(data, \u001b[39mself\u001b[39m\u001b[39m.\u001b[39m_pin_memory_device)\n",
      "\u001b[0;31mKeyboardInterrupt\u001b[0m: "
     ]
    }
   ],
   "source": [
    "loss_fn = F.cross_entropy\n",
    "optim = torch.optim.Adam(model.parameters(), lr=0.001)\n",
    "lss, accs = training_with_augment(model, dl_train, dl_val, loss_fn, optim, 50, 2, False)"
   ]
  },
  {
   "cell_type": "markdown",
   "id": "4aa8666b-85fc-4e83-b8d4-fe6a5dff0fea",
   "metadata": {},
   "source": [
    "---\n",
    "## Exercise 3: Wildcard\n",
    "\n",
    "You know the drill. Pick *ONE* of the following exercises to complete.\n",
    "\n",
    "### Exercise 3.1: Implement ODIN for OOD detection\n",
    "ODIN is a very simple approach, and you can already start experimenting by implementing a temperature hyperparameter in your base model and doing a grid search on $T$ and $\\varepsilon$.\n",
    "\n",
    "### Exercise 3.2: Implement JARN\n",
    "In exercise 2.2 you already implemented Jacobian-regularized learning to make your model more robust to adversarial samples. Add a *discriminator* to your model to encourage the adversarial samples used for regularization to be more *salient*.\n",
    "\n",
    "See [the JARN paper](https://arxiv.org/abs/1912.10185) for more details.\n",
    "\n",
    "### Exercise 3.3: Experiment with *targeted* adversarial attacks\n",
    "Implement the targeted Fast Gradient Sign Method to generate adversarial samples that *imitate* samples from a specific class. Evaluate your adversarial samples qualitatively and quantitatively.\n"
   ]
  }
 ],
 "metadata": {
  "kernelspec": {
   "display_name": "Python 3 (ipykernel)",
   "language": "python",
   "name": "python3"
  },
  "language_info": {
   "codemirror_mode": {
    "name": "ipython",
    "version": 3
   },
   "file_extension": ".py",
   "mimetype": "text/x-python",
   "name": "python",
   "nbconvert_exporter": "python",
   "pygments_lexer": "ipython3",
   "version": "3.10.9"
  }
 },
 "nbformat": 4,
 "nbformat_minor": 5
}
