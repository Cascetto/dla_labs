{
 "cells": [
  {
   "cell_type": "markdown",
   "id": "32e2ac44-45aa-4d2c-9e16-907bf8683659",
   "metadata": {},
   "source": [
    "# Laboratory #4: Adversarial Learning and OOD Detection\n",
    "\n",
    "In this laboratory session we will develop a methodology for detecting OOD samples and measuring the quality of OOD detection. We will also experiment with incorporating adversarial examples during training to render models more robust to adversarial attacks.\n",
    "\n",
    "---\n",
    "## Exercise 1: OOD Detection and Performance Evaluation\n",
    "In this first exercise you will build a simple OOD detection pipeline and implement some performance metrics to evaluate its performance."
   ]
  },
  {
   "cell_type": "markdown",
   "id": "93c02677-b193-4c3b-a5e1-c9c4015b9dc2",
   "metadata": {},
   "source": [
    "### Exercise 1.1: Build a simple OOD detection pipeline\n",
    "\n",
    "Implement an OOD detection pipeline (like in the Flipped Activity notebook) using an ID and an OOD dataset of your choice. Some options:\n",
    "\n",
    "+ CIFAR-10 (ID), Subset of CIFAR-100 (OOD). You will need to wrap CIFAR-100 in some way to select a subset of classes that are *not* in CIFAR-10 (see `torch.utils.data.Subset`).\n",
    "+ Labeled Faces in the Wild (ID), CIFAR-10 or FakeData (OOD). The LfW dataset is available in Scikit-learn (see `sklearn.datasets.fetch_lfw_people`).\n",
    "+ Something else, but if using images keep the images reasonably small!\n",
    "\n",
    "In this exercise your *OOD Detector* should produce a score representing how \"out of distribution\" a test sample is. We will implement some metrics in the next exercise, but for now use the techniques from the flipped activity notebook to judge how well OOD scoring is working (i.e. histograms).\n",
    "\n",
    "**Note**: Make sure you make a validation split of your ID dataset for testing."
   ]
  },
  {
   "cell_type": "code",
   "execution_count": 29,
   "id": "bc06bd79-ac57-473c-9ce0-30c0381ad34f",
   "metadata": {
    "tags": [],
    "ExecuteTime": {
     "end_time": "2023-07-24T16:25:38.800708180Z",
     "start_time": "2023-07-24T16:25:38.793882264Z"
    }
   },
   "outputs": [],
   "source": [
    "import numpy as np\n",
    "from torch.utils.data import Dataset, DataLoader, random_split\n",
    "from torchvision.datasets import CIFAR100, CIFAR10\n",
    "from torchvision.transforms import ToTensor, Compose\n",
    "import torch\n",
    "from tqdm import tqdm\n",
    "import wandb\n",
    "import torch.nn.functional as F\n",
    "import torch.nn as nn\n",
    "import matplotlib.pyplot as plt\n",
    "\n",
    "device = 'cuda' if torch.cuda.is_available() else 'cpu'"
   ]
  },
  {
   "cell_type": "code",
   "execution_count": 2,
   "id": "8b3b28fa",
   "metadata": {
    "ExecuteTime": {
     "end_time": "2023-07-24T15:42:15.201075958Z",
     "start_time": "2023-07-24T15:41:55.316637319Z"
    }
   },
   "outputs": [
    {
     "name": "stdout",
     "output_type": "stream",
     "text": [
      "Files already downloaded and verified\n",
      "Files already downloaded and verified\n",
      "Files already downloaded and verified\n"
     ]
    }
   ],
   "source": [
    "class CIFAR100_wrapper(Dataset):\n",
    "\n",
    "    def __init__(self, classes: set[int], get_train: bool = True) -> None:\n",
    "        super().__init__()\n",
    "        self.classes = classes\n",
    "        cifar = CIFAR100(\"~/datasets\", download=get_train, train=get_train, transform=Compose([ToTensor()]))\n",
    "        samples = []\n",
    "        labels = []\n",
    "        for i in range(len(cifar)):\n",
    "            if cifar[i][1] in classes:\n",
    "                samples.append(cifar[i][0])\n",
    "                labels.append(torch.Tensor([cifar[i][1]]).long())\n",
    "        self.data = torch.stack(samples)\n",
    "        self.labels = torch.cat(labels)\n",
    "\n",
    "    def __len__(self): return len(self.labels)\n",
    "\n",
    "    def __getitem__(self, index) -> tuple[torch.Tensor, torch.Tensor]: return self.data[index], self.labels[index]\n",
    "\n",
    "index_id = set(range(20))\n",
    "index_ood = set(range(30, 40))\n",
    "\n",
    "batch_size=64\n",
    "\n",
    "c20 = CIFAR100_wrapper(index_id)\n",
    "c20_train, c20_val = random_split(c20, [0.7, 0.3])\n",
    "c20_test = CIFAR100_wrapper(index_id)\n",
    "c20_ood = CIFAR100_wrapper(index_ood)\n",
    "dl_train = DataLoader(c20_train, batch_size, shuffle=True)\n",
    "dl_val = DataLoader(c20_val, batch_size, shuffle=True)\n",
    "dl_test = DataLoader(c20_test, batch_size, shuffle=True)\n",
    "dl_ood = DataLoader(c20_ood, batch_size, shuffle=True)"
   ]
  },
  {
   "cell_type": "code",
   "execution_count": 3,
   "id": "72dfd807",
   "metadata": {
    "ExecuteTime": {
     "end_time": "2023-07-24T15:42:15.270672931Z",
     "start_time": "2023-07-24T15:42:15.193917886Z"
    }
   },
   "outputs": [],
   "source": [
    "@torch.no_grad()\n",
    "def ood_test(model, dataloader, threshold = 1.):\n",
    "    max_logits = []\n",
    "    second_guess = []\n",
    "    for x, _ in dataloader:\n",
    "        x = x.to(device)\n",
    "        logits_sorted, _ = torch.sort(model(x), descending=True)\n",
    "        max_logits.append(logits_sorted[:, 0])\n",
    "        second_guess.append(logits_sorted[:, 1])\n",
    "    max_logits = torch.cat(max_logits)\n",
    "    second_guess = torch.cat(second_guess)\n",
    "    return (max_logits - second_guess) > threshold\n",
    "\n",
    "@torch.no_grad()\n",
    "def ood_score(model, dataloader):\n",
    "    max_logits = []\n",
    "    second_guess = []\n",
    "    for x, _ in dataloader:\n",
    "        x = x.to(device)\n",
    "        logits_sorted, _ = torch.sort(model(x), descending=True)\n",
    "        max_logits.append(logits_sorted[:, 0])\n",
    "        second_guess.append(logits_sorted[:, 1])\n",
    "    max_logits = torch.cat(max_logits)\n",
    "    second_guess = torch.cat(second_guess)\n",
    "    return (max_logits - second_guess)"
   ]
  },
  {
   "cell_type": "markdown",
   "id": "90395410",
   "metadata": {},
   "source": [
    "# Model (note for me: OK)\n",
    "A simple model for classification"
   ]
  },
  {
   "cell_type": "code",
   "execution_count": 4,
   "id": "d7b27afc",
   "metadata": {
    "ExecuteTime": {
     "end_time": "2023-07-24T15:42:15.270815569Z",
     "start_time": "2023-07-24T15:42:15.235291759Z"
    }
   },
   "outputs": [],
   "source": [
    "class CifarClassifier(nn.Module):\n",
    "\n",
    "    def __init__(self, n_classes) -> None:\n",
    "        super().__init__()\n",
    "\n",
    "        self.conv1 = nn.Conv2d(3, 32, kernel_size=2)\n",
    "        self.dropout1 = nn.Dropout()\n",
    "        self.pool1 = nn.MaxPool2d(kernel_size=2)\n",
    "        self.conv2 = nn.Conv2d(32, 32, kernel_size=2)\n",
    "        self.dropout2 = nn.Dropout()\n",
    "        self.pool2 = nn.MaxPool2d(kernel_size=2)\n",
    "        self.flatten = nn.Flatten()\n",
    "        self.head = nn.Sequential(nn.Linear(784*2, 1000), nn.ReLU(), nn.Linear(1000, n_classes))\n",
    "\n",
    "    def forward(self, X):\n",
    "        X = F.relu(self.dropout1(self.conv1(X)))\n",
    "        X = self.pool1(X)\n",
    "        X = F.relu(self.dropout2(self.conv2(X)))\n",
    "        X = self.pool2(X)\n",
    "        X = self.flatten(X)\n",
    "        return self.head(X)\n"
   ]
  },
  {
   "cell_type": "markdown",
   "id": "8bf16b60",
   "metadata": {},
   "source": [
    "# CIFAR10 dataset"
   ]
  },
  {
   "cell_type": "code",
   "execution_count": 5,
   "id": "a873ee68",
   "metadata": {
    "ExecuteTime": {
     "end_time": "2023-07-24T15:42:15.929852807Z",
     "start_time": "2023-07-24T15:42:15.235397350Z"
    }
   },
   "outputs": [],
   "source": [
    "cifar = CIFAR10(\"~/datasets\", transform=Compose([ToTensor() # ,\n",
    "     # Normalize((0.5, 0.5, 0.5), (0.5, 0.5, 0.5))\n",
    "     ]))\n",
    "c_train, c_val = random_split(cifar, [0.7, 0.3])\n",
    "dl_train = DataLoader(c_train, batch_size=batch_size, shuffle=True)\n",
    "dl_val = DataLoader(c_val, batch_size=batch_size, shuffle=True)\n",
    "dl_test = DataLoader(CIFAR10(\"~/datasets\", train=False, transform=ToTensor()), batch_size=batch_size, shuffle=True)"
   ]
  },
  {
   "cell_type": "code",
   "execution_count": 6,
   "id": "8e576536",
   "metadata": {
    "ExecuteTime": {
     "end_time": "2023-07-24T15:42:16.758365861Z",
     "start_time": "2023-07-24T15:42:15.930132219Z"
    }
   },
   "outputs": [
    {
     "data": {
      "text/plain": "torch.Size([16, 10])"
     },
     "execution_count": 6,
     "metadata": {},
     "output_type": "execute_result"
    }
   ],
   "source": [
    "n_classes = 10\n",
    "res = 32\n",
    "i_channels = 3\n",
    "e_channels = 32\n",
    "n_convs = 16\n",
    "# model = RCNN(res, i_channels, e_channels, n_convs, n_classes).to(device)\n",
    "model = CifarClassifier(n_classes).to(device)\n",
    "x = torch.rand((16, 3, 32, 32)).to(device)\n",
    "model(x).shape"
   ]
  },
  {
   "cell_type": "markdown",
   "id": "a331afd1",
   "metadata": {},
   "source": [
    "## Training"
   ]
  },
  {
   "cell_type": "code",
   "execution_count": 7,
   "id": "ff782efb",
   "metadata": {
    "ExecuteTime": {
     "end_time": "2023-07-24T15:42:16.758508220Z",
     "start_time": "2023-07-24T15:42:16.727550519Z"
    }
   },
   "outputs": [],
   "source": [
    "@torch.no_grad()\n",
    "def validation(model, dataloader, loss_fn):\n",
    "    model.eval()\n",
    "    loss = 0\n",
    "    acc = 0\n",
    "    for x, y in tqdm(dataloader, \"Validation: \", leave=False):\n",
    "        x, y = x.to(device), y.to(device)\n",
    "        prediction_logits = model(x)\n",
    "        loss += loss_fn(prediction_logits, y).item()\n",
    "        acc += (prediction_logits.argmax(1) == y).float().sum().item()\n",
    "    return loss / len(dataloader), acc / len(dataloader.dataset)"
   ]
  },
  {
   "cell_type": "code",
   "execution_count": 8,
   "id": "1d23b76d",
   "metadata": {
    "ExecuteTime": {
     "end_time": "2023-07-24T15:42:16.792932503Z",
     "start_time": "2023-07-24T15:42:16.732463890Z"
    }
   },
   "outputs": [],
   "source": [
    "def training(model, train_dataloader, validation_dataloader, loss_fn, optimizer, epochs, validation_freq, log):\n",
    "    losses, accs = [], []\n",
    "    for t in range(1, epochs + 1):\n",
    "        model.train()\n",
    "        train_loss = 0\n",
    "        for x, y in tqdm(train_dataloader, f\"Epoch #{t}: \", leave=False):\n",
    "            x, y = x.to(device), y.to(device)\n",
    "            prediction_logits = model(x)\n",
    "            loss = loss_fn(prediction_logits, y)\n",
    "            train_loss += loss.item()\n",
    "            optimizer.zero_grad()\n",
    "            loss.backward()\n",
    "            optimizer.step()\n",
    "        \n",
    "        if t % validation_freq == 0:\n",
    "            lss, acc = validation(model, validation_dataloader, loss_fn)\n",
    "            print(f\"Loss Train = {train_loss / len(train_dataloader)}, Loss Val = {lss}, Acc = {acc}\")\n",
    "            losses.append(lss)\n",
    "            accs.append(acc)\n",
    "            log_dict = {\"loss\": lss, \"accuracy\": acc}\n",
    "            if log:\n",
    "                wandb.log(log_dict)\n",
    "\n",
    "    return losses, accs"
   ]
  },
  {
   "cell_type": "code",
   "execution_count": null,
   "id": "3196e009",
   "metadata": {},
   "outputs": [],
   "source": [
    "loss_fn = F.cross_entropy\n",
    "epochs = 30\n",
    "optim = torch.optim.Adam(model.parameters(), lr=0.001)\n",
    "lss, accs = training(model, dl_train, dl_val, loss_fn, optim, epochs, 5, False)"
   ]
  },
  {
   "cell_type": "code",
   "execution_count": null,
   "id": "3d05e565",
   "metadata": {},
   "outputs": [],
   "source": [
    "id_data = ood_score(model, dl_test)\n",
    "ood_data = ood_score(model, dl_ood)"
   ]
  },
  {
   "cell_type": "code",
   "execution_count": null,
   "id": "02c03433",
   "metadata": {},
   "outputs": [],
   "source": [
    "plt.hist(id_data.cpu(), bins=30, density=True, alpha=0.5, label=\"ID\")\n",
    "plt.hist(ood_data.cpu(), bins=30, density=True, alpha=0.5, label=\"OOD\")\n",
    "plt.legend()\n",
    "plt.show()"
   ]
  },
  {
   "cell_type": "markdown",
   "id": "d3878924-66ec-44bc-80af-4ce9b7e46ef2",
   "metadata": {},
   "source": [
    "### Exercise 1.2: Measure your OOD detection performance\n",
    "\n",
    "There are several metrics used to evaluate OOD detection performance, we will concentrate on two threshold-free approaches: the area under the Receiver Operator Characteristic (ROC) curve for ID classification, and the area under the Precision-Recall curve for *both* ID and OOD scoring. See [the ODIN paper](https://arxiv.org/pdf/1706.02690.pdf) section 4.3 for a description of OOD metrics.\n",
    "\n",
    "Use the functions in `sklearn.metrics` to produce ROC and PR curves for your OOD detector. Some useful functions:\n",
    "\n",
    "+ [`sklearn.metric.RocCurveDisplay.from_predictions`](https://scikit-learn.org/stable/modules/generated/sklearn.metrics.RocCurveDisplay.html)\n",
    "+ [`sklearn.metrics.PrecisionRecallDisplay`](https://scikit-learn.org/stable/modules/generated/sklearn.metrics.PrecisionRecallDisplay.html)\n"
   ]
  },
  {
   "cell_type": "code",
   "execution_count": 9,
   "id": "95872246-85fb-41a5-8018-8643d76bfcb9",
   "metadata": {
    "tags": [],
    "ExecuteTime": {
     "end_time": "2023-07-24T15:42:17.030204317Z",
     "start_time": "2023-07-24T15:42:16.773249017Z"
    }
   },
   "outputs": [],
   "source": [
    "# Your code here.\n",
    "from sklearn.metrics import RocCurveDisplay, PrecisionRecallDisplay, precision_score, recall_score\n",
    "@torch.no_grad()\n",
    "def ood_roc_test(model, dataloader_id, dataloader_ood, threshold = 0.4):\n",
    "    predictions = torch.cat((ood_test(model, dataloader_id, threshold), ood_test(model, dataloader_ood, threshold)), dim=0)\n",
    "    true_values = torch.cat((torch.ones(len(dataloader_id.dataset)), torch.zeros(len(dataloader_ood.dataset))), dim=0) \n",
    "    # print(len(dataloader_ood.dataset), len(dataloader_id.dataset), len(true_values), len(predictions))\n",
    "    RocCurveDisplay.from_predictions(true_values, predictions.cpu())\n",
    "    PrecisionRecallDisplay.from_predictions(true_values, predictions.cpu())\n"
   ]
  },
  {
   "cell_type": "code",
   "execution_count": null,
   "id": "0214f045",
   "metadata": {},
   "outputs": [],
   "source": [
    "ood_roc_test(model, dl_test, dl_ood)"
   ]
  },
  {
   "cell_type": "markdown",
   "id": "b00e7265-77c4-4659-9bda-cc23247370bd",
   "metadata": {},
   "source": [
    "---\n",
    "## Exercise 2: Enhancing Robustness to Adversarial Attack\n",
    "\n",
    "In this second exercise we will experiment with enhancing our base model to be (more) robust to adversarial attacks. \n",
    "\n",
    "### Exercise 2.1: Implement FGSM and generate adversarial examples\n",
    "\n",
    "Recall that the Fast Gradient Sign Method (FGSM) perturbs samples in the direction of the gradient with respect to the input $\\mathbf{x}$:\n",
    "$$ \\boldsymbol{\\eta}(\\mathbf{x}) = \\varepsilon \\mathrm{sign}(\\nabla_{\\mathbf{x}} \\mathcal{L}(\\boldsymbol{\\theta}, \\mathbf{x}, y)) ) $$\n",
    "Implement FGSM and generate some *adversarial examples* using your trained ID model. Evaluate these samples qualitatively and quantitatively. Evaluate how dependent on $\\varepsilon$ the quality of these samples are. "
   ]
  },
  {
   "cell_type": "code",
   "execution_count": null,
   "id": "840eaa31",
   "metadata": {},
   "outputs": [],
   "source": [
    "r = torch.randn((10)) * 10\n",
    "r"
   ]
  },
  {
   "cell_type": "code",
   "execution_count": null,
   "id": "14fa9794",
   "metadata": {},
   "outputs": [],
   "source": [
    "s = r.sign()\n",
    "s"
   ]
  },
  {
   "cell_type": "code",
   "execution_count": 10,
   "id": "4c052cbf-c45e-4d03-805e-53b917137043",
   "metadata": {
    "tags": [],
    "ExecuteTime": {
     "end_time": "2023-07-24T15:42:17.030357418Z",
     "start_time": "2023-07-24T15:42:17.009905094Z"
    }
   },
   "outputs": [],
   "source": [
    "# Your code here.\n",
    "def fgs_perturbation(model: torch.nn.Module, batch: torch.Tensor, batch_label: torch.Tensor, loss_fn, epsilon: float = 0.01):\n",
    "    # gradient wrt input\n",
    "    batch.requires_grad = True\n",
    "    model.requires_grad_ = False\n",
    "    logits = model(batch)\n",
    "    loss = loss_fn(logits, batch_label)\n",
    "    loss.backward()\n",
    "    perturbation = batch.grad.data # gradient\n",
    "    perturbation = perturbation.sign() # signed gradient\n",
    "    perturbation = epsilon * perturbation # scaled perturbation\n",
    "    return perturbation"
   ]
  },
  {
   "cell_type": "code",
   "execution_count": null,
   "id": "016957bc",
   "metadata": {},
   "outputs": [],
   "source": [
    "for x, y in dl_train:\n",
    "    batch, batch_labels = x, y\n",
    "    break"
   ]
  },
  {
   "cell_type": "code",
   "execution_count": null,
   "id": "dd2606a7",
   "metadata": {},
   "outputs": [],
   "source": [
    "plt.imshow(batch[0].transpose(0, 1).transpose(1, 2))"
   ]
  },
  {
   "cell_type": "code",
   "execution_count": null,
   "id": "da24e870",
   "metadata": {},
   "outputs": [],
   "source": [
    "cols = 4\n",
    "fig, axes = plt.subplots(2, cols, figsize=(16, 6))\n",
    "for i in range(cols):\n",
    "    x, y = cifar[i][0].to(device), torch.tensor([cifar[i][1]]).to(device)\n",
    "    x = x.view(1, *x.shape)\n",
    "    pert = fgs_perturbation(model, x, y, F.cross_entropy)\n",
    "    perturbed = x + pert\n",
    "    perturbed = perturbed[0] \n",
    "    x = x[0]\n",
    "    axes[0][i].imshow(x.transpose(0, 1).transpose(1, 2).detach().cpu().numpy())\n",
    "    axes[1][i].imshow(perturbed.transpose(0, 1).transpose(1, 2).detach().cpu().numpy())\n",
    "plt.show()"
   ]
  },
  {
   "cell_type": "code",
   "execution_count": null,
   "id": "7990240d",
   "metadata": {},
   "outputs": [],
   "source": [
    "fig, axes = plt.subplots(2, cols, figsize=(16, 6))\n",
    "epsilons = [0.01, 0.02, 0.05, 0.1]\n",
    "for i in range(cols):\n",
    "    x, y = cifar[i][0].to(device), torch.tensor([cifar[i][1]]).to(device)\n",
    "    x = x.view(1, *x.shape)\n",
    "    pert = fgs_perturbation(model, x, y, F.cross_entropy, epsilon=epsilons[i])\n",
    "    perturbed = x + pert\n",
    "    perturbed = perturbed[0] \n",
    "    x = x[0]\n",
    "    axes[0][i].imshow(x.transpose(0, 1).transpose(1, 2).detach().cpu().numpy())\n",
    "    axes[1][i].imshow(perturbed.transpose(0, 1).transpose(1, 2).detach().cpu().numpy())\n",
    "plt.show()"
   ]
  },
  {
   "cell_type": "code",
   "execution_count": null,
   "id": "b3708188",
   "metadata": {},
   "outputs": [],
   "source": [
    "def validation_perturbated(model, dataloader, loss_fn):\n",
    "    model.eval()\n",
    "    loss = 0\n",
    "    acc = 0\n",
    "    for x, y in tqdm(dataloader, \"Validation: \", leave=False):\n",
    "        x, y = x.to(device), y.to(device)\n",
    "        pert = fgs_perturbation(model, x, y, loss_fn, 0.)\n",
    "        x = x + pert\n",
    "        prediction_logits = model(x)\n",
    "        loss += loss_fn(prediction_logits, y).item()\n",
    "        acc += (prediction_logits.argmax(1) == y).float().sum().item()\n",
    "    return loss / len(dataloader), acc / len(dataloader.dataset)\n",
    "\n",
    "validation_perturbated(model, dl_test, F.cross_entropy)"
   ]
  },
  {
   "cell_type": "code",
   "execution_count": null,
   "id": "394477b6",
   "metadata": {},
   "outputs": [],
   "source": [
    "perturbed.shape"
   ]
  },
  {
   "cell_type": "markdown",
   "id": "4d82e7dc-cdfe-4201-8dc5-3891dfd6ea49",
   "metadata": {},
   "source": [
    "### Exercise 2.2: Augment training with adversarial examples\n",
    "\n",
    "Use your implementation of FGSM to augment your training dataset with adversarial samples. Ideally, you should implement this data augmentation *on the fly* so that the adversarial samples are always generated using the current model. Evaluate whether the model is more (or less) robust to ID samples using your OOD detection pipeline and metrics you implemented in Exercise 1."
   ]
  },
  {
   "cell_type": "code",
   "execution_count": 13,
   "id": "61da5e2d-30a9-48d6-86fd-6711612eb976",
   "metadata": {
    "ExecuteTime": {
     "end_time": "2023-07-24T13:53:34.664308493Z",
     "start_time": "2023-07-24T13:53:34.392909293Z"
    }
   },
   "outputs": [
    {
     "ename": "NameError",
     "evalue": "name 'batch' is not defined",
     "output_type": "error",
     "traceback": [
      "\u001B[0;31m---------------------------------------------------------------------------\u001B[0m",
      "\u001B[0;31mNameError\u001B[0m                                 Traceback (most recent call last)",
      "Cell \u001B[0;32mIn[13], line 9\u001B[0m\n\u001B[1;32m      6\u001B[0m     batch_labels \u001B[38;5;241m=\u001B[39m torch\u001B[38;5;241m.\u001B[39mcat([batch_labels, batch_labels], dim\u001B[38;5;241m=\u001B[39m\u001B[38;5;241m0\u001B[39m)\n\u001B[1;32m      7\u001B[0m     \u001B[38;5;28;01mreturn\u001B[39;00m batch, batch_labels\n\u001B[0;32m----> 9\u001B[0m batch, batch_labels \u001B[38;5;241m=\u001B[39m \u001B[43mbatch\u001B[49m\u001B[38;5;241m.\u001B[39mto(device), batch_labels\u001B[38;5;241m.\u001B[39mto(device)\n\u001B[1;32m     10\u001B[0m aug, aug_l \u001B[38;5;241m=\u001B[39m augment_batch(model, batch, batch_labels, F\u001B[38;5;241m.\u001B[39mcross_entropy)\n\u001B[1;32m     11\u001B[0m \u001B[38;5;28mprint\u001B[39m(batch\u001B[38;5;241m.\u001B[39mshape, aug\u001B[38;5;241m.\u001B[39mshape)\n",
      "\u001B[0;31mNameError\u001B[0m: name 'batch' is not defined"
     ]
    }
   ],
   "source": [
    "# Your code here.\n",
    "def augment_batch(model, batch, batch_labels, loss, epsilon=0.01):\n",
    "    pert = fgs_perturbation(model, batch, batch_labels, loss, epsilon)\n",
    "    augmented_data = batch + pert\n",
    "    batch = torch.cat([batch, augmented_data], dim=0)\n",
    "    batch_labels = torch.cat([batch_labels, batch_labels], dim=0)\n",
    "    return batch, batch_labels\n",
    "\n",
    "batch, batch_labels = batch.to(device), batch_labels.to(device)\n",
    "aug, aug_l = augment_batch(model, batch, batch_labels, F.cross_entropy)\n",
    "print(batch.shape, aug.shape)"
   ]
  },
  {
   "cell_type": "code",
   "execution_count": 11,
   "id": "c4cca370",
   "metadata": {
    "ExecuteTime": {
     "end_time": "2023-07-24T15:42:17.030441377Z",
     "start_time": "2023-07-24T15:42:17.014971558Z"
    }
   },
   "outputs": [],
   "source": [
    "# NOTE  l'augment fatto in questo modo implica che il batch size effettivo è doppio rispetto a quello dichiarato (=64) \n",
    "def training_with_augment(model, train_dataloader, validation_dataloader, loss_fn, optimizer, epochs, validation_freq, log):\n",
    "    losses, accs = [], []\n",
    "    for t in range(1, epochs + 1):\n",
    "        model.train()\n",
    "        train_loss = 0\n",
    "        for x, y in tqdm(train_dataloader, f\"Epoch #{t}: \", leave=False):\n",
    "            x, y = x.to(device), y.to(device)\n",
    "            x, y = augment_batch(model, x, y, loss_fn)\n",
    "            prediction_logits = model(x)\n",
    "            loss = loss_fn(prediction_logits, y)\n",
    "            train_loss += loss.item()\n",
    "            optimizer.zero_grad()\n",
    "            loss.backward()\n",
    "            optimizer.step()\n",
    "        \n",
    "        if t % validation_freq == 0:\n",
    "            lss, acc = validation(model, validation_dataloader, loss_fn)\n",
    "            print(f\"Loss Train = {train_loss / len(train_dataloader)}, Loss Val = {lss}, Acc = {acc}\")\n",
    "            losses.append(lss)\n",
    "            accs.append(acc)\n",
    "            log_dict = {\"loss\": lss, \"accuracy\": acc}\n",
    "            if log:\n",
    "                wandb.log(log_dict)\n",
    "\n",
    "    return losses, accs"
   ]
  },
  {
   "cell_type": "code",
   "execution_count": null,
   "id": "d0dea9e3",
   "metadata": {},
   "outputs": [],
   "source": [
    "loss_fn = F.cross_entropy\n",
    "model = CifarClassifier(n_classes).to(device)\n",
    "optim = torch.optim.Adam(model.parameters(), lr=0.001)\n",
    "lss, accs = training_with_augment(model, dl_train, dl_val, loss_fn, optim, epochs, 5, False)"
   ]
  },
  {
   "cell_type": "code",
   "execution_count": null,
   "id": "49123e1e",
   "metadata": {},
   "outputs": [],
   "source": [
    "ood_roc_test(model, dl_test, dl_ood, 1)"
   ]
  },
  {
   "cell_type": "markdown",
   "id": "4aa8666b-85fc-4e83-b8d4-fe6a5dff0fea",
   "metadata": {},
   "source": [
    "---\n",
    "## Exercise 3: Wildcard\n",
    "\n",
    "You know the drill. Pick *ONE* of the following exercises to complete.\n",
    "\n",
    "### Exercise 3.1: Implement ODIN for OOD detection\n",
    "ODIN is a very simple approach, and you can already start experimenting by implementing a temperature hyperparameter in your base model and doing a grid search on $T$ and $\\varepsilon$.\n",
    "\n",
    "### Exercise 3.2: Implement JARN\n",
    "In exercise 2.2 you already implemented Jacobian-regularized learning to make your model more robust to adversarial samples. Add a *discriminator* to your model to encourage the adversarial samples used for regularization to be more *salient*.\n",
    "\n",
    "See [the JARN paper](https://arxiv.org/abs/1912.10185) for more details.\n",
    "\n",
    "### Exercise 3.3: Experiment with *targeted* adversarial attacks\n",
    "Implement the targeted Fast Gradient Sign Method to generate adversarial samples that *imitate* samples from a specific class. Evaluate your adversarial samples qualitatively and quantitatively.\n",
    "\n",
    "## Exercise 3.1: Implement ODIN for OOD detection\n",
    "ODIN is a very simple approach, and you can already start experimenting by implementing a temperature hyperparameter in your base model and doing a grid search on $T$ and $\\varepsilon$."
   ]
  },
  {
   "cell_type": "code",
   "execution_count": 12,
   "id": "c873e8de",
   "metadata": {
    "ExecuteTime": {
     "end_time": "2023-07-24T15:42:17.098729521Z",
     "start_time": "2023-07-24T15:42:17.029901196Z"
    }
   },
   "outputs": [],
   "source": [
    "class CifarClassifierWithODIN(nn.Module):\n",
    "\n",
    "    def __init__(self, n_classes) -> None:\n",
    "        super().__init__()\n",
    "\n",
    "        self.conv1 = nn.Conv2d(3, 32, kernel_size=2)\n",
    "        self.dropout1 = nn.Dropout()\n",
    "        self.pool1 = nn.MaxPool2d(kernel_size=2)\n",
    "        self.conv2 = nn.Conv2d(32, 32, kernel_size=2)\n",
    "        self.dropout2 = nn.Dropout()\n",
    "        self.pool2 = nn.MaxPool2d(kernel_size=2)\n",
    "        self.flatten = nn.Flatten()\n",
    "        self.head = nn.Sequential(nn.Linear(784*2, 1000), nn.ReLU(), nn.Linear(1000, n_classes))\n",
    "\n",
    "    def forward(self, X, T = 1):\n",
    "        X = F.relu(self.dropout1(self.conv1(X)))\n",
    "        X = self.pool1(X)\n",
    "        X = F.relu(self.dropout2(self.conv2(X)))\n",
    "        X = self.pool2(X)\n",
    "        X = self.flatten(X)\n",
    "        return self.head(X) / T"
   ]
  },
  {
   "cell_type": "code",
   "execution_count": 13,
   "id": "e70185ce",
   "metadata": {
    "ExecuteTime": {
     "end_time": "2023-07-24T15:42:17.132390293Z",
     "start_time": "2023-07-24T15:42:17.047598740Z"
    }
   },
   "outputs": [],
   "source": [
    "# Your code here.\n",
    "\n",
    "def odin_perturbation(model: torch.nn.Module, batch: torch.Tensor, epsilon: float = 0.01):\n",
    "    # gradient wrt input\n",
    "    batch.requires_grad = True\n",
    "    model.requires_grad_ = False\n",
    "    logits = model(batch)\n",
    "    probabilities, _ = torch.max(F.log_softmax(logits, dim=1), dim=1)\n",
    "    probabilities.sum().backward()\n",
    "\n",
    "    perturbation = -batch.grad.data # gradient\n",
    "    perturbation = perturbation.sign() # signed gradient\n",
    "    perturbation = epsilon * perturbation # scaled perturbation\n",
    "    return perturbation\n",
    "\n",
    "def odin_augment(model, batch, epsilon=0.01):\n",
    "    pert = odin_perturbation(model, batch, epsilon)\n",
    "    augmented_data = batch - pert\n",
    "    # batch = torch.cat([batch, augmented_data], dim=0)\n",
    "    # batch_labels = torch.cat([batch_labels, batch_labels], dim=0)\n",
    "    return augmented_data"
   ]
  },
  {
   "cell_type": "code",
   "execution_count": 21,
   "id": "87e7f67f",
   "metadata": {
    "ExecuteTime": {
     "end_time": "2023-07-24T16:09:26.161499975Z",
     "start_time": "2023-07-24T16:09:26.066969476Z"
    }
   },
   "outputs": [],
   "source": [
    "def ood_odin_classication(model, dataloader, temperature, threshold = .3):\n",
    "    probs = []\n",
    "    for x, _ in dataloader:\n",
    "        x = x.to(device)\n",
    "        x = odin_augment(model, x)\n",
    "        prob, _ = torch.max(F.softmax(model(x, temperature), dim=1), dim=1)\n",
    "        probs.append(prob)\n",
    "    probs = torch.cat(probs, dim=0)\n",
    "    return probs > threshold\n"
   ]
  },
  {
   "cell_type": "code",
   "execution_count": 15,
   "id": "6d9a6dfc",
   "metadata": {
    "ExecuteTime": {
     "end_time": "2023-07-24T15:42:17.132999071Z",
     "start_time": "2023-07-24T15:42:17.088355358Z"
    }
   },
   "outputs": [],
   "source": [
    "# Your code here.\n",
    "from sklearn.metrics import RocCurveDisplay, PrecisionRecallDisplay\n",
    "def ood_odin_test(model, dataloader_id, dataloader_ood, temperature, threshold):\n",
    "    predictions = torch.cat((ood_odin_classication(model, dataloader_id, temperature, threshold), ood_odin_classication(model, dataloader_ood, temperature, threshold)), dim=0)\n",
    "    true_values = torch.cat((torch.ones(len(dataloader_id.dataset)), torch.zeros(len(dataloader_ood.dataset))), dim=0).to(device)\n",
    "    # print(len(dataloader_ood.dataset), len(dataloader_id.dataset), len(true_values), len(predictions))\n",
    "    # compute true positive and false positive\n",
    "    tp = (predictions == 1) * (true_values == 1)\n",
    "    fp = (predictions == 1) * (true_values == 0)\n",
    "\n",
    "    # compute true negative and false negative\n",
    "    tn = (predictions == 0) * (true_values == 0)\n",
    "    fn = (predictions == 0) * (true_values == 1)\n",
    "    return tp.sum().item(), fp.sum().item(), tn.sum().item(), fn.sum().item()\n",
    "    # RocCurveDisplay.from_predictions(true_values, predictions.cpu(), name=f\"T={temperature}, eps={threshold}\")\n",
    "    # PrecisionRecallDisplay.from_predictions(true_values, predictions.cpu())"
   ]
  },
  {
   "cell_type": "code",
   "execution_count": 22,
   "id": "2eb838a3",
   "metadata": {
    "ExecuteTime": {
     "end_time": "2023-07-24T16:11:48.064823282Z",
     "start_time": "2023-07-24T16:09:28.215713433Z"
    }
   },
   "outputs": [
    {
     "name": "stderr",
     "output_type": "stream",
     "text": [
      "                                                              \r"
     ]
    },
    {
     "name": "stdout",
     "output_type": "stream",
     "text": [
      "Loss Train = 0.9252255844459674, Loss Val = 1.2712334830710228, Acc = 0.6056666666666667\n"
     ]
    },
    {
     "name": "stderr",
     "output_type": "stream",
     "text": [
      "                                                              \r"
     ]
    },
    {
     "name": "stdout",
     "output_type": "stream",
     "text": [
      "Loss Train = 0.5408912023743938, Loss Val = 1.0569293105855901, Acc = 0.6466666666666666\n"
     ]
    },
    {
     "name": "stderr",
     "output_type": "stream",
     "text": [
      "                                                              \r"
     ]
    },
    {
     "name": "stdout",
     "output_type": "stream",
     "text": [
      "Loss Train = 0.30398687891920917, Loss Val = 1.001981667762107, Acc = 0.6526\n"
     ]
    },
    {
     "name": "stderr",
     "output_type": "stream",
     "text": [
      "                                                              \r"
     ]
    },
    {
     "name": "stdout",
     "output_type": "stream",
     "text": [
      "Loss Train = 0.20726991897717909, Loss Val = 1.038426000513929, Acc = 0.6416666666666667\n"
     ]
    },
    {
     "name": "stderr",
     "output_type": "stream",
     "text": [
      "                                                              \r"
     ]
    },
    {
     "name": "stdout",
     "output_type": "stream",
     "text": [
      "Loss Train = 0.1611172705105552, Loss Val = 1.0545814800769724, Acc = 0.65\n"
     ]
    },
    {
     "name": "stderr",
     "output_type": "stream",
     "text": [
      "                                                              "
     ]
    },
    {
     "name": "stdout",
     "output_type": "stream",
     "text": [
      "Loss Train = 0.13204438556360262, Loss Val = 1.0512549062992664, Acc = 0.6544666666666666\n"
     ]
    },
    {
     "name": "stderr",
     "output_type": "stream",
     "text": [
      "\r"
     ]
    },
    {
     "data": {
      "text/plain": "([1.2712334830710228,\n  1.0569293105855901,\n  1.001981667762107,\n  1.038426000513929,\n  1.0545814800769724,\n  1.0512549062992664],\n [0.6056666666666667,\n  0.6466666666666666,\n  0.6526,\n  0.6416666666666667,\n  0.65,\n  0.6544666666666666])"
     },
     "execution_count": 22,
     "metadata": {},
     "output_type": "execute_result"
    }
   ],
   "source": [
    "n_classes = 10\n",
    "epochs = 30\n",
    "odin_model = CifarClassifierWithODIN(n_classes).to(device)\n",
    "optimizer = torch.optim.Adam(odin_model.parameters(), lr=0.001)\n",
    "loss = F.cross_entropy\n",
    "training(odin_model, dl_train, dl_val, loss, optimizer, epochs, 5, False)"
   ]
  },
  {
   "cell_type": "code",
   "execution_count": 30,
   "id": "69a53d3b",
   "metadata": {
    "ExecuteTime": {
     "end_time": "2023-07-24T16:31:02.892041175Z",
     "start_time": "2023-07-24T16:28:37.124267506Z"
    }
   },
   "outputs": [
    {
     "name": "stdout",
     "output_type": "stream",
     "text": [
      "10000 5000 0 0\n",
      "10000 5000 0 0\n",
      "10000 5000 0 0\n",
      "10000 5000 0 0\n",
      "9999 5000 0 1\n",
      "9999 5000 0 1\n",
      "9997 4998 2 3\n",
      "9993 4994 6 7\n",
      "9992 4990 10 8\n",
      "9986 4986 14 14\n",
      "9963 4964 36 37\n",
      "9923 4926 74 77\n",
      "9813 4824 176 187\n",
      "10000 5000 0 0\n",
      "9999 5000 0 1\n",
      "9996 4995 5 4\n",
      "9984 4982 18 16\n",
      "9951 4935 65 49\n",
      "9836 4832 168 164\n",
      "9635 4617 383 365\n",
      "9280 4271 729 720\n",
      "8763 3794 1206 1237\n",
      "8050 3207 1793 1950\n",
      "7185 2552 2448 2815\n",
      "6173 1895 3105 3827\n",
      "5128 1267 3733 4872\n",
      "9999 4999 1 1\n",
      "9986 4981 19 14\n",
      "9869 4869 131 131\n",
      "9543 4514 486 457\n",
      "8892 3916 1084 1108\n",
      "7951 3128 1872 2049\n",
      "6867 2322 2678 3133\n",
      "5767 1623 3377 4233\n",
      "4673 1062 3938 5327\n",
      "3771 675 4325 6229\n",
      "2896 377 4623 7104\n",
      "2154 189 4811 7846\n",
      "1483 86 4914 8517\n",
      "9992 4987 13 8\n",
      "9803 4774 226 197\n",
      "9051 4033 967 949\n",
      "7704 2944 2056 2296\n",
      "6206 1922 3078 3794\n",
      "4780 1122 3878 5220\n",
      "3682 629 4371 6318\n",
      "2724 331 4669 7276\n",
      "1970 154 4846 8030\n",
      "1393 67 4933 8607\n",
      "935 29 4971 9065\n",
      "632 17 4983 9368\n",
      "395 6 4994 9605\n",
      "9917 4899 101 83\n",
      "9050 4042 958 950\n",
      "7168 2543 2457 2832\n",
      "5225 1352 3648 4775\n",
      "3694 637 4363 6306\n",
      "2527 277 4723 7473\n",
      "1690 114 4886 8310\n",
      "1127 42 4958 8873\n",
      "753 23 4977 9247\n",
      "495 12 4988 9505\n",
      "299 3 4997 9701\n",
      "160 1 4999 9840\n",
      "88 0 5000 9912\n",
      "9615 4587 413 385\n",
      "7580 2846 2154 2420\n",
      "5062 1274 3726 4938\n",
      "3222 485 4515 6778\n",
      "1984 166 4834 8016\n",
      "1225 53 4947 8775\n",
      "759 23 4977 9241\n",
      "471 11 4989 9529\n",
      "282 2 4998 9718\n",
      "146 0 5000 9854\n",
      "86 0 5000 9914\n",
      "44 0 5000 9956\n",
      "9 0 5000 9991\n",
      "8977 3970 1030 1023\n",
      "5851 1708 3292 4149\n",
      "3363 521 4479 6637\n",
      "1839 142 4858 8161\n",
      "1033 37 4963 8967\n",
      "610 16 4984 9390\n",
      "336 4 4996 9664\n",
      "177 1 4999 9823\n",
      "91 0 5000 9909\n",
      "48 0 5000 9952\n",
      "12 0 5000 9988\n",
      "4 0 5000 9996\n",
      "3 0 5000 9997\n",
      "7903 3115 1885 2097\n",
      "4276 915 4085 5724\n",
      "2097 194 4806 7903\n",
      "1042 36 4964 8958\n",
      "543 13 4987 9457\n",
      "278 2 4998 9722\n",
      "122 0 5000 9878\n",
      "67 0 5000 9933\n",
      "24 0 5000 9976\n",
      "7 0 5000 9993\n",
      "3 0 5000 9997\n",
      "1 0 5000 9999\n",
      "0 0 5000 10000\n"
     ]
    },
    {
     "ename": "ZeroDivisionError",
     "evalue": "division by zero",
     "output_type": "error",
     "traceback": [
      "\u001B[0;31m---------------------------------------------------------------------------\u001B[0m",
      "\u001B[0;31mZeroDivisionError\u001B[0m                         Traceback (most recent call last)",
      "Cell \u001B[0;32mIn[30], line 16\u001B[0m\n\u001B[1;32m     14\u001B[0m     tpr\u001B[38;5;241m.\u001B[39mappend((tp \u001B[38;5;241m/\u001B[39m (tp \u001B[38;5;241m+\u001B[39m fn)))\n\u001B[1;32m     15\u001B[0m     fpr\u001B[38;5;241m.\u001B[39mappend((fp \u001B[38;5;241m/\u001B[39m (fp \u001B[38;5;241m+\u001B[39m tn)))\n\u001B[0;32m---> 16\u001B[0m     precision\u001B[38;5;241m.\u001B[39mappend((\u001B[43mtp\u001B[49m\u001B[43m \u001B[49m\u001B[38;5;241;43m/\u001B[39;49m\u001B[43m \u001B[49m\u001B[43m(\u001B[49m\u001B[43mtp\u001B[49m\u001B[43m \u001B[49m\u001B[38;5;241;43m+\u001B[39;49m\u001B[43m \u001B[49m\u001B[43mfp\u001B[49m\u001B[43m)\u001B[49m))\n\u001B[1;32m     17\u001B[0m     \u001B[38;5;66;03m# recall.append(tp / (tp + fn))\u001B[39;00m\n\u001B[1;32m     18\u001B[0m     \u001B[38;5;66;03m# print(tp + fn, fp + tn)\u001B[39;00m\n\u001B[1;32m     19\u001B[0m fpr \u001B[38;5;241m=\u001B[39m np\u001B[38;5;241m.\u001B[39marray(fpr)\n",
      "\u001B[0;31mZeroDivisionError\u001B[0m: division by zero"
     ]
    },
    {
     "data": {
      "text/plain": "<Figure size 1600x600 with 16 Axes>",
      "image/png": "[encoded data removed]"
     },
     "metadata": {},
     "output_type": "display_data"
    }
   ],
   "source": [
    "temperatures = [i for i in range(1, 8)]\n",
    "cols = len(temperatures)\n",
    "epsilons = [.05 * i for i in range(4, 17)]\n",
    "rows=2\n",
    "fig, axes = plt.subplots(rows, cols, figsize=(20, 8))\n",
    "for c, T in enumerate(temperatures):\n",
    "    tpr = [] # MEMO: equivale alla recall\n",
    "    fpr = []\n",
    "    precision = []\n",
    "    # recall = []\n",
    "    for eps in epsilons:\n",
    "        tp, fp, tn, fn = ood_odin_test(odin_model, dl_test, dl_ood, T, eps)\n",
    "        print(tp, fp, tn, fn)\n",
    "        tpr.append((tp / (tp + fn)))\n",
    "        fpr.append((fp / (fp + tn)))\n",
    "        precision.append((tp / (tp + fp)))\n",
    "        # recall.append(tp / (tp + fn))\n",
    "        # print(tp + fn, fp + tn)\n",
    "    fpr = np.array(fpr)\n",
    "    tpr=np.array(tpr)\n",
    "    # print(fpr, tpr)\n",
    "    rcd = RocCurveDisplay(fpr=np.array(fpr), tpr=np.array(tpr))\n",
    "    prd = PrecisionRecallDisplay(recall=np.array(tpr), precision=np.array(precision))\n",
    "    rcd.plot(name=f\"T={T}\", ax=axes[0][c])\n",
    "    prd.plot(name=f\"T={T}\", ax=axes[1][c])"
   ]
  },
  {
   "cell_type": "code",
   "execution_count": null,
   "id": "09966b6e",
   "metadata": {},
   "outputs": [],
   "source": []
  }
 ],
 "metadata": {
  "kernelspec": {
   "display_name": "Python 3 (ipykernel)",
   "language": "python",
   "name": "python3"
  },
  "language_info": {
   "codemirror_mode": {
    "name": "ipython",
    "version": 3
   },
   "file_extension": ".py",
   "mimetype": "text/x-python",
   "name": "python",
   "nbconvert_exporter": "python",
   "pygments_lexer": "ipython3",
   "version": "3.10.9"
  }
 },
 "nbformat": 4,
 "nbformat_minor": 5
}
