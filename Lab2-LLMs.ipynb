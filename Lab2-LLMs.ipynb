{
 "cells": [
  {
   "attachments": {},
   "cell_type": "markdown",
   "id": "0f5d0b9d-7980-4d2c-8154-c07a5f8b5525",
   "metadata": {},
   "source": [
    "# Introduction\n",
    "In this laboratory we will get our hands dirty working with Large Language Models (e.g. GPT and BERT) to do various useful things. I you haven't already, it is highly recommended to:\n",
    "\n",
    "+ Read the [Attention is All you Need](https://arxiv.org/abs/1706.03762) paper, which is the basis for all transformer-based LLMs.\n",
    "+ Watch (and potentially *code along*) with this [Andrej Karpathy video](https://www.youtube.com/watch?v=kCc8FmEb1nY) which shows you how to build an autoregressive GPT model from the ground up.\n",
    "\n",
    "# Exercise 1: Warming Up\n",
    "In this first exercise you will train a *small* autoregressive GPT model for character generation (the one used by Karpathy in his video) to generate text in the style of Dante Aligheri. Use [this file](https://archive.org/stream/ladivinacommedia00997gut/1ddcd09.txt), which contains the entire text of Dante's Inferno (**note**: you will have to delete some introductory text at the top of the file before training). Train the model for a few epochs, monitor the loss, and generate some text at the end of training. Qualitatively evaluate the results "
   ]
  },
  {
   "cell_type": "code",
   "execution_count": 1,
   "id": "bd466d3b-cc41-4de3-9f82-3547569909f0",
   "metadata": {
    "tags": []
   },
   "outputs": [],
   "source": [
    "# Your code here.\n",
    "import torch\n",
    "import torch.nn as nn\n",
    "import torch.nn.functional as F\n",
    "from torch.utils.data import Dataset, DataLoader\n",
    "from tqdm import tqdm\n",
    "import wandb\n",
    "device = 'cuda' if torch.cuda.is_available() else 'cpu'"
   ]
  },
  {
   "cell_type": "markdown",
   "id": "735a497d",
   "metadata": {},
   "source": [
    "# Data proeprocessing"
   ]
  },
  {
   "cell_type": "code",
   "execution_count": 2,
   "id": "757a16ad",
   "metadata": {},
   "outputs": [],
   "source": [
    "from os.path import expanduser\n",
    "\n",
    "class TextDS(Dataset):\n",
    "    def __init__(self, block_size: int, path = expanduser('~') + \"/datasets/commedia.txt\", start: float = 0, stop: float= 0.7) -> None:\n",
    "        super().__init__()\n",
    "        with open(path, 'r') as f:\n",
    "            self.text = f.read()\n",
    "        l = len(self.text)\n",
    "        self.text = self.text[int(start * l): int(stop * l)]\n",
    "        self.vocab = sorted(list(set(self.text)))\n",
    "        self.vocab_size = len(self.vocab)\n",
    "        self.stoi = { ch: i for i, ch in enumerate(self.vocab) }\n",
    "        self.itos = { i: ch for i, ch in enumerate(self.vocab) }\n",
    "        self.encode = lambda s: [self.stoi[c] for c in s]\n",
    "        self.decode = lambda l: ''.join([self.itos[i] for i in l])\n",
    "        self.block_size = block_size\n",
    "\n",
    "        self.data = torch.Tensor(self.encode(self.text)).type(torch.LongTensor)\n",
    "\n",
    "    def __len__(self): return len(self.text) - (self.block_size + 1)\n",
    "\n",
    "    def __getitem__(self, index):\n",
    "        x = self.data[index: index + self.block_size]\n",
    "        y = self.data[index + 1: index + self.block_size + 1]\n",
    "        return x, y"
   ]
  },
  {
   "cell_type": "code",
   "execution_count": 3,
   "id": "a0ab1880",
   "metadata": {},
   "outputs": [
    {
     "name": "stdout",
     "output_type": "stream",
     "text": [
      "torch.Size([8, 32]) torch.Size([8, 32])\n"
     ]
    }
   ],
   "source": [
    "block_size = 32\n",
    "batch_size = 8\n",
    "train_ds = TextDS(block_size, start=0, stop=0.3)\n",
    "train_dl = DataLoader(train_ds, batch_size, True)\n",
    "val_ds = TextDS(block_size, start=0.7, stop=0.9)\n",
    "val_dl = DataLoader(val_ds, batch_size, True)\n",
    "test_ds = TextDS(block_size, start=0.9, stop=1)\n",
    "train_dl = DataLoader(train_ds, batch_size, True)\n",
    "\n",
    "for x, y in train_dl:\n",
    "    print(x.shape, y.shape)\n",
    "    break\n"
   ]
  },
  {
   "cell_type": "code",
   "execution_count": 74,
   "id": "bc73e6eb",
   "metadata": {},
   "outputs": [],
   "source": [
    "class AttentionHead(nn.Module):\n",
    "    # take in input an embedding\n",
    "\n",
    "    def __init__(self, input_size: int, head_size: int, block_size: int, masked: bool = True) -> None:\n",
    "        super(AttentionHead, self).__init__()\n",
    "        self.Q = nn.Linear(input_size, head_size)\n",
    "        self.K = nn.Linear(input_size, head_size)\n",
    "        self.V = nn.Linear(input_size, head_size)\n",
    "        self.dropout = nn.Dropout()\n",
    "        self.d = head_size\n",
    "        self.masked = masked\n",
    "        if self.masked:\n",
    "            self.tril = torch.tril(torch.ones((block_size, block_size))).to(device)\n",
    "\n",
    "    def forward(self, X):\n",
    "        # X [B T C]\n",
    "        # B, T, C = X.shape\n",
    "        q = self.Q(X) # [B T D]\n",
    "        k = self.K(X)\n",
    "        v = self.V(X)\n",
    "\n",
    "        qk: torch.Tensor = (q @ k.transpose(-1, -2)) / (self.d ** 0.5) # [B T D] @ [B D T] = [B T T]      \n",
    "        if self.masked:\n",
    "            qk = self.dropout(qk)\n",
    "            qk = qk.masked_fill(self.tril == 0, float('-inf'))\n",
    "        # qk = F.softmax(qk, dim=-1)\n",
    "        # print(\"a\", qk.isnan().any())\n",
    "        return F.softmax(qk, dim=-1) @ v # [B T T] @ [B T D] = [B T D]\n",
    "        \n",
    "class MultiHeadAttention(nn.Module):\n",
    "\n",
    "    def __init__(self, embedding_size: int, head_size: int, num_heads: int, block_size: int, masked: bool = True) -> None:\n",
    "        super(MultiHeadAttention, self).__init__()\n",
    "        self.heads = nn.ModuleList([AttentionHead(embedding_size, head_size, block_size, masked) for _ in range(num_heads)])\n",
    "        self.projection = nn.Linear(head_size * num_heads, embedding_size)\n",
    "        self.dropout = nn.Dropout()\n",
    "\n",
    "    def forward(self, X):\n",
    "        # each head has an output of [B T T], stacking at [B T (T*N)]\n",
    "        concat = torch.cat([head(X) for head in self.heads], dim=-1) # last dimension\n",
    "        out = self.projection(concat)\n",
    "        out = self.dropout(out)\n",
    "        return out\n",
    "\n",
    "class FeedFoward(nn.Module):\n",
    "\n",
    "    def __init__(self, n_embd):\n",
    "        super(FeedFoward, self).__init__()\n",
    "        self.net = nn.Sequential(\n",
    "            nn.Linear(n_embd, 4 * n_embd),\n",
    "            nn.ReLU(),\n",
    "            nn.Linear(4 * n_embd, n_embd),\n",
    "            nn.Dropout(0.5)\n",
    "        )\n",
    "\n",
    "    def forward(self, x):\n",
    "        return self.net(x)\n",
    "\n",
    "class TransformerBlock(nn.Module):\n",
    "\n",
    "    def __init__(self, embedding_size, num_heads, block_size) -> None:\n",
    "        super(TransformerBlock, self).__init__()\n",
    "        head_size = embedding_size // num_heads\n",
    "        self.mha = MultiHeadAttention(embedding_size, head_size, num_heads, block_size)\n",
    "        self.feed_forward = FeedFoward(embedding_size)\n",
    "        self.ln1 = nn.LayerNorm(embedding_size)\n",
    "        self.ln2 = nn.LayerNorm(embedding_size)\n",
    "\n",
    "    def forward(self, X):\n",
    "        X = X + self.mha(self.ln1(X))\n",
    "        X = X + self.feed_forward(self.ln2(X))\n",
    "        return X\n",
    "    \n",
    "class BLM(nn.Module):\n",
    "    def __init__(self, vocab_size: int, embedding_size: int, num_heads: int, block_size: int, num_layers: int) -> None:\n",
    "        super(BLM, self).__init__()\n",
    "        self.token_embedding_table = nn.Embedding(vocab_size, embedding_size)\n",
    "        self.position_embedding_table = nn.Embedding(block_size, embedding_size)\n",
    "        self.blocks = nn.Sequential(*[TransformerBlock(embedding_size, num_heads, block_size) for _ in range(num_layers)]) \n",
    "        self.ln_f = nn.LayerNorm(embedding_size) # final layer norm\n",
    "        self.lm_head = nn.Linear(embedding_size, vocab_size)\n",
    "\n",
    "    def forward(self, X):\n",
    "        T = X.shape[-1]\n",
    "        token_embedding = self.token_embedding_table(X)\n",
    "        position_embedding = self.position_embedding_table(torch.arange(T, device=device))\n",
    "        X = token_embedding + position_embedding\n",
    "        X = self.blocks(X)\n",
    "        X = self.ln_f(X)\n",
    "        X = self.lm_head(X)\n",
    "        return X\n",
    "\n",
    "    def generate(self, X, max_new_token: int):\n",
    "        # NOTE: Assume the input to be a single element, not a batch!\n",
    "        # X is [T]\n",
    "        T = X.shape[-1]\n",
    "        for _ in range(max_new_token):\n",
    "            # use last T tokens\n",
    "            logits = self(X[-T:]) # [T C]\n",
    "            # get the last timestep\n",
    "            logits = logits[-1, :]\n",
    "            # get the distribution of the next element\n",
    "            probs = F.softmax(logits, dim=-1) # softmax over the last dimensiont\n",
    "            next_token = torch.multinomial(probs, num_samples=1)\n",
    "            X = torch.cat((X, next_token), dim=0)\n",
    "        return X"
   ]
  },
  {
   "cell_type": "markdown",
   "id": "83a55677",
   "metadata": {},
   "source": [
    "# Train & Validation"
   ]
  },
  {
   "cell_type": "code",
   "execution_count": 75,
   "id": "93b85a4a",
   "metadata": {},
   "outputs": [],
   "source": [
    "@torch.no_grad()\n",
    "def validation(model, dataloader, loss_fn):\n",
    "    model.eval()\n",
    "    loss = 0\n",
    "    acc = 0\n",
    "    for x, y in tqdm(dataloader, \"Validation: \", leave=False):\n",
    "        x, y = x.to(device), y.to(device)\n",
    "        prediction_logits = model(x)\n",
    "\n",
    "        B, T, C = prediction_logits.shape\n",
    "        prediction_logits = prediction_logits.view(B*T, C)\n",
    "        y = y.view(B*T)\n",
    "\n",
    "        loss += loss_fn(prediction_logits, y).item()\n",
    "        acc += (prediction_logits.argmax(1) == y).float().sum().item()\n",
    "    return loss / len(dataloader), acc / len(dataloader.dataset)\n",
    "\n",
    "def training(model, train_dataloader, validation_dataloader, loss_fn, optimizer, epochs, validation_freq, log):\n",
    "    losses, accs = [], []\n",
    "    for t in range(1, epochs + 1):\n",
    "        model.train()\n",
    "        for x, y in tqdm(train_dataloader, f\"Epoch #{t}: \", leave=False):\n",
    "            x, y = x.to(device), y.to(device)\n",
    "            prediction_logits = model(x)\n",
    "\n",
    "            B, T, C = prediction_logits.shape\n",
    "            prediction_logits = prediction_logits.view(B*T, C)\n",
    "            y = y.view(B*T)\n",
    "            \n",
    "            loss = loss_fn(prediction_logits, y)\n",
    "\n",
    "            optimizer.zero_grad()\n",
    "            loss.backward()\n",
    "            optimizer.step()\n",
    "        \n",
    "        if t % validation_freq == 0:\n",
    "            lss, acc = validation(model, validation_dataloader, loss_fn)\n",
    "            losses.append(lss)\n",
    "            accs.append(acc)\n",
    "            log_dict = {\"loss\": lss, \"accuracy\": acc}\n",
    "            if log:\n",
    "                wandb.log(log_dict)\n",
    "\n",
    "    return losses, accs"
   ]
  },
  {
   "cell_type": "code",
   "execution_count": 80,
   "id": "ce541515",
   "metadata": {},
   "outputs": [],
   "source": [
    "epochs = 10\n",
    "embedding_size = 512\n",
    "num_head = 16\n",
    "num_layers = 6\n",
    "validation_freq = 5\n",
    "blm = BLM(train_ds.vocab_size, embedding_size, num_head, block_size, num_layers).to(device)\n",
    "optimizer = torch.optim.Adam(blm.parameters(), lr=0.001)\n",
    "loss = F.cross_entropy\n",
    "\n",
    "# wandb.init(\n",
    "#     project=\"DLA Lab 2 1.0\",\n",
    "# )\n",
    "# training(blm, train_dl, val_dl, loss, optimizer, epochs, validation_freq, False)\n",
    "# wandb.finish()"
   ]
  },
  {
   "cell_type": "code",
   "execution_count": 81,
   "id": "96adb432",
   "metadata": {},
   "outputs": [
    {
     "name": "stdout",
     "output_type": "stream",
     "text": [
      "\n",
      "  che' la diritta via era smarrNgtVCh` \"VAZaCSQtr!Es;-\"c.S:VB.vMgpEPhtB,>bRLDBeZZ\n"
     ]
    }
   ],
   "source": [
    "blm.eval()\n",
    "generated_tokens = blm.generate(train_ds[100][0].to(device),max_new_token=50)\n",
    "generated_tokens = generated_tokens.tolist()\n",
    "generated_text = train_ds.decode(generated_tokens)\n",
    "print(generated_text)"
   ]
  },
  {
   "cell_type": "code",
   "execution_count": 82,
   "id": "1a410f74",
   "metadata": {},
   "outputs": [
    {
     "name": "stderr",
     "output_type": "stream",
     "text": [
      "                                                             \r"
     ]
    },
    {
     "ename": "KeyboardInterrupt",
     "evalue": "",
     "output_type": "error",
     "traceback": [
      "\u001b[0;31m---------------------------------------------------------------------------\u001b[0m",
      "\u001b[0;31mKeyboardInterrupt\u001b[0m                         Traceback (most recent call last)",
      "Cell \u001b[0;32mIn[82], line 1\u001b[0m\n\u001b[0;32m----> 1\u001b[0m training(blm, train_dl, val_dl, loss, optimizer, epochs, validation_freq, \u001b[39mFalse\u001b[39;49;00m)\n",
      "Cell \u001b[0;32mIn[75], line 34\u001b[0m, in \u001b[0;36mtraining\u001b[0;34m(model, train_dataloader, validation_dataloader, loss_fn, optimizer, epochs, validation_freq, log)\u001b[0m\n\u001b[1;32m     32\u001b[0m     optimizer\u001b[39m.\u001b[39mzero_grad()\n\u001b[1;32m     33\u001b[0m     loss\u001b[39m.\u001b[39mbackward()\n\u001b[0;32m---> 34\u001b[0m     optimizer\u001b[39m.\u001b[39;49mstep()\n\u001b[1;32m     36\u001b[0m \u001b[39mif\u001b[39;00m t \u001b[39m%\u001b[39m validation_freq \u001b[39m==\u001b[39m \u001b[39m0\u001b[39m:\n\u001b[1;32m     37\u001b[0m     lss, acc \u001b[39m=\u001b[39m validation(model, validation_dataloader, loss_fn)\n",
      "File \u001b[0;32m~/miniconda3/lib/python3.10/site-packages/torch/optim/optimizer.py:280\u001b[0m, in \u001b[0;36mOptimizer.profile_hook_step.<locals>.wrapper\u001b[0;34m(*args, **kwargs)\u001b[0m\n\u001b[1;32m    276\u001b[0m         \u001b[39melse\u001b[39;00m:\n\u001b[1;32m    277\u001b[0m             \u001b[39mraise\u001b[39;00m \u001b[39mRuntimeError\u001b[39;00m(\u001b[39mf\u001b[39m\u001b[39m\"\u001b[39m\u001b[39m{\u001b[39;00mfunc\u001b[39m}\u001b[39;00m\u001b[39m must return None or a tuple of (new_args, new_kwargs),\u001b[39m\u001b[39m\"\u001b[39m\n\u001b[1;32m    278\u001b[0m                                \u001b[39mf\u001b[39m\u001b[39m\"\u001b[39m\u001b[39mbut got \u001b[39m\u001b[39m{\u001b[39;00mresult\u001b[39m}\u001b[39;00m\u001b[39m.\u001b[39m\u001b[39m\"\u001b[39m)\n\u001b[0;32m--> 280\u001b[0m out \u001b[39m=\u001b[39m func(\u001b[39m*\u001b[39;49margs, \u001b[39m*\u001b[39;49m\u001b[39m*\u001b[39;49mkwargs)\n\u001b[1;32m    281\u001b[0m \u001b[39mself\u001b[39m\u001b[39m.\u001b[39m_optimizer_step_code()\n\u001b[1;32m    283\u001b[0m \u001b[39m# call optimizer step post hooks\u001b[39;00m\n",
      "File \u001b[0;32m~/miniconda3/lib/python3.10/site-packages/torch/optim/optimizer.py:33\u001b[0m, in \u001b[0;36m_use_grad_for_differentiable.<locals>._use_grad\u001b[0;34m(self, *args, **kwargs)\u001b[0m\n\u001b[1;32m     31\u001b[0m \u001b[39mtry\u001b[39;00m:\n\u001b[1;32m     32\u001b[0m     torch\u001b[39m.\u001b[39mset_grad_enabled(\u001b[39mself\u001b[39m\u001b[39m.\u001b[39mdefaults[\u001b[39m'\u001b[39m\u001b[39mdifferentiable\u001b[39m\u001b[39m'\u001b[39m])\n\u001b[0;32m---> 33\u001b[0m     ret \u001b[39m=\u001b[39m func(\u001b[39mself\u001b[39;49m, \u001b[39m*\u001b[39;49margs, \u001b[39m*\u001b[39;49m\u001b[39m*\u001b[39;49mkwargs)\n\u001b[1;32m     34\u001b[0m \u001b[39mfinally\u001b[39;00m:\n\u001b[1;32m     35\u001b[0m     torch\u001b[39m.\u001b[39mset_grad_enabled(prev_grad)\n",
      "File \u001b[0;32m~/miniconda3/lib/python3.10/site-packages/torch/optim/adam.py:132\u001b[0m, in \u001b[0;36mAdam.step\u001b[0;34m(self, closure)\u001b[0m\n\u001b[1;32m    129\u001b[0m     state_steps \u001b[39m=\u001b[39m []\n\u001b[1;32m    130\u001b[0m     beta1, beta2 \u001b[39m=\u001b[39m group[\u001b[39m'\u001b[39m\u001b[39mbetas\u001b[39m\u001b[39m'\u001b[39m]\n\u001b[0;32m--> 132\u001b[0m     \u001b[39mself\u001b[39;49m\u001b[39m.\u001b[39;49m_init_group(\n\u001b[1;32m    133\u001b[0m         group,\n\u001b[1;32m    134\u001b[0m         params_with_grad,\n\u001b[1;32m    135\u001b[0m         grads,\n\u001b[1;32m    136\u001b[0m         exp_avgs,\n\u001b[1;32m    137\u001b[0m         exp_avg_sqs,\n\u001b[1;32m    138\u001b[0m         max_exp_avg_sqs,\n\u001b[1;32m    139\u001b[0m         state_steps)\n\u001b[1;32m    141\u001b[0m     adam(\n\u001b[1;32m    142\u001b[0m         params_with_grad,\n\u001b[1;32m    143\u001b[0m         grads,\n\u001b[0;32m   (...)\u001b[0m\n\u001b[1;32m    160\u001b[0m         found_inf\u001b[39m=\u001b[39m\u001b[39mgetattr\u001b[39m(\u001b[39mself\u001b[39m, \u001b[39m\"\u001b[39m\u001b[39mfound_inf\u001b[39m\u001b[39m\"\u001b[39m, \u001b[39mNone\u001b[39;00m),\n\u001b[1;32m    161\u001b[0m     )\n\u001b[1;32m    163\u001b[0m \u001b[39mreturn\u001b[39;00m loss\n",
      "File \u001b[0;32m~/miniconda3/lib/python3.10/site-packages/torch/optim/adam.py:99\u001b[0m, in \u001b[0;36mAdam._init_group\u001b[0;34m(self, group, params_with_grad, grads, exp_avgs, exp_avg_sqs, max_exp_avg_sqs, state_steps)\u001b[0m\n\u001b[1;32m     95\u001b[0m     \u001b[39mif\u001b[39;00m group[\u001b[39m'\u001b[39m\u001b[39mamsgrad\u001b[39m\u001b[39m'\u001b[39m]:\n\u001b[1;32m     96\u001b[0m         \u001b[39m# Maintains max of all exp. moving avg. of sq. grad. values\u001b[39;00m\n\u001b[1;32m     97\u001b[0m         state[\u001b[39m'\u001b[39m\u001b[39mmax_exp_avg_sq\u001b[39m\u001b[39m'\u001b[39m] \u001b[39m=\u001b[39m torch\u001b[39m.\u001b[39mzeros_like(p, memory_format\u001b[39m=\u001b[39mtorch\u001b[39m.\u001b[39mpreserve_format)\n\u001b[0;32m---> 99\u001b[0m exp_avgs\u001b[39m.\u001b[39;49mappend(state[\u001b[39m'\u001b[39;49m\u001b[39mexp_avg\u001b[39;49m\u001b[39m'\u001b[39;49m])\n\u001b[1;32m    100\u001b[0m exp_avg_sqs\u001b[39m.\u001b[39mappend(state[\u001b[39m'\u001b[39m\u001b[39mexp_avg_sq\u001b[39m\u001b[39m'\u001b[39m])\n\u001b[1;32m    102\u001b[0m \u001b[39mif\u001b[39;00m group[\u001b[39m'\u001b[39m\u001b[39mamsgrad\u001b[39m\u001b[39m'\u001b[39m]:\n",
      "\u001b[0;31mKeyboardInterrupt\u001b[0m: "
     ]
    }
   ],
   "source": [
    "training(blm, train_dl, val_dl, loss, optimizer, epochs, validation_freq, False)"
   ]
  },
  {
   "cell_type": "code",
   "execution_count": 18,
   "id": "f760d04d",
   "metadata": {},
   "outputs": [],
   "source": [
    "sd = blm.state_dict()\n",
    "torch.save(sd, \"weight.pth\")"
   ]
  },
  {
   "cell_type": "code",
   "execution_count": 61,
   "id": "af5237dc",
   "metadata": {},
   "outputs": [
    {
     "ename": "RuntimeError",
     "evalue": "Error(s) in loading state_dict for BLM:\n\tUnexpected key(s) in state_dict: \"blocks.1.mha.heads.0.Q.weight\", \"blocks.1.mha.heads.0.Q.bias\", \"blocks.1.mha.heads.0.K.weight\", \"blocks.1.mha.heads.0.K.bias\", \"blocks.1.mha.heads.0.V.weight\", \"blocks.1.mha.heads.0.V.bias\", \"blocks.1.mha.heads.1.Q.weight\", \"blocks.1.mha.heads.1.Q.bias\", \"blocks.1.mha.heads.1.K.weight\", \"blocks.1.mha.heads.1.K.bias\", \"blocks.1.mha.heads.1.V.weight\", \"blocks.1.mha.heads.1.V.bias\", \"blocks.1.mha.heads.2.Q.weight\", \"blocks.1.mha.heads.2.Q.bias\", \"blocks.1.mha.heads.2.K.weight\", \"blocks.1.mha.heads.2.K.bias\", \"blocks.1.mha.heads.2.V.weight\", \"blocks.1.mha.heads.2.V.bias\", \"blocks.1.mha.heads.3.Q.weight\", \"blocks.1.mha.heads.3.Q.bias\", \"blocks.1.mha.heads.3.K.weight\", \"blocks.1.mha.heads.3.K.bias\", \"blocks.1.mha.heads.3.V.weight\", \"blocks.1.mha.heads.3.V.bias\", \"blocks.1.mha.heads.4.Q.weight\", \"blocks.1.mha.heads.4.Q.bias\", \"blocks.1.mha.heads.4.K.weight\", \"blocks.1.mha.heads.4.K.bias\", \"blocks.1.mha.heads.4.V.weight\", \"blocks.1.mha.heads.4.V.bias\", \"blocks.1.mha.heads.5.Q.weight\", \"blocks.1.mha.heads.5.Q.bias\", \"blocks.1.mha.heads.5.K.weight\", \"blocks.1.mha.heads.5.K.bias\", \"blocks.1.mha.heads.5.V.weight\", \"blocks.1.mha.heads.5.V.bias\", \"blocks.1.mha.heads.6.Q.weight\", \"blocks.1.mha.heads.6.Q.bias\", \"blocks.1.mha.heads.6.K.weight\", \"blocks.1.mha.heads.6.K.bias\", \"blocks.1.mha.heads.6.V.weight\", \"blocks.1.mha.heads.6.V.bias\", \"blocks.1.mha.heads.7.Q.weight\", \"blocks.1.mha.heads.7.Q.bias\", \"blocks.1.mha.heads.7.K.weight\", \"blocks.1.mha.heads.7.K.bias\", \"blocks.1.mha.heads.7.V.weight\", \"blocks.1.mha.heads.7.V.bias\", \"blocks.1.mha.heads.8.Q.weight\", \"blocks.1.mha.heads.8.Q.bias\", \"blocks.1.mha.heads.8.K.weight\", \"blocks.1.mha.heads.8.K.bias\", \"blocks.1.mha.heads.8.V.weight\", \"blocks.1.mha.heads.8.V.bias\", \"blocks.1.mha.heads.9.Q.weight\", \"blocks.1.mha.heads.9.Q.bias\", \"blocks.1.mha.heads.9.K.weight\", \"blocks.1.mha.heads.9.K.bias\", \"blocks.1.mha.heads.9.V.weight\", \"blocks.1.mha.heads.9.V.bias\", \"blocks.1.mha.heads.10.Q.weight\", \"blocks.1.mha.heads.10.Q.bias\", \"blocks.1.mha.heads.10.K.weight\", \"blocks.1.mha.heads.10.K.bias\", \"blocks.1.mha.heads.10.V.weight\", \"blocks.1.mha.heads.10.V.bias\", \"blocks.1.mha.heads.11.Q.weight\", \"blocks.1.mha.heads.11.Q.bias\", \"blocks.1.mha.heads.11.K.weight\", \"blocks.1.mha.heads.11.K.bias\", \"blocks.1.mha.heads.11.V.weight\", \"blocks.1.mha.heads.11.V.bias\", \"blocks.1.mha.heads.12.Q.weight\", \"blocks.1.mha.heads.12.Q.bias\", \"blocks.1.mha.heads.12.K.weight\", \"blocks.1.mha.heads.12.K.bias\", \"blocks.1.mha.heads.12.V.weight\", \"blocks.1.mha.heads.12.V.bias\", \"blocks.1.mha.heads.13.Q.weight\", \"blocks.1.mha.heads.13.Q.bias\", \"blocks.1.mha.heads.13.K.weight\", \"blocks.1.mha.heads.13.K.bias\", \"blocks.1.mha.heads.13.V.weight\", \"blocks.1.mha.heads.13.V.bias\", \"blocks.1.mha.heads.14.Q.weight\", \"blocks.1.mha.heads.14.Q.bias\", \"blocks.1.mha.heads.14.K.weight\", \"blocks.1.mha.heads.14.K.bias\", \"blocks.1.mha.heads.14.V.weight\", \"blocks.1.mha.heads.14.V.bias\", \"blocks.1.mha.heads.15.Q.weight\", \"blocks.1.mha.heads.15.Q.bias\", \"blocks.1.mha.heads.15.K.weight\", \"blocks.1.mha.heads.15.K.bias\", \"blocks.1.mha.heads.15.V.weight\", \"blocks.1.mha.heads.15.V.bias\", \"blocks.1.mha.projection.weight\", \"blocks.1.mha.projection.bias\", \"blocks.1.feed_forward.net.0.weight\", \"blocks.1.feed_forward.net.0.bias\", \"blocks.1.feed_forward.net.2.weight\", \"blocks.1.feed_forward.net.2.bias\", \"blocks.1.ln1.weight\", \"blocks.1.ln1.bias\", \"blocks.1.ln2.weight\", \"blocks.1.ln2.bias\", \"blocks.2.mha.heads.0.Q.weight\", \"blocks.2.mha.heads.0.Q.bias\", \"blocks.2.mha.heads.0.K.weight\", \"blocks.2.mha.heads.0.K.bias\", \"blocks.2.mha.heads.0.V.weight\", \"blocks.2.mha.heads.0.V.bias\", \"blocks.2.mha.heads.1.Q.weight\", \"blocks.2.mha.heads.1.Q.bias\", \"blocks.2.mha.heads.1.K.weight\", \"blocks.2.mha.heads.1.K.bias\", \"blocks.2.mha.heads.1.V.weight\", \"blocks.2.mha.heads.1.V.bias\", \"blocks.2.mha.heads.2.Q.weight\", \"blocks.2.mha.heads.2.Q.bias\", \"blocks.2.mha.heads.2.K.weight\", \"blocks.2.mha.heads.2.K.bias\", \"blocks.2.mha.heads.2.V.weight\", \"blocks.2.mha.heads.2.V.bias\", \"blocks.2.mha.heads.3.Q.weight\", \"blocks.2.mha.heads.3.Q.bias\", \"blocks.2.mha.heads.3.K.weight\", \"blocks.2.mha.heads.3.K.bias\", \"blocks.2.mha.heads.3.V.weight\", \"blocks.2.mha.heads.3.V.bias\", \"blocks.2.mha.heads.4.Q.weight\", \"blocks.2.mha.heads.4.Q.bias\", \"blocks.2.mha.heads.4.K.weight\", \"blocks.2.mha.heads.4.K.bias\", \"blocks.2.mha.heads.4.V.weight\", \"blocks.2.mha.heads.4.V.bias\", \"blocks.2.mha.heads.5.Q.weight\", \"blocks.2.mha.heads.5.Q.bias\", \"blocks.2.mha.heads.5.K.weight\", \"blocks.2.mha.heads.5.K.bias\", \"blocks.2.mha.heads.5.V.weight\", \"blocks.2.mha.heads.5.V.bias\", \"blocks.2.mha.heads.6.Q.weight\", \"blocks.2.mha.heads.6.Q.bias\", \"blocks.2.mha.heads.6.K.weight\", \"blocks.2.mha.heads.6.K.bias\", \"blocks.2.mha.heads.6.V.weight\", \"blocks.2.mha.heads.6.V.bias\", \"blocks.2.mha.heads.7.Q.weight\", \"blocks.2.mha.heads.7.Q.bias\", \"blocks.2.mha.heads.7.K.weight\", \"blocks.2.mha.heads.7.K.bias\", \"blocks.2.mha.heads.7.V.weight\", \"blocks.2.mha.heads.7.V.bias\", \"blocks.2.mha.heads.8.Q.weight\", \"blocks.2.mha.heads.8.Q.bias\", \"blocks.2.mha.heads.8.K.weight\", \"blocks.2.mha.heads.8.K.bias\", \"blocks.2.mha.heads.8.V.weight\", \"blocks.2.mha.heads.8.V.bias\", \"blocks.2.mha.heads.9.Q.weight\", \"blocks.2.mha.heads.9.Q.bias\", \"blocks.2.mha.heads.9.K.weight\", \"blocks.2.mha.heads.9.K.bias\", \"blocks.2.mha.heads.9.V.weight\", \"blocks.2.mha.heads.9.V.bias\", \"blocks.2.mha.heads.10.Q.weight\", \"blocks.2.mha.heads.10.Q.bias\", \"blocks.2.mha.heads.10.K.weight\", \"blocks.2.mha.heads.10.K.bias\", \"blocks.2.mha.heads.10.V.weight\", \"blocks.2.mha.heads.10.V.bias\", \"blocks.2.mha.heads.11.Q.weight\", \"blocks.2.mha.heads.11.Q.bias\", \"blocks.2.mha.heads.11.K.weight\", \"blocks.2.mha.heads.11.K.bias\", \"blocks.2.mha.heads.11.V.weight\", \"blocks.2.mha.heads.11.V.bias\", \"blocks.2.mha.heads.12.Q.weight\", \"blocks.2.mha.heads.12.Q.bias\", \"blocks.2.mha.heads.12.K.weight\", \"blocks.2.mha.heads.12.K.bias\", \"blocks.2.mha.heads.12.V.weight\", \"blocks.2.mha.heads.12.V.bias\", \"blocks.2.mha.heads.13.Q.weight\", \"blocks.2.mha.heads.13.Q.bias\", \"blocks.2.mha.heads.13.K.weight\", \"blocks.2.mha.heads.13.K.bias\", \"blocks.2.mha.heads.13.V.weight\", \"blocks.2.mha.heads.13.V.bias\", \"blocks.2.mha.heads.14.Q.weight\", \"blocks.2.mha.heads.14.Q.bias\", \"blocks.2.mha.heads.14.K.weight\", \"blocks.2.mha.heads.14.K.bias\", \"blocks.2.mha.heads.14.V.weight\", \"blocks.2.mha.heads.14.V.bias\", \"blocks.2.mha.heads.15.Q.weight\", \"blocks.2.mha.heads.15.Q.bias\", \"blocks.2.mha.heads.15.K.weight\", \"blocks.2.mha.heads.15.K.bias\", \"blocks.2.mha.heads.15.V.weight\", \"blocks.2.mha.heads.15.V.bias\", \"blocks.2.mha.projection.weight\", \"blocks.2.mha.projection.bias\", \"blocks.2.feed_forward.net.0.weight\", \"blocks.2.feed_forward.net.0.bias\", \"blocks.2.feed_forward.net.2.weight\", \"blocks.2.feed_forward.net.2.bias\", \"blocks.2.ln1.weight\", \"blocks.2.ln1.bias\", \"blocks.2.ln2.weight\", \"blocks.2.ln2.bias\", \"blocks.3.mha.heads.0.Q.weight\", \"blocks.3.mha.heads.0.Q.bias\", \"blocks.3.mha.heads.0.K.weight\", \"blocks.3.mha.heads.0.K.bias\", \"blocks.3.mha.heads.0.V.weight\", \"blocks.3.mha.heads.0.V.bias\", \"blocks.3.mha.heads.1.Q.weight\", \"blocks.3.mha.heads.1.Q.bias\", \"blocks.3.mha.heads.1.K.weight\", \"blocks.3.mha.heads.1.K.bias\", \"blocks.3.mha.heads.1.V.weight\", \"blocks.3.mha.heads.1.V.bias\", \"blocks.3.mha.heads.2.Q.weight\", \"blocks.3.mha.heads.2.Q.bias\", \"blocks.3.mha.heads.2.K.weight\", \"blocks.3.mha.heads.2.K.bias\", \"blocks.3.mha.heads.2.V.weight\", \"blocks.3.mha.heads.2.V.bias\", \"blocks.3.mha.heads.3.Q.weight\", \"blocks.3.mha.heads.3.Q.bias\", \"blocks.3.mha.heads.3.K.weight\", \"blocks.3.mha.heads.3.K.bias\", \"blocks.3.mha.heads.3.V.weight\", \"blocks.3.mha.heads.3.V.bias\", \"blocks.3.mha.heads.4.Q.weight\", \"blocks.3.mha.heads.4.Q.bias\", \"blocks.3.mha.heads.4.K.weight\", \"blocks.3.mha.heads.4.K.bias\", \"blocks.3.mha.heads.4.V.weight\", \"blocks.3.mha.heads.4.V.bias\", \"blocks.3.mha.heads.5.Q.weight\", \"blocks.3.mha.heads.5.Q.bias\", \"blocks.3.mha.heads.5.K.weight\", \"blocks.3.mha.heads.5.K.bias\", \"blocks.3.mha.heads.5.V.weight\", \"blocks.3.mha.heads.5.V.bias\", \"blocks.3.mha.heads.6.Q.weight\", \"blocks.3.mha.heads.6.Q.bias\", \"blocks.3.mha.heads.6.K.weight\", \"blocks.3.mha.heads.6.K.bias\", \"blocks.3.mha.heads.6.V.weight\", \"blocks.3.mha.heads.6.V.bias\", \"blocks.3.mha.heads.7.Q.weight\", \"blocks.3.mha.heads.7.Q.bias\", \"blocks.3.mha.heads.7.K.weight\", \"blocks.3.mha.heads.7.K.bias\", \"blocks.3.mha.heads.7.V.weight\", \"blocks.3.mha.heads.7.V.bias\", \"blocks.3.mha.heads.8.Q.weight\", \"blocks.3.mha.heads.8.Q.bias\", \"blocks.3.mha.heads.8.K.weight\", \"blocks.3.mha.heads.8.K.bias\", \"blocks.3.mha.heads.8.V.weight\", \"blocks.3.mha.heads.8.V.bias\", \"blocks.3.mha.heads.9.Q.weight\", \"blocks.3.mha.heads.9.Q.bias\", \"blocks.3.mha.heads.9.K.weight\", \"blocks.3.mha.heads.9.K.bias\", \"blocks.3.mha.heads.9.V.weight\", \"blocks.3.mha.heads.9.V.bias\", \"blocks.3.mha.heads.10.Q.weight\", \"blocks.3.mha.heads.10.Q.bias\", \"blocks.3.mha.heads.10.K.weight\", \"blocks.3.mha.heads.10.K.bias\", \"blocks.3.mha.heads.10.V.weight\", \"blocks.3.mha.heads.10.V.bias\", \"blocks.3.mha.heads.11.Q.weight\", \"blocks.3.mha.heads.11.Q.bias\", \"blocks.3.mha.heads.11.K.weight\", \"blocks.3.mha.heads.11.K.bias\", \"blocks.3.mha.heads.11.V.weight\", \"blocks.3.mha.heads.11.V.bias\", \"blocks.3.mha.heads.12.Q.weight\", \"blocks.3.mha.heads.12.Q.bias\", \"blocks.3.mha.heads.12.K.weight\", \"blocks.3.mha.heads.12.K.bias\", \"blocks.3.mha.heads.12.V.weight\", \"blocks.3.mha.heads.12.V.bias\", \"blocks.3.mha.heads.13.Q.weight\", \"blocks.3.mha.heads.13.Q.bias\", \"blocks.3.mha.heads.13.K.weight\", \"blocks.3.mha.heads.13.K.bias\", \"blocks.3.mha.heads.13.V.weight\", \"blocks.3.mha.heads.13.V.bias\", \"blocks.3.mha.heads.14.Q.weight\", \"blocks.3.mha.heads.14.Q.bias\", \"blocks.3.mha.heads.14.K.weight\", \"blocks.3.mha.heads.14.K.bias\", \"blocks.3.mha.heads.14.V.weight\", \"blocks.3.mha.heads.14.V.bias\", \"blocks.3.mha.heads.15.Q.weight\", \"blocks.3.mha.heads.15.Q.bias\", \"blocks.3.mha.heads.15.K.weight\", \"blocks.3.mha.heads.15.K.bias\", \"blocks.3.mha.heads.15.V.weight\", \"blocks.3.mha.heads.15.V.bias\", \"blocks.3.mha.projection.weight\", \"blocks.3.mha.projection.bias\", \"blocks.3.feed_forward.net.0.weight\", \"blocks.3.feed_forward.net.0.bias\", \"blocks.3.feed_forward.net.2.weight\", \"blocks.3.feed_forward.net.2.bias\", \"blocks.3.ln1.weight\", \"blocks.3.ln1.bias\", \"blocks.3.ln2.weight\", \"blocks.3.ln2.bias\", \"blocks.4.mha.heads.0.Q.weight\", \"blocks.4.mha.heads.0.Q.bias\", \"blocks.4.mha.heads.0.K.weight\", \"blocks.4.mha.heads.0.K.bias\", \"blocks.4.mha.heads.0.V.weight\", \"blocks.4.mha.heads.0.V.bias\", \"blocks.4.mha.heads.1.Q.weight\", \"blocks.4.mha.heads.1.Q.bias\", \"blocks.4.mha.heads.1.K.weight\", \"blocks.4.mha.heads.1.K.bias\", \"blocks.4.mha.heads.1.V.weight\", \"blocks.4.mha.heads.1.V.bias\", \"blocks.4.mha.heads.2.Q.weight\", \"blocks.4.mha.heads.2.Q.bias\", \"blocks.4.mha.heads.2.K.weight\", \"blocks.4.mha.heads.2.K.bias\", \"blocks.4.mha.heads.2.V.weight\", \"blocks.4.mha.heads.2.V.bias\", \"blocks.4.mha.heads.3.Q.weight\", \"blocks.4.mha.heads.3.Q.bias\", \"blocks.4.mha.heads.3.K.weight\", \"blocks.4.mha.heads.3.K.bias\", \"blocks.4.mha.heads.3.V.weight\", \"blocks.4.mha.heads.3.V.bias\", \"blocks.4.mha.heads.4.Q.weight\", \"blocks.4.mha.heads.4.Q.bias\", \"blocks.4.mha.heads.4.K.weight\", \"blocks.4.mha.heads.4.K.bias\", \"blocks.4.mha.heads.4.V.weight\", \"blocks.4.mha.heads.4.V.bias\", \"blocks.4.mha.heads.5.Q.weight\", \"blocks.4.mha.heads.5.Q.bias\", \"blocks.4.mha.heads.5.K.weight\", \"blocks.4.mha.heads.5.K.bias\", \"blocks.4.mha.heads.5.V.weight\", \"blocks.4.mha.heads.5.V.bias\", \"blocks.4.mha.heads.6.Q.weight\", \"blocks.4.mha.heads.6.Q.bias\", \"blocks.4.mha.heads.6.K.weight\", \"blocks.4.mha.heads.6.K.bias\", \"blocks.4.mha.heads.6.V.weight\", \"blocks.4.mha.heads.6.V.bias\", \"blocks.4.mha.heads.7.Q.weight\", \"blocks.4.mha.heads.7.Q.bias\", \"blocks.4.mha.heads.7.K.weight\", \"blocks.4.mha.heads.7.K.bias\", \"blocks.4.mha.heads.7.V.weight\", \"blocks.4.mha.heads.7.V.bias\", \"blocks.4.mha.heads.8.Q.weight\", \"blocks.4.mha.heads.8.Q.bias\", \"blocks.4.mha.heads.8.K.weight\", \"blocks.4.mha.heads.8.K.bias\", \"blocks.4.mha.heads.8.V.weight\", \"blocks.4.mha.heads.8.V.bias\", \"blocks.4.mha.heads.9.Q.weight\", \"blocks.4.mha.heads.9.Q.bias\", \"blocks.4.mha.heads.9.K.weight\", \"blocks.4.mha.heads.9.K.bias\", \"blocks.4.mha.heads.9.V.weight\", \"blocks.4.mha.heads.9.V.bias\", \"blocks.4.mha.heads.10.Q.weight\", \"blocks.4.mha.heads.10.Q.bias\", \"blocks.4.mha.heads.10.K.weight\", \"blocks.4.mha.heads.10.K.bias\", \"blocks.4.mha.heads.10.V.weight\", \"blocks.4.mha.heads.10.V.bias\", \"blocks.4.mha.heads.11.Q.weight\", \"blocks.4.mha.heads.11.Q.bias\", \"blocks.4.mha.heads.11.K.weight\", \"blocks.4.mha.heads.11.K.bias\", \"blocks.4.mha.heads.11.V.weight\", \"blocks.4.mha.heads.11.V.bias\", \"blocks.4.mha.heads.12.Q.weight\", \"blocks.4.mha.heads.12.Q.bias\", \"blocks.4.mha.heads.12.K.weight\", \"blocks.4.mha.heads.12.K.bias\", \"blocks.4.mha.heads.12.V.weight\", \"blocks.4.mha.heads.12.V.bias\", \"blocks.4.mha.heads.13.Q.weight\", \"blocks.4.mha.heads.13.Q.bias\", \"blocks.4.mha.heads.13.K.weight\", \"blocks.4.mha.heads.13.K.bias\", \"blocks.4.mha.heads.13.V.weight\", \"blocks.4.mha.heads.13.V.bias\", \"blocks.4.mha.heads.14.Q.weight\", \"blocks.4.mha.heads.14.Q.bias\", \"blocks.4.mha.heads.14.K.weight\", \"blocks.4.mha.heads.14.K.bias\", \"blocks.4.mha.heads.14.V.weight\", \"blocks.4.mha.heads.14.V.bias\", \"blocks.4.mha.heads.15.Q.weight\", \"blocks.4.mha.heads.15.Q.bias\", \"blocks.4.mha.heads.15.K.weight\", \"blocks.4.mha.heads.15.K.bias\", \"blocks.4.mha.heads.15.V.weight\", \"blocks.4.mha.heads.15.V.bias\", \"blocks.4.mha.projection.weight\", \"blocks.4.mha.projection.bias\", \"blocks.4.feed_forward.net.0.weight\", \"blocks.4.feed_forward.net.0.bias\", \"blocks.4.feed_forward.net.2.weight\", \"blocks.4.feed_forward.net.2.bias\", \"blocks.4.ln1.weight\", \"blocks.4.ln1.bias\", \"blocks.4.ln2.weight\", \"blocks.4.ln2.bias\", \"blocks.5.mha.heads.0.Q.weight\", \"blocks.5.mha.heads.0.Q.bias\", \"blocks.5.mha.heads.0.K.weight\", \"blocks.5.mha.heads.0.K.bias\", \"blocks.5.mha.heads.0.V.weight\", \"blocks.5.mha.heads.0.V.bias\", \"blocks.5.mha.heads.1.Q.weight\", \"blocks.5.mha.heads.1.Q.bias\", \"blocks.5.mha.heads.1.K.weight\", \"blocks.5.mha.heads.1.K.bias\", \"blocks.5.mha.heads.1.V.weight\", \"blocks.5.mha.heads.1.V.bias\", \"blocks.5.mha.heads.2.Q.weight\", \"blocks.5.mha.heads.2.Q.bias\", \"blocks.5.mha.heads.2.K.weight\", \"blocks.5.mha.heads.2.K.bias\", \"blocks.5.mha.heads.2.V.weight\", \"blocks.5.mha.heads.2.V.bias\", \"blocks.5.mha.heads.3.Q.weight\", \"blocks.5.mha.heads.3.Q.bias\", \"blocks.5.mha.heads.3.K.weight\", \"blocks.5.mha.heads.3.K.bias\", \"blocks.5.mha.heads.3.V.weight\", \"blocks.5.mha.heads.3.V.bias\", \"blocks.5.mha.heads.4.Q.weight\", \"blocks.5.mha.heads.4.Q.bias\", \"blocks.5.mha.heads.4.K.weight\", \"blocks.5.mha.heads.4.K.bias\", \"blocks.5.mha.heads.4.V.weight\", \"blocks.5.mha.heads.4.V.bias\", \"blocks.5.mha.heads.5.Q.weight\", \"blocks.5.mha.heads.5.Q.bias\", \"blocks.5.mha.heads.5.K.weight\", \"blocks.5.mha.heads.5.K.bias\", \"blocks.5.mha.heads.5.V.weight\", \"blocks.5.mha.heads.5.V.bias\", \"blocks.5.mha.heads.6.Q.weight\", \"blocks.5.mha.heads.6.Q.bias\", \"blocks.5.mha.heads.6.K.weight\", \"blocks.5.mha.heads.6.K.bias\", \"blocks.5.mha.heads.6.V.weight\", \"blocks.5.mha.heads.6.V.bias\", \"blocks.5.mha.heads.7.Q.weight\", \"blocks.5.mha.heads.7.Q.bias\", \"blocks.5.mha.heads.7.K.weight\", \"blocks.5.mha.heads.7.K.bias\", \"blocks.5.mha.heads.7.V.weight\", \"blocks.5.mha.heads.7.V.bias\", \"blocks.5.mha.heads.8.Q.weight\", \"blocks.5.mha.heads.8.Q.bias\", \"blocks.5.mha.heads.8.K.weight\", \"blocks.5.mha.heads.8.K.bias\", \"blocks.5.mha.heads.8.V.weight\", \"blocks.5.mha.heads.8.V.bias\", \"blocks.5.mha.heads.9.Q.weight\", \"blocks.5.mha.heads.9.Q.bias\", \"blocks.5.mha.heads.9.K.weight\", \"blocks.5.mha.heads.9.K.bias\", \"blocks.5.mha.heads.9.V.weight\", \"blocks.5.mha.heads.9.V.bias\", \"blocks.5.mha.heads.10.Q.weight\", \"blocks.5.mha.heads.10.Q.bias\", \"blocks.5.mha.heads.10.K.weight\", \"blocks.5.mha.heads.10.K.bias\", \"blocks.5.mha.heads.10.V.weight\", \"blocks.5.mha.heads.10.V.bias\", \"blocks.5.mha.heads.11.Q.weight\", \"blocks.5.mha.heads.11.Q.bias\", \"blocks.5.mha.heads.11.K.weight\", \"blocks.5.mha.heads.11.K.bias\", \"blocks.5.mha.heads.11.V.weight\", \"blocks.5.mha.heads.11.V.bias\", \"blocks.5.mha.heads.12.Q.weight\", \"blocks.5.mha.heads.12.Q.bias\", \"blocks.5.mha.heads.12.K.weight\", \"blocks.5.mha.heads.12.K.bias\", \"blocks.5.mha.heads.12.V.weight\", \"blocks.5.mha.heads.12.V.bias\", \"blocks.5.mha.heads.13.Q.weight\", \"blocks.5.mha.heads.13.Q.bias\", \"blocks.5.mha.heads.13.K.weight\", \"blocks.5.mha.heads.13.K.bias\", \"blocks.5.mha.heads.13.V.weight\", \"blocks.5.mha.heads.13.V.bias\", \"blocks.5.mha.heads.14.Q.weight\", \"blocks.5.mha.heads.14.Q.bias\", \"blocks.5.mha.heads.14.K.weight\", \"blocks.5.mha.heads.14.K.bias\", \"blocks.5.mha.heads.14.V.weight\", \"blocks.5.mha.heads.14.V.bias\", \"blocks.5.mha.heads.15.Q.weight\", \"blocks.5.mha.heads.15.Q.bias\", \"blocks.5.mha.heads.15.K.weight\", \"blocks.5.mha.heads.15.K.bias\", \"blocks.5.mha.heads.15.V.weight\", \"blocks.5.mha.heads.15.V.bias\", \"blocks.5.mha.projection.weight\", \"blocks.5.mha.projection.bias\", \"blocks.5.feed_forward.net.0.weight\", \"blocks.5.feed_forward.net.0.bias\", \"blocks.5.feed_forward.net.2.weight\", \"blocks.5.feed_forward.net.2.bias\", \"blocks.5.ln1.weight\", \"blocks.5.ln1.bias\", \"blocks.5.ln2.weight\", \"blocks.5.ln2.bias\", \"blocks.0.mha.heads.1.Q.weight\", \"blocks.0.mha.heads.1.Q.bias\", \"blocks.0.mha.heads.1.K.weight\", \"blocks.0.mha.heads.1.K.bias\", \"blocks.0.mha.heads.1.V.weight\", \"blocks.0.mha.heads.1.V.bias\", \"blocks.0.mha.heads.2.Q.weight\", \"blocks.0.mha.heads.2.Q.bias\", \"blocks.0.mha.heads.2.K.weight\", \"blocks.0.mha.heads.2.K.bias\", \"blocks.0.mha.heads.2.V.weight\", \"blocks.0.mha.heads.2.V.bias\", \"blocks.0.mha.heads.3.Q.weight\", \"blocks.0.mha.heads.3.Q.bias\", \"blocks.0.mha.heads.3.K.weight\", \"blocks.0.mha.heads.3.K.bias\", \"blocks.0.mha.heads.3.V.weight\", \"blocks.0.mha.heads.3.V.bias\", \"blocks.0.mha.heads.4.Q.weight\", \"blocks.0.mha.heads.4.Q.bias\", \"blocks.0.mha.heads.4.K.weight\", \"blocks.0.mha.heads.4.K.bias\", \"blocks.0.mha.heads.4.V.weight\", \"blocks.0.mha.heads.4.V.bias\", \"blocks.0.mha.heads.5.Q.weight\", \"blocks.0.mha.heads.5.Q.bias\", \"blocks.0.mha.heads.5.K.weight\", \"blocks.0.mha.heads.5.K.bias\", \"blocks.0.mha.heads.5.V.weight\", \"blocks.0.mha.heads.5.V.bias\", \"blocks.0.mha.heads.6.Q.weight\", \"blocks.0.mha.heads.6.Q.bias\", \"blocks.0.mha.heads.6.K.weight\", \"blocks.0.mha.heads.6.K.bias\", \"blocks.0.mha.heads.6.V.weight\", \"blocks.0.mha.heads.6.V.bias\", \"blocks.0.mha.heads.7.Q.weight\", \"blocks.0.mha.heads.7.Q.bias\", \"blocks.0.mha.heads.7.K.weight\", \"blocks.0.mha.heads.7.K.bias\", \"blocks.0.mha.heads.7.V.weight\", \"blocks.0.mha.heads.7.V.bias\", \"blocks.0.mha.heads.8.Q.weight\", \"blocks.0.mha.heads.8.Q.bias\", \"blocks.0.mha.heads.8.K.weight\", \"blocks.0.mha.heads.8.K.bias\", \"blocks.0.mha.heads.8.V.weight\", \"blocks.0.mha.heads.8.V.bias\", \"blocks.0.mha.heads.9.Q.weight\", \"blocks.0.mha.heads.9.Q.bias\", \"blocks.0.mha.heads.9.K.weight\", \"blocks.0.mha.heads.9.K.bias\", \"blocks.0.mha.heads.9.V.weight\", \"blocks.0.mha.heads.9.V.bias\", \"blocks.0.mha.heads.10.Q.weight\", \"blocks.0.mha.heads.10.Q.bias\", \"blocks.0.mha.heads.10.K.weight\", \"blocks.0.mha.heads.10.K.bias\", \"blocks.0.mha.heads.10.V.weight\", \"blocks.0.mha.heads.10.V.bias\", \"blocks.0.mha.heads.11.Q.weight\", \"blocks.0.mha.heads.11.Q.bias\", \"blocks.0.mha.heads.11.K.weight\", \"blocks.0.mha.heads.11.K.bias\", \"blocks.0.mha.heads.11.V.weight\", \"blocks.0.mha.heads.11.V.bias\", \"blocks.0.mha.heads.12.Q.weight\", \"blocks.0.mha.heads.12.Q.bias\", \"blocks.0.mha.heads.12.K.weight\", \"blocks.0.mha.heads.12.K.bias\", \"blocks.0.mha.heads.12.V.weight\", \"blocks.0.mha.heads.12.V.bias\", \"blocks.0.mha.heads.13.Q.weight\", \"blocks.0.mha.heads.13.Q.bias\", \"blocks.0.mha.heads.13.K.weight\", \"blocks.0.mha.heads.13.K.bias\", \"blocks.0.mha.heads.13.V.weight\", \"blocks.0.mha.heads.13.V.bias\", \"blocks.0.mha.heads.14.Q.weight\", \"blocks.0.mha.heads.14.Q.bias\", \"blocks.0.mha.heads.14.K.weight\", \"blocks.0.mha.heads.14.K.bias\", \"blocks.0.mha.heads.14.V.weight\", \"blocks.0.mha.heads.14.V.bias\", \"blocks.0.mha.heads.15.Q.weight\", \"blocks.0.mha.heads.15.Q.bias\", \"blocks.0.mha.heads.15.K.weight\", \"blocks.0.mha.heads.15.K.bias\", \"blocks.0.mha.heads.15.V.weight\", \"blocks.0.mha.heads.15.V.bias\". \n\tsize mismatch for blocks.0.mha.heads.0.Q.weight: copying a param with shape torch.Size([32, 512]) from checkpoint, the shape in current model is torch.Size([512, 512]).\n\tsize mismatch for blocks.0.mha.heads.0.Q.bias: copying a param with shape torch.Size([32]) from checkpoint, the shape in current model is torch.Size([512]).\n\tsize mismatch for blocks.0.mha.heads.0.K.weight: copying a param with shape torch.Size([32, 512]) from checkpoint, the shape in current model is torch.Size([512, 512]).\n\tsize mismatch for blocks.0.mha.heads.0.K.bias: copying a param with shape torch.Size([32]) from checkpoint, the shape in current model is torch.Size([512]).\n\tsize mismatch for blocks.0.mha.heads.0.V.weight: copying a param with shape torch.Size([32, 512]) from checkpoint, the shape in current model is torch.Size([512, 512]).\n\tsize mismatch for blocks.0.mha.heads.0.V.bias: copying a param with shape torch.Size([32]) from checkpoint, the shape in current model is torch.Size([512]).",
     "output_type": "error",
     "traceback": [
      "\u001b[0;31m---------------------------------------------------------------------------\u001b[0m",
      "\u001b[0;31mRuntimeError\u001b[0m                              Traceback (most recent call last)",
      "Cell \u001b[0;32mIn[61], line 1\u001b[0m\n\u001b[0;32m----> 1\u001b[0m blm\u001b[39m.\u001b[39;49mload_state_dict(torch\u001b[39m.\u001b[39;49mload(\u001b[39m\"\u001b[39;49m\u001b[39mweight.pth\u001b[39;49m\u001b[39m\"\u001b[39;49m))\n",
      "File \u001b[0;32m~/miniconda3/lib/python3.10/site-packages/torch/nn/modules/module.py:2041\u001b[0m, in \u001b[0;36mModule.load_state_dict\u001b[0;34m(self, state_dict, strict)\u001b[0m\n\u001b[1;32m   2036\u001b[0m         error_msgs\u001b[39m.\u001b[39minsert(\n\u001b[1;32m   2037\u001b[0m             \u001b[39m0\u001b[39m, \u001b[39m'\u001b[39m\u001b[39mMissing key(s) in state_dict: \u001b[39m\u001b[39m{}\u001b[39;00m\u001b[39m. \u001b[39m\u001b[39m'\u001b[39m\u001b[39m.\u001b[39mformat(\n\u001b[1;32m   2038\u001b[0m                 \u001b[39m'\u001b[39m\u001b[39m, \u001b[39m\u001b[39m'\u001b[39m\u001b[39m.\u001b[39mjoin(\u001b[39m'\u001b[39m\u001b[39m\"\u001b[39m\u001b[39m{}\u001b[39;00m\u001b[39m\"\u001b[39m\u001b[39m'\u001b[39m\u001b[39m.\u001b[39mformat(k) \u001b[39mfor\u001b[39;00m k \u001b[39min\u001b[39;00m missing_keys)))\n\u001b[1;32m   2040\u001b[0m \u001b[39mif\u001b[39;00m \u001b[39mlen\u001b[39m(error_msgs) \u001b[39m>\u001b[39m \u001b[39m0\u001b[39m:\n\u001b[0;32m-> 2041\u001b[0m     \u001b[39mraise\u001b[39;00m \u001b[39mRuntimeError\u001b[39;00m(\u001b[39m'\u001b[39m\u001b[39mError(s) in loading state_dict for \u001b[39m\u001b[39m{}\u001b[39;00m\u001b[39m:\u001b[39m\u001b[39m\\n\u001b[39;00m\u001b[39m\\t\u001b[39;00m\u001b[39m{}\u001b[39;00m\u001b[39m'\u001b[39m\u001b[39m.\u001b[39mformat(\n\u001b[1;32m   2042\u001b[0m                        \u001b[39mself\u001b[39m\u001b[39m.\u001b[39m\u001b[39m__class__\u001b[39m\u001b[39m.\u001b[39m\u001b[39m__name__\u001b[39m, \u001b[39m\"\u001b[39m\u001b[39m\\n\u001b[39;00m\u001b[39m\\t\u001b[39;00m\u001b[39m\"\u001b[39m\u001b[39m.\u001b[39mjoin(error_msgs)))\n\u001b[1;32m   2043\u001b[0m \u001b[39mreturn\u001b[39;00m _IncompatibleKeys(missing_keys, unexpected_keys)\n",
      "\u001b[0;31mRuntimeError\u001b[0m: Error(s) in loading state_dict for BLM:\n\tUnexpected key(s) in state_dict: \"blocks.1.mha.heads.0.Q.weight\", \"blocks.1.mha.heads.0.Q.bias\", \"blocks.1.mha.heads.0.K.weight\", \"blocks.1.mha.heads.0.K.bias\", \"blocks.1.mha.heads.0.V.weight\", \"blocks.1.mha.heads.0.V.bias\", \"blocks.1.mha.heads.1.Q.weight\", \"blocks.1.mha.heads.1.Q.bias\", \"blocks.1.mha.heads.1.K.weight\", \"blocks.1.mha.heads.1.K.bias\", \"blocks.1.mha.heads.1.V.weight\", \"blocks.1.mha.heads.1.V.bias\", \"blocks.1.mha.heads.2.Q.weight\", \"blocks.1.mha.heads.2.Q.bias\", \"blocks.1.mha.heads.2.K.weight\", \"blocks.1.mha.heads.2.K.bias\", \"blocks.1.mha.heads.2.V.weight\", \"blocks.1.mha.heads.2.V.bias\", \"blocks.1.mha.heads.3.Q.weight\", \"blocks.1.mha.heads.3.Q.bias\", \"blocks.1.mha.heads.3.K.weight\", \"blocks.1.mha.heads.3.K.bias\", \"blocks.1.mha.heads.3.V.weight\", \"blocks.1.mha.heads.3.V.bias\", \"blocks.1.mha.heads.4.Q.weight\", \"blocks.1.mha.heads.4.Q.bias\", \"blocks.1.mha.heads.4.K.weight\", \"blocks.1.mha.heads.4.K.bias\", \"blocks.1.mha.heads.4.V.weight\", \"blocks.1.mha.heads.4.V.bias\", \"blocks.1.mha.heads.5.Q.weight\", \"blocks.1.mha.heads.5.Q.bias\", \"blocks.1.mha.heads.5.K.weight\", \"blocks.1.mha.heads.5.K.bias\", \"blocks.1.mha.heads.5.V.weight\", \"blocks.1.mha.heads.5.V.bias\", \"blocks.1.mha.heads.6.Q.weight\", \"blocks.1.mha.heads.6.Q.bias\", \"blocks.1.mha.heads.6.K.weight\", \"blocks.1.mha.heads.6.K.bias\", \"blocks.1.mha.heads.6.V.weight\", \"blocks.1.mha.heads.6.V.bias\", \"blocks.1.mha.heads.7.Q.weight\", \"blocks.1.mha.heads.7.Q.bias\", \"blocks.1.mha.heads.7.K.weight\", \"blocks.1.mha.heads.7.K.bias\", \"blocks.1.mha.heads.7.V.weight\", \"blocks.1.mha.heads.7.V.bias\", \"blocks.1.mha.heads.8.Q.weight\", \"blocks.1.mha.heads.8.Q.bias\", \"blocks.1.mha.heads.8.K.weight\", \"blocks.1.mha.heads.8.K.bias\", \"blocks.1.mha.heads.8.V.weight\", \"blocks.1.mha.heads.8.V.bias\", \"blocks.1.mha.heads.9.Q.weight\", \"blocks.1.mha.heads.9.Q.bias\", \"blocks.1.mha.heads.9.K.weight\", \"blocks.1.mha.heads.9.K.bias\", \"blocks.1.mha.heads.9.V.weight\", \"blocks.1.mha.heads.9.V.bias\", \"blocks.1.mha.heads.10.Q.weight\", \"blocks.1.mha.heads.10.Q.bias\", \"blocks.1.mha.heads.10.K.weight\", \"blocks.1.mha.heads.10.K.bias\", \"blocks.1.mha.heads.10.V.weight\", \"blocks.1.mha.heads.10.V.bias\", \"blocks.1.mha.heads.11.Q.weight\", \"blocks.1.mha.heads.11.Q.bias\", \"blocks.1.mha.heads.11.K.weight\", \"blocks.1.mha.heads.11.K.bias\", \"blocks.1.mha.heads.11.V.weight\", \"blocks.1.mha.heads.11.V.bias\", \"blocks.1.mha.heads.12.Q.weight\", \"blocks.1.mha.heads.12.Q.bias\", \"blocks.1.mha.heads.12.K.weight\", \"blocks.1.mha.heads.12.K.bias\", \"blocks.1.mha.heads.12.V.weight\", \"blocks.1.mha.heads.12.V.bias\", \"blocks.1.mha.heads.13.Q.weight\", \"blocks.1.mha.heads.13.Q.bias\", \"blocks.1.mha.heads.13.K.weight\", \"blocks.1.mha.heads.13.K.bias\", \"blocks.1.mha.heads.13.V.weight\", \"blocks.1.mha.heads.13.V.bias\", \"blocks.1.mha.heads.14.Q.weight\", \"blocks.1.mha.heads.14.Q.bias\", \"blocks.1.mha.heads.14.K.weight\", \"blocks.1.mha.heads.14.K.bias\", \"blocks.1.mha.heads.14.V.weight\", \"blocks.1.mha.heads.14.V.bias\", \"blocks.1.mha.heads.15.Q.weight\", \"blocks.1.mha.heads.15.Q.bias\", \"blocks.1.mha.heads.15.K.weight\", \"blocks.1.mha.heads.15.K.bias\", \"blocks.1.mha.heads.15.V.weight\", \"blocks.1.mha.heads.15.V.bias\", \"blocks.1.mha.projection.weight\", \"blocks.1.mha.projection.bias\", \"blocks.1.feed_forward.net.0.weight\", \"blocks.1.feed_forward.net.0.bias\", \"blocks.1.feed_forward.net.2.weight\", \"blocks.1.feed_forward.net.2.bias\", \"blocks.1.ln1.weight\", \"blocks.1.ln1.bias\", \"blocks.1.ln2.weight\", \"blocks.1.ln2.bias\", \"blocks.2.mha.heads.0.Q.weight\", \"blocks.2.mha.heads.0.Q.bias\", \"blocks.2.mha.heads.0.K.weight\", \"blocks.2.mha.heads.0.K.bias\", \"blocks.2.mha.heads.0.V.weight\", \"blocks.2.mha.heads.0.V.bias\", \"blocks.2.mha.heads.1.Q.weight\", \"blocks.2.mha.heads.1.Q.bias\", \"blocks.2.mha.heads.1.K.weight\", \"blocks.2.mha.heads.1.K.bias\", \"blocks.2.mha.heads.1.V.weight\", \"blocks.2.mha.heads.1.V.bias\", \"blocks.2.mha.heads.2.Q.weight\", \"blocks.2.mha.heads.2.Q.bias\", \"blocks.2.mha.heads.2.K.weight\", \"blocks.2.mha.heads.2.K.bias\", \"blocks.2.mha.heads.2.V.weight\", \"blocks.2.mha.heads.2.V.bias\", \"blocks.2.mha.heads.3.Q.weight\", \"blocks.2.mha.heads.3.Q.bias\", \"blocks.2.mha.heads.3.K.weight\", \"blocks.2.mha.heads.3.K.bias\", \"blocks.2.mha.heads.3.V.weight\", \"blocks.2.mha.heads.3.V.bias\", \"blocks.2.mha.heads.4.Q.weight\", \"blocks.2.mha.heads.4.Q.bias\", \"blocks.2.mha.heads.4.K.weight\", \"blocks.2.mha.heads.4.K.bias\", \"blocks.2.mha.heads.4.V.weight\", \"blocks.2.mha.heads.4.V.bias\", \"blocks.2.mha.heads.5.Q.weight\", \"blocks.2.mha.heads.5.Q.bias\", \"blocks.2.mha.heads.5.K.weight\", \"blocks.2.mha.heads.5.K.bias\", \"blocks.2.mha.heads.5.V.weight\", \"blocks.2.mha.heads.5.V.bias\", \"blocks.2.mha.heads.6.Q.weight\", \"blocks.2.mha.heads.6.Q.bias\", \"blocks.2.mha.heads.6.K.weight\", \"blocks.2.mha.heads.6.K.bias\", \"blocks.2.mha.heads.6.V.weight\", \"blocks.2.mha.heads.6.V.bias\", \"blocks.2.mha.heads.7.Q.weight\", \"blocks.2.mha.heads.7.Q.bias\", \"blocks.2.mha.heads.7.K.weight\", \"blocks.2.mha.heads.7.K.bias\", \"blocks.2.mha.heads.7.V.weight\", \"blocks.2.mha.heads.7.V.bias\", \"blocks.2.mha.heads.8.Q.weight\", \"blocks.2.mha.heads.8.Q.bias\", \"blocks.2.mha.heads.8.K.weight\", \"blocks.2.mha.heads.8.K.bias\", \"blocks.2.mha.heads.8.V.weight\", \"blocks.2.mha.heads.8.V.bias\", \"blocks.2.mha.heads.9.Q.weight\", \"blocks.2.mha.heads.9.Q.bias\", \"blocks.2.mha.heads.9.K.weight\", \"blocks.2.mha.heads.9.K.bias\", \"blocks.2.mha.heads.9.V.weight\", \"blocks.2.mha.heads.9.V.bias\", \"blocks.2.mha.heads.10.Q.weight\", \"blocks.2.mha.heads.10.Q.bias\", \"blocks.2.mha.heads.10.K.weight\", \"blocks.2.mha.heads.10.K.bias\", \"blocks.2.mha.heads.10.V.weight\", \"blocks.2.mha.heads.10.V.bias\", \"blocks.2.mha.heads.11.Q.weight\", \"blocks.2.mha.heads.11.Q.bias\", \"blocks.2.mha.heads.11.K.weight\", \"blocks.2.mha.heads.11.K.bias\", \"blocks.2.mha.heads.11.V.weight\", \"blocks.2.mha.heads.11.V.bias\", \"blocks.2.mha.heads.12.Q.weight\", \"blocks.2.mha.heads.12.Q.bias\", \"blocks.2.mha.heads.12.K.weight\", \"blocks.2.mha.heads.12.K.bias\", \"blocks.2.mha.heads.12.V.weight\", \"blocks.2.mha.heads.12.V.bias\", \"blocks.2.mha.heads.13.Q.weight\", \"blocks.2.mha.heads.13.Q.bias\", \"blocks.2.mha.heads.13.K.weight\", \"blocks.2.mha.heads.13.K.bias\", \"blocks.2.mha.heads.13.V.weight\", \"blocks.2.mha.heads.13.V.bias\", \"blocks.2.mha.heads.14.Q.weight\", \"blocks.2.mha.heads.14.Q.bias\", \"blocks.2.mha.heads.14.K.weight\", \"blocks.2.mha.heads.14.K.bias\", \"blocks.2.mha.heads.14.V.weight\", \"blocks.2.mha.heads.14.V.bias\", \"blocks.2.mha.heads.15.Q.weight\", \"blocks.2.mha.heads.15.Q.bias\", \"blocks.2.mha.heads.15.K.weight\", \"blocks.2.mha.heads.15.K.bias\", \"blocks.2.mha.heads.15.V.weight\", \"blocks.2.mha.heads.15.V.bias\", \"blocks.2.mha.projection.weight\", \"blocks.2.mha.projection.bias\", \"blocks.2.feed_forward.net.0.weight\", \"blocks.2.feed_forward.net.0.bias\", \"blocks.2.feed_forward.net.2.weight\", \"blocks.2.feed_forward.net.2.bias\", \"blocks.2.ln1.weight\", \"blocks.2.ln1.bias\", \"blocks.2.ln2.weight\", \"blocks.2.ln2.bias\", \"blocks.3.mha.heads.0.Q.weight\", \"blocks.3.mha.heads.0.Q.bias\", \"blocks.3.mha.heads.0.K.weight\", \"blocks.3.mha.heads.0.K.bias\", \"blocks.3.mha.heads.0.V.weight\", \"blocks.3.mha.heads.0.V.bias\", \"blocks.3.mha.heads.1.Q.weight\", \"blocks.3.mha.heads.1.Q.bias\", \"blocks.3.mha.heads.1.K.weight\", \"blocks.3.mha.heads.1.K.bias\", \"blocks.3.mha.heads.1.V.weight\", \"blocks.3.mha.heads.1.V.bias\", \"blocks.3.mha.heads.2.Q.weight\", \"blocks.3.mha.heads.2.Q.bias\", \"blocks.3.mha.heads.2.K.weight\", \"blocks.3.mha.heads.2.K.bias\", \"blocks.3.mha.heads.2.V.weight\", \"blocks.3.mha.heads.2.V.bias\", \"blocks.3.mha.heads.3.Q.weight\", \"blocks.3.mha.heads.3.Q.bias\", \"blocks.3.mha.heads.3.K.weight\", \"blocks.3.mha.heads.3.K.bias\", \"blocks.3.mha.heads.3.V.weight\", \"blocks.3.mha.heads.3.V.bias\", \"blocks.3.mha.heads.4.Q.weight\", \"blocks.3.mha.heads.4.Q.bias\", \"blocks.3.mha.heads.4.K.weight\", \"blocks.3.mha.heads.4.K.bias\", \"blocks.3.mha.heads.4.V.weight\", \"blocks.3.mha.heads.4.V.bias\", \"blocks.3.mha.heads.5.Q.weight\", \"blocks.3.mha.heads.5.Q.bias\", \"blocks.3.mha.heads.5.K.weight\", \"blocks.3.mha.heads.5.K.bias\", \"blocks.3.mha.heads.5.V.weight\", \"blocks.3.mha.heads.5.V.bias\", \"blocks.3.mha.heads.6.Q.weight\", \"blocks.3.mha.heads.6.Q.bias\", \"blocks.3.mha.heads.6.K.weight\", \"blocks.3.mha.heads.6.K.bias\", \"blocks.3.mha.heads.6.V.weight\", \"blocks.3.mha.heads.6.V.bias\", \"blocks.3.mha.heads.7.Q.weight\", \"blocks.3.mha.heads.7.Q.bias\", \"blocks.3.mha.heads.7.K.weight\", \"blocks.3.mha.heads.7.K.bias\", \"blocks.3.mha.heads.7.V.weight\", \"blocks.3.mha.heads.7.V.bias\", \"blocks.3.mha.heads.8.Q.weight\", \"blocks.3.mha.heads.8.Q.bias\", \"blocks.3.mha.heads.8.K.weight\", \"blocks.3.mha.heads.8.K.bias\", \"blocks.3.mha.heads.8.V.weight\", \"blocks.3.mha.heads.8.V.bias\", \"blocks.3.mha.heads.9.Q.weight\", \"blocks.3.mha.heads.9.Q.bias\", \"blocks.3.mha.heads.9.K.weight\", \"blocks.3.mha.heads.9.K.bias\", \"blocks.3.mha.heads.9.V.weight\", \"blocks.3.mha.heads.9.V.bias\", \"blocks.3.mha.heads.10.Q.weight\", \"blocks.3.mha.heads.10.Q.bias\", \"blocks.3.mha.heads.10.K.weight\", \"blocks.3.mha.heads.10.K.bias\", \"blocks.3.mha.heads.10.V.weight\", \"blocks.3.mha.heads.10.V.bias\", \"blocks.3.mha.heads.11.Q.weight\", \"blocks.3.mha.heads.11.Q.bias\", \"blocks.3.mha.heads.11.K.weight\", \"blocks.3.mha.heads.11.K.bias\", \"blocks.3.mha.heads.11.V.weight\", \"blocks.3.mha.heads.11.V.bias\", \"blocks.3.mha.heads.12.Q.weight\", \"blocks.3.mha.heads.12.Q.bias\", \"blocks.3.mha.heads.12.K.weight\", \"blocks.3.mha.heads.12.K.bias\", \"blocks.3.mha.heads.12.V.weight\", \"blocks.3.mha.heads.12.V.bias\", \"blocks.3.mha.heads.13.Q.weight\", \"blocks.3.mha.heads.13.Q.bias\", \"blocks.3.mha.heads.13.K.weight\", \"blocks.3.mha.heads.13.K.bias\", \"blocks.3.mha.heads.13.V.weight\", \"blocks.3.mha.heads.13.V.bias\", \"blocks.3.mha.heads.14.Q.weight\", \"blocks.3.mha.heads.14.Q.bias\", \"blocks.3.mha.heads.14.K.weight\", \"blocks.3.mha.heads.14.K.bias\", \"blocks.3.mha.heads.14.V.weight\", \"blocks.3.mha.heads.14.V.bias\", \"blocks.3.mha.heads.15.Q.weight\", \"blocks.3.mha.heads.15.Q.bias\", \"blocks.3.mha.heads.15.K.weight\", \"blocks.3.mha.heads.15.K.bias\", \"blocks.3.mha.heads.15.V.weight\", \"blocks.3.mha.heads.15.V.bias\", \"blocks.3.mha.projection.weight\", \"blocks.3.mha.projection.bias\", \"blocks.3.feed_forward.net.0.weight\", \"blocks.3.feed_forward.net.0.bias\", \"blocks.3.feed_forward.net.2.weight\", \"blocks.3.feed_forward.net.2.bias\", \"blocks.3.ln1.weight\", \"blocks.3.ln1.bias\", \"blocks.3.ln2.weight\", \"blocks.3.ln2.bias\", \"blocks.4.mha.heads.0.Q.weight\", \"blocks.4.mha.heads.0.Q.bias\", \"blocks.4.mha.heads.0.K.weight\", \"blocks.4.mha.heads.0.K.bias\", \"blocks.4.mha.heads.0.V.weight\", \"blocks.4.mha.heads.0.V.bias\", \"blocks.4.mha.heads.1.Q.weight\", \"blocks.4.mha.heads.1.Q.bias\", \"blocks.4.mha.heads.1.K.weight\", \"blocks.4.mha.heads.1.K.bias\", \"blocks.4.mha.heads.1.V.weight\", \"blocks.4.mha.heads.1.V.bias\", \"blocks.4.mha.heads.2.Q.weight\", \"blocks.4.mha.heads.2.Q.bias\", \"blocks.4.mha.heads.2.K.weight\", \"blocks.4.mha.heads.2.K.bias\", \"blocks.4.mha.heads.2.V.weight\", \"blocks.4.mha.heads.2.V.bias\", \"blocks.4.mha.heads.3.Q.weight\", \"blocks.4.mha.heads.3.Q.bias\", \"blocks.4.mha.heads.3.K.weight\", \"blocks.4.mha.heads.3.K.bias\", \"blocks.4.mha.heads.3.V.weight\", \"blocks.4.mha.heads.3.V.bias\", \"blocks.4.mha.heads.4.Q.weight\", \"blocks.4.mha.heads.4.Q.bias\", \"blocks.4.mha.heads.4.K.weight\", \"blocks.4.mha.heads.4.K.bias\", \"blocks.4.mha.heads.4.V.weight\", \"blocks.4.mha.heads.4.V.bias\", \"blocks.4.mha.heads.5.Q.weight\", \"blocks.4.mha.heads.5.Q.bias\", \"blocks.4.mha.heads.5.K.weight\", \"blocks.4.mha.heads.5.K.bias\", \"blocks.4.mha.heads.5.V.weight\", \"blocks.4.mha.heads.5.V.bias\", \"blocks.4.mha.heads.6.Q.weight\", \"blocks.4.mha.heads.6.Q.bias\", \"blocks.4.mha.heads.6.K.weight\", \"blocks.4.mha.heads.6.K.bias\", \"blocks.4.mha.heads.6.V.weight\", \"blocks.4.mha.heads.6.V.bias\", \"blocks.4.mha.heads.7.Q.weight\", \"blocks.4.mha.heads.7.Q.bias\", \"blocks.4.mha.heads.7.K.weight\", \"blocks.4.mha.heads.7.K.bias\", \"blocks.4.mha.heads.7.V.weight\", \"blocks.4.mha.heads.7.V.bias\", \"blocks.4.mha.heads.8.Q.weight\", \"blocks.4.mha.heads.8.Q.bias\", \"blocks.4.mha.heads.8.K.weight\", \"blocks.4.mha.heads.8.K.bias\", \"blocks.4.mha.heads.8.V.weight\", \"blocks.4.mha.heads.8.V.bias\", \"blocks.4.mha.heads.9.Q.weight\", \"blocks.4.mha.heads.9.Q.bias\", \"blocks.4.mha.heads.9.K.weight\", \"blocks.4.mha.heads.9.K.bias\", \"blocks.4.mha.heads.9.V.weight\", \"blocks.4.mha.heads.9.V.bias\", \"blocks.4.mha.heads.10.Q.weight\", \"blocks.4.mha.heads.10.Q.bias\", \"blocks.4.mha.heads.10.K.weight\", \"blocks.4.mha.heads.10.K.bias\", \"blocks.4.mha.heads.10.V.weight\", \"blocks.4.mha.heads.10.V.bias\", \"blocks.4.mha.heads.11.Q.weight\", \"blocks.4.mha.heads.11.Q.bias\", \"blocks.4.mha.heads.11.K.weight\", \"blocks.4.mha.heads.11.K.bias\", \"blocks.4.mha.heads.11.V.weight\", \"blocks.4.mha.heads.11.V.bias\", \"blocks.4.mha.heads.12.Q.weight\", \"blocks.4.mha.heads.12.Q.bias\", \"blocks.4.mha.heads.12.K.weight\", \"blocks.4.mha.heads.12.K.bias\", \"blocks.4.mha.heads.12.V.weight\", \"blocks.4.mha.heads.12.V.bias\", \"blocks.4.mha.heads.13.Q.weight\", \"blocks.4.mha.heads.13.Q.bias\", \"blocks.4.mha.heads.13.K.weight\", \"blocks.4.mha.heads.13.K.bias\", \"blocks.4.mha.heads.13.V.weight\", \"blocks.4.mha.heads.13.V.bias\", \"blocks.4.mha.heads.14.Q.weight\", \"blocks.4.mha.heads.14.Q.bias\", \"blocks.4.mha.heads.14.K.weight\", \"blocks.4.mha.heads.14.K.bias\", \"blocks.4.mha.heads.14.V.weight\", \"blocks.4.mha.heads.14.V.bias\", \"blocks.4.mha.heads.15.Q.weight\", \"blocks.4.mha.heads.15.Q.bias\", \"blocks.4.mha.heads.15.K.weight\", \"blocks.4.mha.heads.15.K.bias\", \"blocks.4.mha.heads.15.V.weight\", \"blocks.4.mha.heads.15.V.bias\", \"blocks.4.mha.projection.weight\", \"blocks.4.mha.projection.bias\", \"blocks.4.feed_forward.net.0.weight\", \"blocks.4.feed_forward.net.0.bias\", \"blocks.4.feed_forward.net.2.weight\", \"blocks.4.feed_forward.net.2.bias\", \"blocks.4.ln1.weight\", \"blocks.4.ln1.bias\", \"blocks.4.ln2.weight\", \"blocks.4.ln2.bias\", \"blocks.5.mha.heads.0.Q.weight\", \"blocks.5.mha.heads.0.Q.bias\", \"blocks.5.mha.heads.0.K.weight\", \"blocks.5.mha.heads.0.K.bias\", \"blocks.5.mha.heads.0.V.weight\", \"blocks.5.mha.heads.0.V.bias\", \"blocks.5.mha.heads.1.Q.weight\", \"blocks.5.mha.heads.1.Q.bias\", \"blocks.5.mha.heads.1.K.weight\", \"blocks.5.mha.heads.1.K.bias\", \"blocks.5.mha.heads.1.V.weight\", \"blocks.5.mha.heads.1.V.bias\", \"blocks.5.mha.heads.2.Q.weight\", \"blocks.5.mha.heads.2.Q.bias\", \"blocks.5.mha.heads.2.K.weight\", \"blocks.5.mha.heads.2.K.bias\", \"blocks.5.mha.heads.2.V.weight\", \"blocks.5.mha.heads.2.V.bias\", \"blocks.5.mha.heads.3.Q.weight\", \"blocks.5.mha.heads.3.Q.bias\", \"blocks.5.mha.heads.3.K.weight\", \"blocks.5.mha.heads.3.K.bias\", \"blocks.5.mha.heads.3.V.weight\", \"blocks.5.mha.heads.3.V.bias\", \"blocks.5.mha.heads.4.Q.weight\", \"blocks.5.mha.heads.4.Q.bias\", \"blocks.5.mha.heads.4.K.weight\", \"blocks.5.mha.heads.4.K.bias\", \"blocks.5.mha.heads.4.V.weight\", \"blocks.5.mha.heads.4.V.bias\", \"blocks.5.mha.heads.5.Q.weight\", \"blocks.5.mha.heads.5.Q.bias\", \"blocks.5.mha.heads.5.K.weight\", \"blocks.5.mha.heads.5.K.bias\", \"blocks.5.mha.heads.5.V.weight\", \"blocks.5.mha.heads.5.V.bias\", \"blocks.5.mha.heads.6.Q.weight\", \"blocks.5.mha.heads.6.Q.bias\", \"blocks.5.mha.heads.6.K.weight\", \"blocks.5.mha.heads.6.K.bias\", \"blocks.5.mha.heads.6.V.weight\", \"blocks.5.mha.heads.6.V.bias\", \"blocks.5.mha.heads.7.Q.weight\", \"blocks.5.mha.heads.7.Q.bias\", \"blocks.5.mha.heads.7.K.weight\", \"blocks.5.mha.heads.7.K.bias\", \"blocks.5.mha.heads.7.V.weight\", \"blocks.5.mha.heads.7.V.bias\", \"blocks.5.mha.heads.8.Q.weight\", \"blocks.5.mha.heads.8.Q.bias\", \"blocks.5.mha.heads.8.K.weight\", \"blocks.5.mha.heads.8.K.bias\", \"blocks.5.mha.heads.8.V.weight\", \"blocks.5.mha.heads.8.V.bias\", \"blocks.5.mha.heads.9.Q.weight\", \"blocks.5.mha.heads.9.Q.bias\", \"blocks.5.mha.heads.9.K.weight\", \"blocks.5.mha.heads.9.K.bias\", \"blocks.5.mha.heads.9.V.weight\", \"blocks.5.mha.heads.9.V.bias\", \"blocks.5.mha.heads.10.Q.weight\", \"blocks.5.mha.heads.10.Q.bias\", \"blocks.5.mha.heads.10.K.weight\", \"blocks.5.mha.heads.10.K.bias\", \"blocks.5.mha.heads.10.V.weight\", \"blocks.5.mha.heads.10.V.bias\", \"blocks.5.mha.heads.11.Q.weight\", \"blocks.5.mha.heads.11.Q.bias\", \"blocks.5.mha.heads.11.K.weight\", \"blocks.5.mha.heads.11.K.bias\", \"blocks.5.mha.heads.11.V.weight\", \"blocks.5.mha.heads.11.V.bias\", \"blocks.5.mha.heads.12.Q.weight\", \"blocks.5.mha.heads.12.Q.bias\", \"blocks.5.mha.heads.12.K.weight\", \"blocks.5.mha.heads.12.K.bias\", \"blocks.5.mha.heads.12.V.weight\", \"blocks.5.mha.heads.12.V.bias\", \"blocks.5.mha.heads.13.Q.weight\", \"blocks.5.mha.heads.13.Q.bias\", \"blocks.5.mha.heads.13.K.weight\", \"blocks.5.mha.heads.13.K.bias\", \"blocks.5.mha.heads.13.V.weight\", \"blocks.5.mha.heads.13.V.bias\", \"blocks.5.mha.heads.14.Q.weight\", \"blocks.5.mha.heads.14.Q.bias\", \"blocks.5.mha.heads.14.K.weight\", \"blocks.5.mha.heads.14.K.bias\", \"blocks.5.mha.heads.14.V.weight\", \"blocks.5.mha.heads.14.V.bias\", \"blocks.5.mha.heads.15.Q.weight\", \"blocks.5.mha.heads.15.Q.bias\", \"blocks.5.mha.heads.15.K.weight\", \"blocks.5.mha.heads.15.K.bias\", \"blocks.5.mha.heads.15.V.weight\", \"blocks.5.mha.heads.15.V.bias\", \"blocks.5.mha.projection.weight\", \"blocks.5.mha.projection.bias\", \"blocks.5.feed_forward.net.0.weight\", \"blocks.5.feed_forward.net.0.bias\", \"blocks.5.feed_forward.net.2.weight\", \"blocks.5.feed_forward.net.2.bias\", \"blocks.5.ln1.weight\", \"blocks.5.ln1.bias\", \"blocks.5.ln2.weight\", \"blocks.5.ln2.bias\", \"blocks.0.mha.heads.1.Q.weight\", \"blocks.0.mha.heads.1.Q.bias\", \"blocks.0.mha.heads.1.K.weight\", \"blocks.0.mha.heads.1.K.bias\", \"blocks.0.mha.heads.1.V.weight\", \"blocks.0.mha.heads.1.V.bias\", \"blocks.0.mha.heads.2.Q.weight\", \"blocks.0.mha.heads.2.Q.bias\", \"blocks.0.mha.heads.2.K.weight\", \"blocks.0.mha.heads.2.K.bias\", \"blocks.0.mha.heads.2.V.weight\", \"blocks.0.mha.heads.2.V.bias\", \"blocks.0.mha.heads.3.Q.weight\", \"blocks.0.mha.heads.3.Q.bias\", \"blocks.0.mha.heads.3.K.weight\", \"blocks.0.mha.heads.3.K.bias\", \"blocks.0.mha.heads.3.V.weight\", \"blocks.0.mha.heads.3.V.bias\", \"blocks.0.mha.heads.4.Q.weight\", \"blocks.0.mha.heads.4.Q.bias\", \"blocks.0.mha.heads.4.K.weight\", \"blocks.0.mha.heads.4.K.bias\", \"blocks.0.mha.heads.4.V.weight\", \"blocks.0.mha.heads.4.V.bias\", \"blocks.0.mha.heads.5.Q.weight\", \"blocks.0.mha.heads.5.Q.bias\", \"blocks.0.mha.heads.5.K.weight\", \"blocks.0.mha.heads.5.K.bias\", \"blocks.0.mha.heads.5.V.weight\", \"blocks.0.mha.heads.5.V.bias\", \"blocks.0.mha.heads.6.Q.weight\", \"blocks.0.mha.heads.6.Q.bias\", \"blocks.0.mha.heads.6.K.weight\", \"blocks.0.mha.heads.6.K.bias\", \"blocks.0.mha.heads.6.V.weight\", \"blocks.0.mha.heads.6.V.bias\", \"blocks.0.mha.heads.7.Q.weight\", \"blocks.0.mha.heads.7.Q.bias\", \"blocks.0.mha.heads.7.K.weight\", \"blocks.0.mha.heads.7.K.bias\", \"blocks.0.mha.heads.7.V.weight\", \"blocks.0.mha.heads.7.V.bias\", \"blocks.0.mha.heads.8.Q.weight\", \"blocks.0.mha.heads.8.Q.bias\", \"blocks.0.mha.heads.8.K.weight\", \"blocks.0.mha.heads.8.K.bias\", \"blocks.0.mha.heads.8.V.weight\", \"blocks.0.mha.heads.8.V.bias\", \"blocks.0.mha.heads.9.Q.weight\", \"blocks.0.mha.heads.9.Q.bias\", \"blocks.0.mha.heads.9.K.weight\", \"blocks.0.mha.heads.9.K.bias\", \"blocks.0.mha.heads.9.V.weight\", \"blocks.0.mha.heads.9.V.bias\", \"blocks.0.mha.heads.10.Q.weight\", \"blocks.0.mha.heads.10.Q.bias\", \"blocks.0.mha.heads.10.K.weight\", \"blocks.0.mha.heads.10.K.bias\", \"blocks.0.mha.heads.10.V.weight\", \"blocks.0.mha.heads.10.V.bias\", \"blocks.0.mha.heads.11.Q.weight\", \"blocks.0.mha.heads.11.Q.bias\", \"blocks.0.mha.heads.11.K.weight\", \"blocks.0.mha.heads.11.K.bias\", \"blocks.0.mha.heads.11.V.weight\", \"blocks.0.mha.heads.11.V.bias\", \"blocks.0.mha.heads.12.Q.weight\", \"blocks.0.mha.heads.12.Q.bias\", \"blocks.0.mha.heads.12.K.weight\", \"blocks.0.mha.heads.12.K.bias\", \"blocks.0.mha.heads.12.V.weight\", \"blocks.0.mha.heads.12.V.bias\", \"blocks.0.mha.heads.13.Q.weight\", \"blocks.0.mha.heads.13.Q.bias\", \"blocks.0.mha.heads.13.K.weight\", \"blocks.0.mha.heads.13.K.bias\", \"blocks.0.mha.heads.13.V.weight\", \"blocks.0.mha.heads.13.V.bias\", \"blocks.0.mha.heads.14.Q.weight\", \"blocks.0.mha.heads.14.Q.bias\", \"blocks.0.mha.heads.14.K.weight\", \"blocks.0.mha.heads.14.K.bias\", \"blocks.0.mha.heads.14.V.weight\", \"blocks.0.mha.heads.14.V.bias\", \"blocks.0.mha.heads.15.Q.weight\", \"blocks.0.mha.heads.15.Q.bias\", \"blocks.0.mha.heads.15.K.weight\", \"blocks.0.mha.heads.15.K.bias\", \"blocks.0.mha.heads.15.V.weight\", \"blocks.0.mha.heads.15.V.bias\". \n\tsize mismatch for blocks.0.mha.heads.0.Q.weight: copying a param with shape torch.Size([32, 512]) from checkpoint, the shape in current model is torch.Size([512, 512]).\n\tsize mismatch for blocks.0.mha.heads.0.Q.bias: copying a param with shape torch.Size([32]) from checkpoint, the shape in current model is torch.Size([512]).\n\tsize mismatch for blocks.0.mha.heads.0.K.weight: copying a param with shape torch.Size([32, 512]) from checkpoint, the shape in current model is torch.Size([512, 512]).\n\tsize mismatch for blocks.0.mha.heads.0.K.bias: copying a param with shape torch.Size([32]) from checkpoint, the shape in current model is torch.Size([512]).\n\tsize mismatch for blocks.0.mha.heads.0.V.weight: copying a param with shape torch.Size([32, 512]) from checkpoint, the shape in current model is torch.Size([512, 512]).\n\tsize mismatch for blocks.0.mha.heads.0.V.bias: copying a param with shape torch.Size([32]) from checkpoint, the shape in current model is torch.Size([512])."
     ]
    }
   ],
   "source": [
    "blm.load_state_dict(torch.load(\"weight.pth\"))"
   ]
  },
  {
   "cell_type": "code",
   "execution_count": 79,
   "id": "0dd22de3",
   "metadata": {},
   "outputs": [
    {
     "name": "stdout",
     "output_type": "stream",
     "text": [
      "tensor([[ 4.9235e+00,  5.2436e+00, -5.5760e+00,  ..., -1.9069e+00,\n",
      "         -6.8754e-01, -4.3279e+00],\n",
      "        [ 2.6395e-01,  1.0988e+01, -9.1082e+00,  ..., -8.1945e-01,\n",
      "          1.8988e-02, -6.0349e+00],\n",
      "        [-5.1276e+00, -2.7756e-01, -7.7493e+00,  ..., -7.8942e-01,\n",
      "          1.8550e+00, -5.7235e+00],\n",
      "        ...,\n",
      "        [ 1.1628e+00,  4.2442e+00, -3.4044e+00,  ..., -1.9836e+00,\n",
      "          6.4581e-01, -2.5607e+00],\n",
      "        [-3.5277e+00,  3.6280e+00, -7.2505e+00,  ..., -8.2779e-03,\n",
      "         -1.4042e-01, -1.7086e+00],\n",
      "        [-5.1594e+00,  1.3357e+00, -7.0264e+00,  ...,  2.9148e+00,\n",
      "         -2.9007e+00, -2.8000e+00]], device='cuda:0', grad_fn=<AddmmBackward0>)\n",
      "\n",
      "  che' la diritta via era smarragne non denti,\n",
      "  questannonto,\n",
      "  no fura no, elle\n"
     ]
    }
   ],
   "source": [
    "blm.eval()\n",
    "print(blm(train_ds[100][0].to(device)))\n",
    "generated_tokens = blm.generate(train_ds[100][0].to(device),max_new_token=50)\n",
    "generated_tokens = generated_tokens.tolist()\n",
    "generated_text = train_ds.decode(generated_tokens)\n",
    "print(generated_text)"
   ]
  },
  {
   "attachments": {},
   "cell_type": "markdown",
   "id": "68441a09-dfaf-424a-b640-4fc8cea289b5",
   "metadata": {},
   "source": [
    "# Exercise 2: Working with Real LLMs\n",
    "\n",
    "Our toy GPT can only take us so far. In this exercise we will see how to use the [Hugging Face](https://huggingface.co/) model and dataset ecosystem to access a *huge* variety of pre-trained transformer models.\n",
    "\n",
    "## Exercise 2.1: Installation and text tokenization\n",
    "\n",
    "First things first, we need to install the [Hugging Face transformer library](https://huggingface.co/docs/transformers/index):\n",
    "\n",
    "    conda install -c huggingface -c conda-forge transformers\n",
    "    \n",
    "The key classes that you will work with are `GPT2Tokenizer` to encode text into sub-word tokens, and the `GPT2LMHeadModel`. **Note** the `LMHead` part of the class name -- this is the version of the GPT2 architecture that has the text prediction heads attached to the final hidden layer representations (i.e. what we need to **generate** text). \n",
    "\n",
    "Instantiate the `GPT2Tokenizer` and experiment with encoding text into integer tokens. Compare the length of input with the encoded sequence length.\n",
    "\n",
    "**Tip**: Pass the `return_tensors='pt'` argument to the togenizer to get Pytorch tensors as output (instead of lists)."
   ]
  },
  {
   "cell_type": "code",
   "execution_count": 98,
   "id": "af199a6d-1f3a-4b2c-a23f-d697b93c5adb",
   "metadata": {
    "tags": []
   },
   "outputs": [],
   "source": [
    "# Your code here.\n",
    "from transformers import GPT2Tokenizer\n",
    "tokenizer = GPT2Tokenizer.from_pretrained(\"gpt2\")"
   ]
  },
  {
   "cell_type": "code",
   "execution_count": 99,
   "id": "d82a46e0",
   "metadata": {},
   "outputs": [
    {
     "name": "stdout",
     "output_type": "stream",
     "text": [
      "torch.Size([1, 7])\n"
     ]
    }
   ],
   "source": [
    "text = \"My first GPT2 encoded text\"\n",
    "encoded_text = tokenizer.encode(text, return_tensors='pt')\n",
    "print(encoded_text.shape) # expected shape [1 X]"
   ]
  },
  {
   "cell_type": "code",
   "execution_count": 100,
   "id": "bd05b3e0",
   "metadata": {},
   "outputs": [
    {
     "name": "stdout",
     "output_type": "stream",
     "text": [
      "My first GPT2 encoded text\n",
      "My\n",
      " first\n",
      " G\n",
      "PT\n",
      "2\n",
      " encoded\n",
      " text\n"
     ]
    }
   ],
   "source": [
    "print(tokenizer.decode(encoded_text[0]))\n",
    "for i in range(encoded_text.shape[1]):\n",
    "    print(tokenizer.decode(encoded_text[0, i]))"
   ]
  },
  {
   "attachments": {},
   "cell_type": "markdown",
   "id": "a458b725-63c1-49ae-8011-71a9196387b8",
   "metadata": {},
   "source": [
    "## Exercise 2.2: Generating Text\n",
    "\n",
    "There are a lot of ways we can, given a *prompt* in input, sample text from a GPT2 model. Instantiate a pre-trained `GPT2LMHeadModel` and use the [`generate()`](https://huggingface.co/docs/transformers/v4.27.2/en/main_classes/text_generation#transformers.GenerationMixin.generate) method to generate text from a prompt.\n",
    "\n",
    "**Note**: The default inference mode for GPT2 is *greedy* which might not results in satisfying generated text. Look at the `do_sample` and `temperature` parameters."
   ]
  },
  {
   "cell_type": "code",
   "execution_count": 101,
   "id": "bdad9208-cc9e-4750-baa5-f9367e71362a",
   "metadata": {
    "tags": []
   },
   "outputs": [],
   "source": [
    "# Your code here.\n",
    "from transformers import GPT2LMHeadModel\n",
    "model = GPT2LMHeadModel.from_pretrained(\"gpt2\")"
   ]
  },
  {
   "cell_type": "code",
   "execution_count": 102,
   "id": "78d6f226",
   "metadata": {},
   "outputs": [
    {
     "name": "stderr",
     "output_type": "stream",
     "text": [
      "The attention mask and the pad token id were not set. As a consequence, you may observe unexpected behavior. Please pass your input's `attention_mask` to obtain reliable results.\n",
      "Setting `pad_token_id` to `eos_token_id`:50256 for open-end generation.\n",
      "A decoder-only architecture is being used, but right-padding was detected! For correct generation results, please set `padding_side='left'` when initializing the tokenizer.\n",
      "/home/manu/miniconda3/lib/python3.10/site-packages/transformers/generation/utils.py:1353: UserWarning: Using `max_length`'s default (20) to control the generation length. This behaviour is deprecated and will be removed from the config in v5 of Transformers -- we recommend using `max_new_tokens` to control the maximum length of the generation.\n",
      "  warnings.warn(\n"
     ]
    },
    {
     "name": "stdout",
     "output_type": "stream",
     "text": [
      "tensor([[50256,   198,   464,   717,   640,   314,  2497,   262,   649,  2196,\n",
      "           286,   262,   983,    11,   314,   373,   523,  6568,    13,   314]])\n"
     ]
    }
   ],
   "source": [
    "generated = model.generate()\n",
    "print(generated)"
   ]
  },
  {
   "cell_type": "code",
   "execution_count": 103,
   "id": "2d436f9b",
   "metadata": {},
   "outputs": [
    {
     "name": "stdout",
     "output_type": "stream",
     "text": [
      "<|endoftext|>\n",
      "The first time I saw the new version of the game, I was so excited. I\n"
     ]
    }
   ],
   "source": [
    "print(tokenizer.decode(generated[0]))"
   ]
  },
  {
   "attachments": {},
   "cell_type": "markdown",
   "id": "9b3d00e7-d4db-440f-8702-11118f07b0a4",
   "metadata": {},
   "source": [
    "# Exercise 3: Reusing Pre-trained LLMs (choose one)\n",
    "\n",
    "Choose **one** of the following exercises (well, *at least* one). In each of these you are asked to adapt a pre-trained LLM (`GPT2Model` or `DistillBERT` are two good choices) to a new Natural Language Understanding task. A few comments:\n",
    "\n",
    "+ Since GPT2 is a *autoregressive* model, there is no latent space aggregation at the last transformer layer (you get the same number of tokens out that you give in input). To use a pre-trained model for a classification or retrieval task, you should aggregate these tokens somehow (or opportunistically select *one* to use).\n",
    "\n",
    "+ BERT models (including DistillBERT) have a special [CLS] token prepended to each latent representation in output from a self-attention block. You can directly use this as a representation for classification (or retrieval).\n",
    "\n",
    "+ The first *two* exercises below can probably be done *without* any fine-tuning -- that is, just training a shallow MLP to classify or represent with the appropriate loss function.\n",
    "\n",
    "# Exercise 3.1: Training a Text Classifier (easy)\n",
    "\n",
    "Peruse the [text classification datasets on Hugging Face](https://huggingface.co/datasets?task_categories=task_categories:text-classification&sort=downloads). Choose a *moderately* sized dataset and use a LLM to train a classifier to solve the problem.\n",
    "\n",
    "**Note**: A good first baseline for this problem is certainly to use an LLM *exclusively* as a feature extractor and then train a shallow model.\n",
    "\n",
    "# Exercise 3.2: Training a Question Answering Model (harder)\n",
    "\n",
    "Peruse the [multiple choice question answering datasets on Hugging Face](https://huggingface.co/datasets?task_categories=task_categories:multiple-choice&sort=downloads). Chose a *moderately* sized one and train a model to answer contextualized multiple-choice questions. You *might* be able to avoid fine-tuning by training a simple model to *rank* the multiple choices (see margin ranking loss in Pytorch).\n",
    "\n",
    "# Exercise 3.3: Training a Retrieval Model (hardest)\n",
    "\n",
    "The Hugging Face dataset repository contains a large number of [\"text retrieval\" problems](https://huggingface.co/datasets?task_categories=task_categories:text-retrieval&p=1&sort=downloads). These tasks generally require that the model measure *similarity* between text in some metric space -- naively, just a cosine similarity between [CLS] tokens can get you pretty far. Find an interesting retrieval problem and train a model (starting from a pre-trained LLM of course) to solve it.\n",
    "\n",
    "**Tip**: Sometimes identifying the *retrieval* problems in these datasets can be half the challenge. [This dataset](https://huggingface.co/datasets/BeIR/scifact) might be a good starting point.\n",
    "\n",
    "# Exercise 1:\n",
    "## Dataset exploration"
   ]
  },
  {
   "cell_type": "code",
   "execution_count": 5,
   "id": "987e8300",
   "metadata": {},
   "outputs": [
    {
     "name": "stderr",
     "output_type": "stream",
     "text": [
      "Found cached dataset rotten_tomatoes (/home/manu/.cache/huggingface/datasets/rotten_tomatoes/default-data_dir=~%2Fdatasets/1.0.0/40d411e45a6ce3484deed7cc15b82a53dad9a72aafd9f86f8f227134bec5ca46)\n",
      "100%|██████████| 3/3 [00:00<00:00, 810.39it/s]\n"
     ]
    }
   ],
   "source": [
    "from datasets import load_dataset\n",
    "dataset = load_dataset(\"rotten_tomatoes\", data_dir=\"~/datasets\")"
   ]
  },
  {
   "cell_type": "code",
   "execution_count": 8,
   "id": "69872353",
   "metadata": {},
   "outputs": [
    {
     "name": "stdout",
     "output_type": "stream",
     "text": [
      "DatasetDict({\n",
      "    train: Dataset({\n",
      "        features: ['text', 'label'],\n",
      "        num_rows: 8530\n",
      "    })\n",
      "    validation: Dataset({\n",
      "        features: ['text', 'label'],\n",
      "        num_rows: 1066\n",
      "    })\n",
      "    test: Dataset({\n",
      "        features: ['text', 'label'],\n",
      "        num_rows: 1066\n",
      "    })\n",
      "})\n"
     ]
    }
   ],
   "source": [
    "print(dataset)"
   ]
  },
  {
   "cell_type": "code",
   "execution_count": 14,
   "id": "a62a5e1f",
   "metadata": {},
   "outputs": [
    {
     "data": {
      "text/plain": [
       "{'text': 'the rock is destined to be the 21st century\\'s new \" conan \" and that he\\'s going to make a splash even greater than arnold schwarzenegger , jean-claud van damme or steven segal .',\n",
       " 'label': 1}"
      ]
     },
     "execution_count": 14,
     "metadata": {},
     "output_type": "execute_result"
    }
   ],
   "source": [
    "dataset['train'][0]\n"
   ]
  },
  {
   "cell_type": "code",
   "execution_count": 28,
   "id": "9799c7e3",
   "metadata": {},
   "outputs": [],
   "source": [
    "from torch.utils.data import Dataset, DataLoader\n",
    "\n",
    "class RottenTomatoes(Dataset):\n",
    "\n",
    "    def __init__(self, tokenizer, split: str = \"train\" or \"validation\" or \"test\") -> None:\n",
    "        super().__init__()\n",
    "        rt = load_dataset(\"rotten_tomatoes\", data_dir=\"~/datasets\")\n",
    "        self.data = rt[split]\n",
    "\n",
    "    def __len__(self) -> int: return len(self.data)\n",
    "\n",
    "    def __getitem__(self, index) -> tuple[str, int]: return tokenizer.encode(self.data[index]['text'], return_tensors='pt'), torch.Tensor(self.data[index]['label']).int()"
   ]
  },
  {
   "cell_type": "code",
   "execution_count": 31,
   "id": "63dd0c8c",
   "metadata": {},
   "outputs": [
    {
     "name": "stderr",
     "output_type": "stream",
     "text": [
      "loading file vocab.json from cache at /home/manu/.cache/huggingface/hub/models--gpt2/snapshots/11c5a3d5811f50298f278a704980280950aedb10/vocab.json\n",
      "loading file merges.txt from cache at /home/manu/.cache/huggingface/hub/models--gpt2/snapshots/11c5a3d5811f50298f278a704980280950aedb10/merges.txt\n",
      "loading file added_tokens.json from cache at None\n",
      "loading file special_tokens_map.json from cache at None\n",
      "loading file tokenizer_config.json from cache at None\n",
      "loading configuration file config.json from cache at /home/manu/.cache/huggingface/hub/models--gpt2/snapshots/11c5a3d5811f50298f278a704980280950aedb10/config.json\n",
      "Model config GPT2Config {\n",
      "  \"_name_or_path\": \"gpt2\",\n",
      "  \"activation_function\": \"gelu_new\",\n",
      "  \"architectures\": [\n",
      "    \"GPT2LMHeadModel\"\n",
      "  ],\n",
      "  \"attn_pdrop\": 0.1,\n",
      "  \"bos_token_id\": 50256,\n",
      "  \"embd_pdrop\": 0.1,\n",
      "  \"eos_token_id\": 50256,\n",
      "  \"initializer_range\": 0.02,\n",
      "  \"layer_norm_epsilon\": 1e-05,\n",
      "  \"model_type\": \"gpt2\",\n",
      "  \"n_ctx\": 1024,\n",
      "  \"n_embd\": 768,\n",
      "  \"n_head\": 12,\n",
      "  \"n_inner\": null,\n",
      "  \"n_layer\": 12,\n",
      "  \"n_positions\": 1024,\n",
      "  \"reorder_and_upcast_attn\": false,\n",
      "  \"resid_pdrop\": 0.1,\n",
      "  \"scale_attn_by_inverse_layer_idx\": false,\n",
      "  \"scale_attn_weights\": true,\n",
      "  \"summary_activation\": null,\n",
      "  \"summary_first_dropout\": 0.1,\n",
      "  \"summary_proj_to_labels\": true,\n",
      "  \"summary_type\": \"cls_index\",\n",
      "  \"summary_use_proj\": true,\n",
      "  \"task_specific_params\": {\n",
      "    \"text-generation\": {\n",
      "      \"do_sample\": true,\n",
      "      \"max_length\": 50\n",
      "    }\n",
      "  },\n",
      "  \"transformers_version\": \"4.30.2\",\n",
      "  \"use_cache\": true,\n",
      "  \"vocab_size\": 50257\n",
      "}\n",
      "\n",
      "Found cached dataset rotten_tomatoes (/home/manu/.cache/huggingface/datasets/rotten_tomatoes/default-data_dir=~%2Fdatasets/1.0.0/40d411e45a6ce3484deed7cc15b82a53dad9a72aafd9f86f8f227134bec5ca46)\n",
      "100%|██████████| 3/3 [00:00<00:00, 766.04it/s]\n"
     ]
    }
   ],
   "source": [
    "from transformers import GPT2Tokenizer\n",
    "tokenizer = GPT2Tokenizer.from_pretrained(\"gpt2\")\n",
    "train_ds = RottenTomatoes(tokenizer)"
   ]
  },
  {
   "cell_type": "code",
   "execution_count": 32,
   "id": "d2d1ab21",
   "metadata": {},
   "outputs": [
    {
     "data": {
      "text/plain": [
       "8530"
      ]
     },
     "execution_count": 32,
     "metadata": {},
     "output_type": "execute_result"
    }
   ],
   "source": [
    "len(train_ds)"
   ]
  },
  {
   "cell_type": "code",
   "execution_count": 36,
   "id": "52b39fb1",
   "metadata": {},
   "outputs": [
    {
     "data": {
      "text/plain": [
       "torch.Size([1, 53])"
      ]
     },
     "execution_count": 36,
     "metadata": {},
     "output_type": "execute_result"
    }
   ],
   "source": [
    "train_ds[1][0].shape"
   ]
  },
  {
   "cell_type": "code",
   "execution_count": 34,
   "id": "7b7e2802",
   "metadata": {},
   "outputs": [
    {
     "name": "stderr",
     "output_type": "stream",
     "text": [
      "loading configuration file config.json from cache at /home/manu/.cache/huggingface/hub/models--gpt2/snapshots/11c5a3d5811f50298f278a704980280950aedb10/config.json\n",
      "Model config GPT2Config {\n",
      "  \"activation_function\": \"gelu_new\",\n",
      "  \"architectures\": [\n",
      "    \"GPT2LMHeadModel\"\n",
      "  ],\n",
      "  \"attn_pdrop\": 0.1,\n",
      "  \"bos_token_id\": 50256,\n",
      "  \"embd_pdrop\": 0.1,\n",
      "  \"eos_token_id\": 50256,\n",
      "  \"initializer_range\": 0.02,\n",
      "  \"layer_norm_epsilon\": 1e-05,\n",
      "  \"model_type\": \"gpt2\",\n",
      "  \"n_ctx\": 1024,\n",
      "  \"n_embd\": 768,\n",
      "  \"n_head\": 12,\n",
      "  \"n_inner\": null,\n",
      "  \"n_layer\": 12,\n",
      "  \"n_positions\": 1024,\n",
      "  \"reorder_and_upcast_attn\": false,\n",
      "  \"resid_pdrop\": 0.1,\n",
      "  \"scale_attn_by_inverse_layer_idx\": false,\n",
      "  \"scale_attn_weights\": true,\n",
      "  \"summary_activation\": null,\n",
      "  \"summary_first_dropout\": 0.1,\n",
      "  \"summary_proj_to_labels\": true,\n",
      "  \"summary_type\": \"cls_index\",\n",
      "  \"summary_use_proj\": true,\n",
      "  \"task_specific_params\": {\n",
      "    \"text-generation\": {\n",
      "      \"do_sample\": true,\n",
      "      \"max_length\": 50\n",
      "    }\n",
      "  },\n",
      "  \"transformers_version\": \"4.30.2\",\n",
      "  \"use_cache\": true,\n",
      "  \"vocab_size\": 50257\n",
      "}\n",
      "\n",
      "loading weights file model.safetensors from cache at /home/manu/.cache/huggingface/hub/models--gpt2/snapshots/11c5a3d5811f50298f278a704980280950aedb10/model.safetensors\n",
      "All model checkpoint weights were used when initializing GPT2Model.\n",
      "\n",
      "All the weights of GPT2Model were initialized from the model checkpoint at gpt2.\n",
      "If your task is similar to the task the model of the checkpoint was trained on, you can already use GPT2Model for predictions without further training.\n"
     ]
    }
   ],
   "source": [
    "from transformers import GPT2Model\n",
    "\n",
    "gpt2 = GPT2Model.from_pretrained(\"gpt2\")"
   ]
  },
  {
   "cell_type": "code",
   "execution_count": 47,
   "id": "75cdd66f",
   "metadata": {},
   "outputs": [
    {
     "data": {
      "text/plain": [
       "tensor([[[-0.0518,  0.1207, -0.4284,  ..., -0.0340, -0.0397, -0.1079],\n",
       "         [-0.4345,  0.2382, -0.6182,  ...,  0.1135,  0.3325,  0.0097],\n",
       "         [-0.5839,  0.0889, -0.8555,  ..., -0.1169,  0.4172,  0.5132],\n",
       "         ...,\n",
       "         [-0.1124, -0.2327, -0.8494,  ..., -0.2287,  0.4269,  0.3823],\n",
       "         [-0.0653, -0.2508, -0.8165,  ..., -0.2782,  0.4119,  0.3119],\n",
       "         [-0.0328, -0.2671, -0.7836,  ..., -0.3210,  0.4001,  0.2521]]],\n",
       "       grad_fn=<ViewBackward0>)"
      ]
     },
     "execution_count": 47,
     "metadata": {},
     "output_type": "execute_result"
    }
   ],
   "source": [
    "import torch\n",
    "e = gpt2(torch.ones((1, 10)).int())\n",
    "e.last_hidden_state"
   ]
  },
  {
   "cell_type": "code",
   "execution_count": 42,
   "id": "d4ff3a53",
   "metadata": {},
   "outputs": [
    {
     "ename": "TypeError",
     "evalue": "new(): data must be a sequence (got BaseModelOutputWithPastAndCrossAttentions)",
     "output_type": "error",
     "traceback": [
      "\u001b[0;31m---------------------------------------------------------------------------\u001b[0m",
      "\u001b[0;31mTypeError\u001b[0m                                 Traceback (most recent call last)",
      "Cell \u001b[0;32mIn[42], line 1\u001b[0m\n\u001b[0;32m----> 1\u001b[0m torch\u001b[39m.\u001b[39;49mTensor(e)\n",
      "\u001b[0;31mTypeError\u001b[0m: new(): data must be a sequence (got BaseModelOutputWithPastAndCrossAttentions)"
     ]
    }
   ],
   "source": [
    "torch.Tensor(e)"
   ]
  },
  {
   "cell_type": "markdown",
   "id": "40a51fd2",
   "metadata": {},
   "source": [
    "# Compound model"
   ]
  },
  {
   "cell_type": "code",
   "execution_count": 48,
   "id": "a54642f5",
   "metadata": {},
   "outputs": [
    {
     "name": "stderr",
     "output_type": "stream",
     "text": [
      "loading configuration file config.json from cache at /home/manu/.cache/huggingface/hub/models--gpt2/snapshots/11c5a3d5811f50298f278a704980280950aedb10/config.json\n",
      "Model config GPT2Config {\n",
      "  \"activation_function\": \"gelu_new\",\n",
      "  \"architectures\": [\n",
      "    \"GPT2LMHeadModel\"\n",
      "  ],\n",
      "  \"attn_pdrop\": 0.1,\n",
      "  \"bos_token_id\": 50256,\n",
      "  \"embd_pdrop\": 0.1,\n",
      "  \"eos_token_id\": 50256,\n",
      "  \"initializer_range\": 0.02,\n",
      "  \"layer_norm_epsilon\": 1e-05,\n",
      "  \"model_type\": \"gpt2\",\n",
      "  \"n_ctx\": 1024,\n",
      "  \"n_embd\": 768,\n",
      "  \"n_head\": 12,\n",
      "  \"n_inner\": null,\n",
      "  \"n_layer\": 12,\n",
      "  \"n_positions\": 1024,\n",
      "  \"reorder_and_upcast_attn\": false,\n",
      "  \"resid_pdrop\": 0.1,\n",
      "  \"scale_attn_by_inverse_layer_idx\": false,\n",
      "  \"scale_attn_weights\": true,\n",
      "  \"summary_activation\": null,\n",
      "  \"summary_first_dropout\": 0.1,\n",
      "  \"summary_proj_to_labels\": true,\n",
      "  \"summary_type\": \"cls_index\",\n",
      "  \"summary_use_proj\": true,\n",
      "  \"task_specific_params\": {\n",
      "    \"text-generation\": {\n",
      "      \"do_sample\": true,\n",
      "      \"max_length\": 50\n",
      "    }\n",
      "  },\n",
      "  \"transformers_version\": \"4.30.2\",\n",
      "  \"use_cache\": true,\n",
      "  \"vocab_size\": 50257\n",
      "}\n",
      "\n",
      "loading weights file model.safetensors from cache at /home/manu/.cache/huggingface/hub/models--gpt2/snapshots/11c5a3d5811f50298f278a704980280950aedb10/model.safetensors\n",
      "All model checkpoint weights were used when initializing GPT2Model.\n",
      "\n",
      "All the weights of GPT2Model were initialized from the model checkpoint at gpt2.\n",
      "If your task is similar to the task the model of the checkpoint was trained on, you can already use GPT2Model for predictions without further training.\n"
     ]
    },
    {
     "data": {
      "text/plain": [
       "tensor([[[ 0.2263, -0.0585],\n",
       "         [ 0.4085, -0.0554],\n",
       "         [ 0.6421,  0.0781],\n",
       "         [ 0.3553, -0.0552],\n",
       "         [ 0.6362,  0.0658],\n",
       "         [ 0.6287,  0.0062],\n",
       "         [ 0.5859,  0.1825],\n",
       "         [ 0.4397, -0.0645],\n",
       "         [ 0.4745, -0.0339],\n",
       "         [ 0.6261,  0.0368],\n",
       "         [ 0.5554,  0.1491],\n",
       "         [ 0.5346,  0.0923],\n",
       "         [ 0.4099, -0.0601],\n",
       "         [ 0.4132, -0.1270],\n",
       "         [ 0.4363, -0.0686],\n",
       "         [ 0.5039, -0.0554],\n",
       "         [ 0.6482,  0.1256],\n",
       "         [ 0.6878,  0.1690],\n",
       "         [ 0.7173, -0.0085],\n",
       "         [ 0.7954,  0.1519],\n",
       "         [ 0.5543, -0.5403],\n",
       "         [ 0.8105,  0.1334],\n",
       "         [ 0.7357,  0.1074],\n",
       "         [ 0.8507,  0.1879],\n",
       "         [ 0.6918, -0.0159],\n",
       "         [ 0.7450,  0.1191],\n",
       "         [ 0.7054, -0.0127],\n",
       "         [ 0.7389,  0.1880],\n",
       "         [ 0.5197, -0.0326],\n",
       "         [ 0.4869, -0.1026],\n",
       "         [ 0.4730, -0.0271],\n",
       "         [ 0.6679, -0.0298],\n",
       "         [ 0.4223,  0.0756],\n",
       "         [ 0.4829, -0.0700],\n",
       "         [ 0.5800, -0.0576],\n",
       "         [ 0.6235, -0.0228],\n",
       "         [ 0.5698, -0.1080],\n",
       "         [ 0.4992, -0.0566],\n",
       "         [ 0.4755, -0.0681],\n",
       "         [ 0.6207, -0.0370],\n",
       "         [ 0.3415,  0.0155],\n",
       "         [ 0.4851,  0.0309],\n",
       "         [ 0.5043, -0.0305],\n",
       "         [ 0.4489,  0.0054],\n",
       "         [ 0.5909,  0.0524],\n",
       "         [ 0.5811, -0.0816],\n",
       "         [ 0.4130,  0.0458],\n",
       "         [ 0.5517, -0.0403],\n",
       "         [ 0.4996, -0.0089],\n",
       "         [ 0.7152,  0.0888]]], grad_fn=<ViewBackward0>)"
      ]
     },
     "execution_count": 48,
     "metadata": {},
     "output_type": "execute_result"
    }
   ],
   "source": [
    "import torch.nn as nn\n",
    "class TextClassifier(nn.Module):\n",
    "\n",
    "    def __init__(self, n_classes: int = 2) -> None:\n",
    "        super(TextClassifier, self).__init__()\n",
    "        self.encoder = GPT2Model.from_pretrained('gpt2')\n",
    "        self.head = nn.Sequential(\n",
    "            nn.Linear(self.encoder.embed_dim, self.encoder.embed_dim * 4),\n",
    "            nn.ReLU(),\n",
    "            nn.Linear(self.encoder.embed_dim * 4, self.encoder.embed_dim),\n",
    "            nn.ReLU(),\n",
    "            nn.Linear(self.encoder.embed_dim, n_classes)\n",
    "        )\n",
    "\n",
    "    def forward(self, X):\n",
    "        with torch.no_grad():\n",
    "            X = self.encoder(X).last_hidden_state\n",
    "        return self.head(X)\n",
    "    \n",
    "tc = TextClassifier()\n",
    "tc(train_ds[0][0])"
   ]
  },
  {
   "cell_type": "code",
   "execution_count": null,
   "id": "cb5eefe5",
   "metadata": {},
   "outputs": [],
   "source": [
    "def validation(model, dl, loss):\n",
    "    val_loss = 0\n",
    "    accs = 0\n",
    "    for x, y in tqdm(train_dl, \"Validation\", leave=False):\n",
    "        x, y = x.to(device), y.to(device)\n",
    "        logits = model(x)\n",
    "        lss = loss(logits, y)\n",
    "\n",
    "        lss.backward()\n",
    "\n",
    "\n",
    "def train(model, train_dl, val_dl, loss, optim, epochs):\n",
    "    for t in range(1, epochs + 1):\n",
    "        for x, y in tqdm(train_dl, f\"Epoch #{t}\", leave=False):\n",
    "            x, y = x.to(device), y.to(device)\n",
    "            logits = model(x)\n",
    "            lss = loss(logits, y)\n",
    "\n",
    "            optim.zero_grad()\n",
    "            lss.backward()\n",
    "            optim.step()\n",
    "\n"
   ]
  }
 ],
 "metadata": {
  "kernelspec": {
   "display_name": "Python 3 (ipykernel)",
   "language": "python",
   "name": "python3"
  },
  "language_info": {
   "codemirror_mode": {
    "name": "ipython",
    "version": 3
   },
   "file_extension": ".py",
   "mimetype": "text/x-python",
   "name": "python",
   "nbconvert_exporter": "python",
   "pygments_lexer": "ipython3",
   "version": "3.10.10"
  }
 },
 "nbformat": 4,
 "nbformat_minor": 5
}
